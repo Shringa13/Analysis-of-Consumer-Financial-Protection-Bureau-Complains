{
 "cells": [
  {
   "cell_type": "markdown",
   "metadata": {},
   "source": [
    "## Import Packages"
   ]
  },
  {
   "cell_type": "code",
   "execution_count": 1,
   "metadata": {
    "collapsed": true
   },
   "outputs": [],
   "source": [
    "import pandas as pd\n",
    "import numpy as np\n",
    "import matplotlib.pyplot as plt\n",
    "from collections import Counter, defaultdict\n",
    "import seaborn as sns\n",
    "import gc\n",
    "import re\n",
    "import warnings\n",
    "\n",
    "warnings.filterwarnings(\"ignore\")"
   ]
  },
  {
   "cell_type": "code",
   "execution_count": 2,
   "metadata": {
    "collapsed": true
   },
   "outputs": [],
   "source": [
    "from string import punctuation"
   ]
  },
  {
   "cell_type": "code",
   "execution_count": 3,
   "metadata": {
    "collapsed": true
   },
   "outputs": [],
   "source": [
    "# vstack - adds rows, hstack - adds columns\n",
    "# csr_matrix - used to handle sparse matrix\n",
    "from scipy.sparse import vstack, hstack, csr_matrix"
   ]
  },
  {
   "cell_type": "code",
   "execution_count": 4,
   "metadata": {
    "collapsed": true
   },
   "outputs": [],
   "source": [
    "# CountVectorizer - Simply, counts word frequencies \n",
    "# TFIDF - More importance/weights on \"rare\" words. Less importance/weights on \"frequent\" words\n",
    "from sklearn.feature_extraction.text import CountVectorizer, TfidfVectorizer"
   ]
  },
  {
   "cell_type": "code",
   "execution_count": 5,
   "metadata": {
    "collapsed": true
   },
   "outputs": [],
   "source": [
    "# LabelBinarizer - Converts labels into numerical representation \"G,B,R\" -> [1,2,3]\n",
    "from sklearn.preprocessing import LabelBinarizer"
   ]
  },
  {
   "cell_type": "code",
   "execution_count": 6,
   "metadata": {},
   "outputs": [
    {
     "name": "stderr",
     "output_type": "stream",
     "text": [
      "C:\\Users\\Shringa\\Anaconda3\\lib\\site-packages\\sklearn\\cross_validation.py:44: DeprecationWarning: This module was deprecated in version 0.18 in favor of the model_selection module into which all the refactored classes and functions are moved. Also note that the interface of the new CV iterators are different from that of this module. This module will be removed in 0.20.\n",
      "  \"This module will be removed in 0.20.\", DeprecationWarning)\n"
     ]
    }
   ],
   "source": [
    "# Ridge - Reduces multicollinearity in regression. Applies L2 Regularization\n",
    "from sklearn.linear_model import Ridge\n",
    "from sklearn.cross_validation import train_test_split\n",
    "\n",
    "%matplotlib inline"
   ]
  },
  {
   "cell_type": "code",
   "execution_count": 7,
   "metadata": {},
   "outputs": [
    {
     "data": {
      "text/plain": [
       "'\\n#importing packages\\nfrom collections import Counter, defaultdict\\nimport math\\nimport json\\nimport numpy as np\\nimport os\\nimport pandas as pd\\nimport re\\nimport pydotplus\\nfrom sklearn import tree, preprocessing\\nfrom sklearn_pandas import DataFrameMapper, cross_val_score\\nfrom nltk.corpus import stopwords\\nfrom nltk.stem.snowball import SnowballStemmer\\nfrom scipy.sparse import csr_matrix\\nfrom IPython.display import Image  \\n\\n'"
      ]
     },
     "execution_count": 7,
     "metadata": {},
     "output_type": "execute_result"
    }
   ],
   "source": [
    "\"\"\"\n",
    "#importing packages\n",
    "from collections import Counter, defaultdict\n",
    "import math\n",
    "import json\n",
    "import numpy as np\n",
    "import os\n",
    "import pandas as pd\n",
    "import re\n",
    "import pydotplus\n",
    "from sklearn import tree, preprocessing\n",
    "from sklearn_pandas import DataFrameMapper, cross_val_score\n",
    "from nltk.corpus import stopwords\n",
    "from nltk.stem.snowball import SnowballStemmer\n",
    "from scipy.sparse import csr_matrix\n",
    "from IPython.display import Image  \n",
    "\n",
    "\"\"\""
   ]
  },
  {
   "cell_type": "markdown",
   "metadata": {},
   "source": [
    "## Reading the data"
   ]
  },
  {
   "cell_type": "code",
   "execution_count": 8,
   "metadata": {
    "collapsed": true
   },
   "outputs": [],
   "source": [
    "file = \"Consumer_Complaints.csv\"\n",
    "cmplnts = pd.read_csv(file, na_values = \"null\")"
   ]
  },
  {
   "cell_type": "code",
   "execution_count": 9,
   "metadata": {},
   "outputs": [
    {
     "data": {
      "text/plain": [
       "(1124716, 18)"
      ]
     },
     "execution_count": 9,
     "metadata": {},
     "output_type": "execute_result"
    }
   ],
   "source": [
    "# Determining the total size of the dataset\n",
    "cmplnts.shape"
   ]
  },
  {
   "cell_type": "markdown",
   "metadata": {},
   "source": [
    "### Splitting data into train and test datasets"
   ]
  },
  {
   "cell_type": "code",
   "execution_count": 10,
   "metadata": {},
   "outputs": [
    {
     "name": "stdout",
     "output_type": "stream",
     "text": [
      "(787301, 18) (337415, 18)\n"
     ]
    }
   ],
   "source": [
    "train,test = train_test_split(cmplnts, test_size=0.3)\n",
    "print (train.shape, test.shape)"
   ]
  },
  {
   "cell_type": "code",
   "execution_count": 11,
   "metadata": {
    "collapsed": true
   },
   "outputs": [],
   "source": [
    "# Create combined set. You would want to apply count vectorizer on combined set so you can get the list of all possible words.\n",
    "combined = pd.concat([train,test])\n",
    "\n",
    "# Create the submission set (Only contains the test ID)\n",
    "test['test_id']= test.index\n",
    "submission = test[['test_id']]\n",
    "\n",
    "# Create size of train\n",
    "train['train_id']= train.index\n",
    "train_size = len(train)"
   ]
  },
  {
   "cell_type": "code",
   "execution_count": 12,
   "metadata": {},
   "outputs": [
    {
     "data": {
      "text/plain": [
       "(1124716, 18)"
      ]
     },
     "execution_count": 12,
     "metadata": {},
     "output_type": "execute_result"
    }
   ],
   "source": [
    "combined.shape"
   ]
  },
  {
   "cell_type": "code",
   "execution_count": 13,
   "metadata": {
    "collapsed": true
   },
   "outputs": [],
   "source": [
    "combined_ML = combined.sample(frac=0.1).reset_index(drop=True)"
   ]
  },
  {
   "cell_type": "code",
   "execution_count": 14,
   "metadata": {},
   "outputs": [
    {
     "data": {
      "text/plain": [
       "(112472, 18)"
      ]
     },
     "execution_count": 14,
     "metadata": {},
     "output_type": "execute_result"
    }
   ],
   "source": [
    "combined_ML.shape"
   ]
  },
  {
   "cell_type": "markdown",
   "metadata": {},
   "source": [
    "## Training Set\n",
    "\n",
    "Training set has 787301 observations with 11 features:\n",
    "\n"
   ]
  },
  {
   "cell_type": "code",
   "execution_count": 15,
   "metadata": {},
   "outputs": [
    {
     "name": "stdout",
     "output_type": "stream",
     "text": [
      "<class 'pandas.core.frame.DataFrame'>\n",
      "Int64Index: 1124716 entries, 1059561 to 857061\n",
      "Data columns (total 18 columns):\n",
      "Date received                   1124716 non-null object\n",
      "Product                         1124716 non-null object\n",
      "Sub-product                     889548 non-null object\n",
      "Issue                           1124716 non-null object\n",
      "Sub-issue                       614391 non-null object\n",
      "Consumer complaint narrative    323622 non-null object\n",
      "Company public response         369314 non-null object\n",
      "Company                         1124716 non-null object\n",
      "State                           1110296 non-null object\n",
      "ZIP code                        1038809 non-null object\n",
      "Tags                            154394 non-null object\n",
      "Consumer consent provided?      573454 non-null object\n",
      "Submitted via                   1124716 non-null object\n",
      "Date sent to company            1124716 non-null object\n",
      "Company response to consumer    1124710 non-null object\n",
      "Timely response?                1124716 non-null object\n",
      "Consumer disputed?              768536 non-null object\n",
      "Complaint ID                    1124716 non-null int64\n",
      "dtypes: int64(1), object(17)\n",
      "memory usage: 163.0+ MB\n"
     ]
    }
   ],
   "source": [
    "combined.info()"
   ]
  },
  {
   "cell_type": "code",
   "execution_count": 16,
   "metadata": {
    "collapsed": true
   },
   "outputs": [],
   "source": [
    "#Addign state codes DC (Washington D.C.), PR (Puerto Rico),{AE,AA,AP} (Armed Forces),VI (Virgin Islands),GU (Guam),FM(Federated States of Micronesia),\n",
    "# AS (American Samoa),MP (Northern Mariana Islands),MH (Marshall Islands),PW (Palau)\n",
    "\n",
    "states =['AA','AE','AK','AL','AP','AR','AS','AZ','CA','CO','CT','DC','DE','FL','FM','GA','GU','HI','IA','ID','IL','IN','KS','KY','LA','MA','MD','ME','MI','MN','MO',\n",
    "         'MP','MH','MS','MT','NC','ND','NE','NH','NJ','NM','NV','NY','OH','OK','OR','PA','PR','PW','RI','SC','SD','TN','TX','UT','VA','VI','VT','WA','WI',\n",
    "         'WV','WY','UNITED STATES MINOR OUTLYING ISLANDS']"
   ]
  },
  {
   "cell_type": "code",
   "execution_count": 17,
   "metadata": {},
   "outputs": [
    {
     "data": {
      "text/plain": [
       "Date received                      2486\n",
       "Product                              18\n",
       "Sub-product                          76\n",
       "Issue                               166\n",
       "Sub-issue                           218\n",
       "Consumer complaint narrative     311356\n",
       "Company public response              10\n",
       "Company                            4998\n",
       "State                                63\n",
       "ZIP code                          25610\n",
       "Tags                                  3\n",
       "Consumer consent provided?            4\n",
       "Submitted via                         6\n",
       "Date sent to company               2435\n",
       "Company response to consumer          8\n",
       "Timely response?                      2\n",
       "Consumer disputed?                    2\n",
       "Complaint ID                    1124716\n",
       "dtype: int64"
      ]
     },
     "execution_count": 17,
     "metadata": {},
     "output_type": "execute_result"
    }
   ],
   "source": [
    "combined.nunique()"
   ]
  },
  {
   "cell_type": "markdown",
   "metadata": {},
   "source": [
    "### Summary Statistics\n",
    "\n",
    "1) There are 8 uniques categories of Company responses.  \n",
    "2) Most of the complaints were for **Mortgage** and majorly the issue were in **Loan modification,collection and in foreclosure**.  \n",
    "3) There are **6,800** complaints does not have any Consumer complaint narrative.  \n",
    "4) Company which got most of the comlaints is **EQUIFAX, INC**.  \n",
    "5) Most of the complaints were **closed by providing explanations** only.  "
   ]
  },
  {
   "cell_type": "code",
   "execution_count": 18,
   "metadata": {},
   "outputs": [
    {
     "data": {
      "text/html": [
       "<div>\n",
       "<style scoped>\n",
       "    .dataframe tbody tr th:only-of-type {\n",
       "        vertical-align: middle;\n",
       "    }\n",
       "\n",
       "    .dataframe tbody tr th {\n",
       "        vertical-align: top;\n",
       "    }\n",
       "\n",
       "    .dataframe thead th {\n",
       "        text-align: right;\n",
       "    }\n",
       "</style>\n",
       "<table border=\"1\" class=\"dataframe\">\n",
       "  <thead>\n",
       "    <tr style=\"text-align: right;\">\n",
       "      <th></th>\n",
       "      <th>count</th>\n",
       "      <th>unique</th>\n",
       "      <th>top</th>\n",
       "      <th>freq</th>\n",
       "    </tr>\n",
       "  </thead>\n",
       "  <tbody>\n",
       "    <tr>\n",
       "      <th>Date received</th>\n",
       "      <td>1124716</td>\n",
       "      <td>2486</td>\n",
       "      <td>09/08/2017</td>\n",
       "      <td>3553</td>\n",
       "    </tr>\n",
       "    <tr>\n",
       "      <th>Product</th>\n",
       "      <td>1124716</td>\n",
       "      <td>18</td>\n",
       "      <td>Mortgage</td>\n",
       "      <td>264262</td>\n",
       "    </tr>\n",
       "    <tr>\n",
       "      <th>Sub-product</th>\n",
       "      <td>889548</td>\n",
       "      <td>76</td>\n",
       "      <td>Credit reporting</td>\n",
       "      <td>149640</td>\n",
       "    </tr>\n",
       "    <tr>\n",
       "      <th>Issue</th>\n",
       "      <td>1124716</td>\n",
       "      <td>166</td>\n",
       "      <td>Loan modification,collection,foreclosure</td>\n",
       "      <td>112313</td>\n",
       "    </tr>\n",
       "    <tr>\n",
       "      <th>Sub-issue</th>\n",
       "      <td>614391</td>\n",
       "      <td>218</td>\n",
       "      <td>Account status</td>\n",
       "      <td>37057</td>\n",
       "    </tr>\n",
       "    <tr>\n",
       "      <th>Consumer complaint narrative</th>\n",
       "      <td>323622</td>\n",
       "      <td>311356</td>\n",
       "      <td>There are many mistakes appear in my report wi...</td>\n",
       "      <td>530</td>\n",
       "    </tr>\n",
       "    <tr>\n",
       "      <th>Company public response</th>\n",
       "      <td>369314</td>\n",
       "      <td>10</td>\n",
       "      <td>Company has responded to the consumer and the ...</td>\n",
       "      <td>242842</td>\n",
       "    </tr>\n",
       "    <tr>\n",
       "      <th>Company</th>\n",
       "      <td>1124716</td>\n",
       "      <td>4998</td>\n",
       "      <td>EQUIFAX, INC.</td>\n",
       "      <td>94737</td>\n",
       "    </tr>\n",
       "    <tr>\n",
       "      <th>State</th>\n",
       "      <td>1110296</td>\n",
       "      <td>63</td>\n",
       "      <td>CA</td>\n",
       "      <td>156371</td>\n",
       "    </tr>\n",
       "    <tr>\n",
       "      <th>ZIP code</th>\n",
       "      <td>1038809</td>\n",
       "      <td>25610</td>\n",
       "      <td>300XX</td>\n",
       "      <td>5553</td>\n",
       "    </tr>\n",
       "    <tr>\n",
       "      <th>Tags</th>\n",
       "      <td>154394</td>\n",
       "      <td>3</td>\n",
       "      <td>Older American</td>\n",
       "      <td>71435</td>\n",
       "    </tr>\n",
       "    <tr>\n",
       "      <th>Consumer consent provided?</th>\n",
       "      <td>573454</td>\n",
       "      <td>4</td>\n",
       "      <td>Consent provided</td>\n",
       "      <td>323930</td>\n",
       "    </tr>\n",
       "    <tr>\n",
       "      <th>Submitted via</th>\n",
       "      <td>1124716</td>\n",
       "      <td>6</td>\n",
       "      <td>Web</td>\n",
       "      <td>814370</td>\n",
       "    </tr>\n",
       "    <tr>\n",
       "      <th>Date sent to company</th>\n",
       "      <td>1124716</td>\n",
       "      <td>2435</td>\n",
       "      <td>09/08/2017</td>\n",
       "      <td>3387</td>\n",
       "    </tr>\n",
       "    <tr>\n",
       "      <th>Company response to consumer</th>\n",
       "      <td>1124710</td>\n",
       "      <td>8</td>\n",
       "      <td>Closed with explanation</td>\n",
       "      <td>868204</td>\n",
       "    </tr>\n",
       "    <tr>\n",
       "      <th>Timely response?</th>\n",
       "      <td>1124716</td>\n",
       "      <td>2</td>\n",
       "      <td>Yes</td>\n",
       "      <td>1095094</td>\n",
       "    </tr>\n",
       "    <tr>\n",
       "      <th>Consumer disputed?</th>\n",
       "      <td>768536</td>\n",
       "      <td>2</td>\n",
       "      <td>No</td>\n",
       "      <td>620158</td>\n",
       "    </tr>\n",
       "    <tr>\n",
       "      <th>Complaint ID</th>\n",
       "      <td>1124716</td>\n",
       "      <td>1124716</td>\n",
       "      <td>2097150</td>\n",
       "      <td>1</td>\n",
       "    </tr>\n",
       "  </tbody>\n",
       "</table>\n",
       "</div>"
      ],
      "text/plain": [
       "                                count   unique  \\\n",
       "Date received                 1124716     2486   \n",
       "Product                       1124716       18   \n",
       "Sub-product                    889548       76   \n",
       "Issue                         1124716      166   \n",
       "Sub-issue                      614391      218   \n",
       "Consumer complaint narrative   323622   311356   \n",
       "Company public response        369314       10   \n",
       "Company                       1124716     4998   \n",
       "State                         1110296       63   \n",
       "ZIP code                      1038809    25610   \n",
       "Tags                           154394        3   \n",
       "Consumer consent provided?     573454        4   \n",
       "Submitted via                 1124716        6   \n",
       "Date sent to company          1124716     2435   \n",
       "Company response to consumer  1124710        8   \n",
       "Timely response?              1124716        2   \n",
       "Consumer disputed?             768536        2   \n",
       "Complaint ID                  1124716  1124716   \n",
       "\n",
       "                                                                            top  \\\n",
       "Date received                                                        09/08/2017   \n",
       "Product                                                                Mortgage   \n",
       "Sub-product                                                    Credit reporting   \n",
       "Issue                                  Loan modification,collection,foreclosure   \n",
       "Sub-issue                                                        Account status   \n",
       "Consumer complaint narrative  There are many mistakes appear in my report wi...   \n",
       "Company public response       Company has responded to the consumer and the ...   \n",
       "Company                                                           EQUIFAX, INC.   \n",
       "State                                                                        CA   \n",
       "ZIP code                                                                  300XX   \n",
       "Tags                                                             Older American   \n",
       "Consumer consent provided?                                     Consent provided   \n",
       "Submitted via                                                               Web   \n",
       "Date sent to company                                                 09/08/2017   \n",
       "Company response to consumer                            Closed with explanation   \n",
       "Timely response?                                                            Yes   \n",
       "Consumer disputed?                                                           No   \n",
       "Complaint ID                                                            2097150   \n",
       "\n",
       "                                 freq  \n",
       "Date received                    3553  \n",
       "Product                        264262  \n",
       "Sub-product                    149640  \n",
       "Issue                          112313  \n",
       "Sub-issue                       37057  \n",
       "Consumer complaint narrative      530  \n",
       "Company public response        242842  \n",
       "Company                         94737  \n",
       "State                          156371  \n",
       "ZIP code                         5553  \n",
       "Tags                            71435  \n",
       "Consumer consent provided?     323930  \n",
       "Submitted via                  814370  \n",
       "Date sent to company             3387  \n",
       "Company response to consumer   868204  \n",
       "Timely response?              1095094  \n",
       "Consumer disputed?             620158  \n",
       "Complaint ID                        1  "
      ]
     },
     "execution_count": 18,
     "metadata": {},
     "output_type": "execute_result"
    }
   ],
   "source": [
    "combined.astype('object').describe().transpose()"
   ]
  },
  {
   "cell_type": "code",
   "execution_count": 19,
   "metadata": {},
   "outputs": [
    {
     "data": {
      "text/html": [
       "<div>\n",
       "<style scoped>\n",
       "    .dataframe tbody tr th:only-of-type {\n",
       "        vertical-align: middle;\n",
       "    }\n",
       "\n",
       "    .dataframe tbody tr th {\n",
       "        vertical-align: top;\n",
       "    }\n",
       "\n",
       "    .dataframe thead th {\n",
       "        text-align: right;\n",
       "    }\n",
       "</style>\n",
       "<table border=\"1\" class=\"dataframe\">\n",
       "  <thead>\n",
       "    <tr style=\"text-align: right;\">\n",
       "      <th></th>\n",
       "      <th>Date received</th>\n",
       "      <th>Product</th>\n",
       "      <th>Sub-product</th>\n",
       "      <th>Issue</th>\n",
       "      <th>Sub-issue</th>\n",
       "      <th>Consumer complaint narrative</th>\n",
       "      <th>Company public response</th>\n",
       "      <th>Company</th>\n",
       "      <th>State</th>\n",
       "      <th>ZIP code</th>\n",
       "      <th>Tags</th>\n",
       "      <th>Consumer consent provided?</th>\n",
       "      <th>Submitted via</th>\n",
       "      <th>Date sent to company</th>\n",
       "      <th>Company response to consumer</th>\n",
       "      <th>Timely response?</th>\n",
       "      <th>Consumer disputed?</th>\n",
       "      <th>Complaint ID</th>\n",
       "    </tr>\n",
       "  </thead>\n",
       "  <tbody>\n",
       "    <tr>\n",
       "      <th>1059561</th>\n",
       "      <td>12/10/2015</td>\n",
       "      <td>Credit reporting</td>\n",
       "      <td>NaN</td>\n",
       "      <td>Credit monitoring or identity protection</td>\n",
       "      <td>Problem with fraud alerts</td>\n",
       "      <td>On XXXX XXXX of 2015 I requested my Equifax cr...</td>\n",
       "      <td>NaN</td>\n",
       "      <td>EQUIFAX, INC.</td>\n",
       "      <td>MA</td>\n",
       "      <td>021XX</td>\n",
       "      <td>Older American</td>\n",
       "      <td>Consent provided</td>\n",
       "      <td>Web</td>\n",
       "      <td>12/10/2015</td>\n",
       "      <td>Closed with explanation</td>\n",
       "      <td>Yes</td>\n",
       "      <td>No</td>\n",
       "      <td>1691642</td>\n",
       "    </tr>\n",
       "    <tr>\n",
       "      <th>378040</th>\n",
       "      <td>05/02/2014</td>\n",
       "      <td>Mortgage</td>\n",
       "      <td>Conventional fixed mortgage</td>\n",
       "      <td>Application, originator, mortgage broker</td>\n",
       "      <td>NaN</td>\n",
       "      <td>NaN</td>\n",
       "      <td>NaN</td>\n",
       "      <td>HIGHLANDS RESIDENTIAL MORTGAGE</td>\n",
       "      <td>VA</td>\n",
       "      <td>20147</td>\n",
       "      <td>NaN</td>\n",
       "      <td>NaN</td>\n",
       "      <td>Phone</td>\n",
       "      <td>05/06/2014</td>\n",
       "      <td>Closed with monetary relief</td>\n",
       "      <td>Yes</td>\n",
       "      <td>No</td>\n",
       "      <td>835706</td>\n",
       "    </tr>\n",
       "    <tr>\n",
       "      <th>583778</th>\n",
       "      <td>12/17/2014</td>\n",
       "      <td>Bank account or service</td>\n",
       "      <td>Checking account</td>\n",
       "      <td>Deposits and withdrawals</td>\n",
       "      <td>NaN</td>\n",
       "      <td>NaN</td>\n",
       "      <td>NaN</td>\n",
       "      <td>JPMORGAN CHASE &amp; CO.</td>\n",
       "      <td>LA</td>\n",
       "      <td>70119</td>\n",
       "      <td>NaN</td>\n",
       "      <td>NaN</td>\n",
       "      <td>Referral</td>\n",
       "      <td>12/17/2014</td>\n",
       "      <td>Closed with explanation</td>\n",
       "      <td>Yes</td>\n",
       "      <td>No</td>\n",
       "      <td>1160420</td>\n",
       "    </tr>\n",
       "    <tr>\n",
       "      <th>745282</th>\n",
       "      <td>05/09/2016</td>\n",
       "      <td>Debt collection</td>\n",
       "      <td>Credit card</td>\n",
       "      <td>Cont'd attempts collect debt not owed</td>\n",
       "      <td>Debt was paid</td>\n",
       "      <td>Not trying to still collect but debt was paid ...</td>\n",
       "      <td>NaN</td>\n",
       "      <td>The Law Firm of Ryan E. Calef and Associates, LLC</td>\n",
       "      <td>MN</td>\n",
       "      <td>553XX</td>\n",
       "      <td>Older American</td>\n",
       "      <td>Consent provided</td>\n",
       "      <td>Web</td>\n",
       "      <td>06/06/2016</td>\n",
       "      <td>Untimely response</td>\n",
       "      <td>No</td>\n",
       "      <td>No</td>\n",
       "      <td>1916990</td>\n",
       "    </tr>\n",
       "    <tr>\n",
       "      <th>440746</th>\n",
       "      <td>02/17/2012</td>\n",
       "      <td>Mortgage</td>\n",
       "      <td>Conventional fixed mortgage</td>\n",
       "      <td>Loan modification,collection,foreclosure</td>\n",
       "      <td>NaN</td>\n",
       "      <td>NaN</td>\n",
       "      <td>NaN</td>\n",
       "      <td>PNC Bank N.A.</td>\n",
       "      <td>DC</td>\n",
       "      <td>20003</td>\n",
       "      <td>NaN</td>\n",
       "      <td>NaN</td>\n",
       "      <td>Web</td>\n",
       "      <td>02/22/2012</td>\n",
       "      <td>Closed without relief</td>\n",
       "      <td>Yes</td>\n",
       "      <td>No</td>\n",
       "      <td>24703</td>\n",
       "    </tr>\n",
       "  </tbody>\n",
       "</table>\n",
       "</div>"
      ],
      "text/plain": [
       "        Date received                  Product                  Sub-product  \\\n",
       "1059561    12/10/2015         Credit reporting                          NaN   \n",
       "378040     05/02/2014                 Mortgage  Conventional fixed mortgage   \n",
       "583778     12/17/2014  Bank account or service             Checking account   \n",
       "745282     05/09/2016          Debt collection                  Credit card   \n",
       "440746     02/17/2012                 Mortgage  Conventional fixed mortgage   \n",
       "\n",
       "                                            Issue                  Sub-issue  \\\n",
       "1059561  Credit monitoring or identity protection  Problem with fraud alerts   \n",
       "378040   Application, originator, mortgage broker                        NaN   \n",
       "583778                   Deposits and withdrawals                        NaN   \n",
       "745282      Cont'd attempts collect debt not owed              Debt was paid   \n",
       "440746   Loan modification,collection,foreclosure                        NaN   \n",
       "\n",
       "                              Consumer complaint narrative  \\\n",
       "1059561  On XXXX XXXX of 2015 I requested my Equifax cr...   \n",
       "378040                                                 NaN   \n",
       "583778                                                 NaN   \n",
       "745282   Not trying to still collect but debt was paid ...   \n",
       "440746                                                 NaN   \n",
       "\n",
       "        Company public response  \\\n",
       "1059561                     NaN   \n",
       "378040                      NaN   \n",
       "583778                      NaN   \n",
       "745282                      NaN   \n",
       "440746                      NaN   \n",
       "\n",
       "                                                   Company State ZIP code  \\\n",
       "1059561                                      EQUIFAX, INC.    MA    021XX   \n",
       "378040                      HIGHLANDS RESIDENTIAL MORTGAGE    VA    20147   \n",
       "583778                                JPMORGAN CHASE & CO.    LA    70119   \n",
       "745282   The Law Firm of Ryan E. Calef and Associates, LLC    MN    553XX   \n",
       "440746                                       PNC Bank N.A.    DC    20003   \n",
       "\n",
       "                   Tags Consumer consent provided? Submitted via  \\\n",
       "1059561  Older American           Consent provided           Web   \n",
       "378040              NaN                        NaN         Phone   \n",
       "583778              NaN                        NaN      Referral   \n",
       "745282   Older American           Consent provided           Web   \n",
       "440746              NaN                        NaN           Web   \n",
       "\n",
       "        Date sent to company Company response to consumer Timely response?  \\\n",
       "1059561           12/10/2015      Closed with explanation              Yes   \n",
       "378040            05/06/2014  Closed with monetary relief              Yes   \n",
       "583778            12/17/2014      Closed with explanation              Yes   \n",
       "745282            06/06/2016            Untimely response               No   \n",
       "440746            02/22/2012        Closed without relief              Yes   \n",
       "\n",
       "        Consumer disputed?  Complaint ID  \n",
       "1059561                 No       1691642  \n",
       "378040                  No        835706  \n",
       "583778                  No       1160420  \n",
       "745282                  No       1916990  \n",
       "440746                  No         24703  "
      ]
     },
     "execution_count": 19,
     "metadata": {},
     "output_type": "execute_result"
    }
   ],
   "source": [
    "combined.head()"
   ]
  },
  {
   "cell_type": "code",
   "execution_count": 20,
   "metadata": {
    "collapsed": true
   },
   "outputs": [],
   "source": [
    "\n",
    "def _isdate(datestring):\n",
    "    mat = re.match('(\\d{1,2})[/.-](\\d{1,2})[/.-](\\d{2,4})$', datestring)\n",
    "\n",
    "    try:\n",
    "        if mat:\n",
    "            # xdate = datetime.datetime(*(map(int, mat.groups()[-1::-1])))\n",
    "            return True\n",
    "        else:\n",
    "            return False\n",
    "    except ValueError:\n",
    "        print(\"err - isdate\")\n",
    "\n",
    "\n",
    "\n",
    "\n",
    "def _get_dtype(xstr):\n",
    "\n",
    "    if re.match(\"^\\d+?\\.\\d+?$\", xstr):\n",
    "        return \"float\"\n",
    "    elif xstr.isdigit():\n",
    "        return \"int\"\n",
    "    elif _isdate(xstr):\n",
    "        return \"date\"\n",
    "    else:\n",
    "        return \"string\"\n",
    "\n",
    "\n",
    "\n",
    "def process_dtypes(data, tapply=False, thr=10):\n",
    "        features = defaultdict(list)\n",
    "        n = len(data)\n",
    "\n",
    "        for col, val in data.iloc[3, :].iteritems():\n",
    "            val = str(val).strip()\n",
    "            val_type = _get_dtype(val)\n",
    "            unq = data[col].nunique()\n",
    "\n",
    "            if unq > n*.95:\n",
    "                features[\"skip\"].append(col)\n",
    "                continue\n",
    "            try:\n",
    "                if(val_type == \"int\" or val_type == \"float\"):\n",
    "                    if unq >= thr:\n",
    "                        features[\"numfeatures\"].append(col)\n",
    "                        if tapply:\n",
    "                            if val_type == \"int\" and data[col].dtype != 'int':\n",
    "                                data[col] = data[col].astype(np.int64)\n",
    "                            elif val_type == 'float' and data[col].dtype != 'float':\n",
    "                                data[col] = data[col].astype(np.float64)\n",
    "                    else:\n",
    "                        features[\"catfeatures\"].append(col)\n",
    "                        if tapply:\n",
    "                            print(\"feature \", col, \" contains \", unq,\n",
    "                                  \" unique values, converted to categorical encoding\")\n",
    "                            data[col] = data[col].astype('category')\n",
    "                elif val_type == \"string\":\n",
    "                    if unq <= thr:\n",
    "                        features[\"catfeatures\"].append(col)\n",
    "                        if tapply:\n",
    "                            data[col] = data[col].astype('category')\n",
    "                    else:\n",
    "                        if tapply:\n",
    "                            print(\"feature \", col, \" contains \", unq,\n",
    "                                  \" unique values, converted to numeric encoding\")\n",
    "                            data[col] = data[col].astype('category')\n",
    "                            data[col] = data[col].cat.codes\n",
    "                            features[\"encode\"].append(col)\n",
    "                        else:\n",
    "                            features[\"encode\"].append(col)\n",
    "\n",
    "                elif val_type == \"date\":\n",
    "                    features[\"dtfeatures\"].append(col)\n",
    "                    if tapply:\n",
    "                        data[col] = pd.to_datetime(data[col])\n",
    "\n",
    "            except ValueError as verror:\n",
    "                print(verror, \"\\n Data Contains N/A values in :\", col)\n",
    "\n",
    "       # self.features = features\n",
    "\n",
    "        return features\n"
   ]
  },
  {
   "cell_type": "code",
   "execution_count": 21,
   "metadata": {
    "collapsed": true
   },
   "outputs": [],
   "source": [
    "#features = process_dtypes(train, tapply = True, thr=30)"
   ]
  },
  {
   "cell_type": "code",
   "execution_count": 22,
   "metadata": {
    "collapsed": true
   },
   "outputs": [],
   "source": [
    "combined['Product'] = combined['Product'].astype('category')\n",
    "combined['Sub-product'] = combined['Sub-product'].astype('category')\n",
    "combined['Issue'] = combined['Issue'].astype('category')\n",
    "combined['Sub-issue'] = combined['Sub-issue'].astype('category')\n",
    "combined['Company public response'] = combined['Company public response'].astype('category')\n",
    "combined['Consumer consent provided?'] = combined['Consumer consent provided?'].astype('category')\n",
    "combined['Company response to consumer'] = combined['Company response to consumer'].astype('category')"
   ]
  },
  {
   "cell_type": "code",
   "execution_count": 23,
   "metadata": {},
   "outputs": [
    {
     "name": "stdout",
     "output_type": "stream",
     "text": [
      "<class 'pandas.core.frame.DataFrame'>\n",
      "Int64Index: 1124716 entries, 1059561 to 857061\n",
      "Data columns (total 18 columns):\n",
      "Date received                   1124716 non-null object\n",
      "Product                         1124716 non-null category\n",
      "Sub-product                     889548 non-null category\n",
      "Issue                           1124716 non-null category\n",
      "Sub-issue                       614391 non-null category\n",
      "Consumer complaint narrative    323622 non-null object\n",
      "Company public response         369314 non-null category\n",
      "Company                         1124716 non-null object\n",
      "State                           1110296 non-null object\n",
      "ZIP code                        1038809 non-null object\n",
      "Tags                            154394 non-null object\n",
      "Consumer consent provided?      573454 non-null category\n",
      "Submitted via                   1124716 non-null object\n",
      "Date sent to company            1124716 non-null object\n",
      "Company response to consumer    1124710 non-null category\n",
      "Timely response?                1124716 non-null object\n",
      "Consumer disputed?              768536 non-null object\n",
      "Complaint ID                    1124716 non-null int64\n",
      "dtypes: category(7), int64(1), object(10)\n",
      "memory usage: 112.6+ MB\n"
     ]
    }
   ],
   "source": [
    "combined.info()"
   ]
  },
  {
   "cell_type": "markdown",
   "metadata": {},
   "source": [
    "### Data Cleaning\n",
    "\n",
    "As we can see that there are around 56070.6 millions of rows have no description.  \n",
    "16 millions of rows does not have sub-product linked to it.  \n",
    "Sub- Issue andComapny public responses are also missing.  \n",
    "\n",
    "Filling all those values with the some values and find out the major categories.\n"
   ]
  },
  {
   "cell_type": "code",
   "execution_count": 24,
   "metadata": {
    "collapsed": true
   },
   "outputs": [],
   "source": [
    "#train.isnull().sum()"
   ]
  },
  {
   "cell_type": "code",
   "execution_count": 25,
   "metadata": {
    "collapsed": true
   },
   "outputs": [],
   "source": [
    "def missing_values(df):\n",
    "    df['Consumer complaint narrative'].fillna(value = 'Other Description',inplace =True)\n",
    "    df['Sub-product'].fillna(value = 'Other',inplace =True)\n",
    "    df['Sub-issue'].fillna(value = 'Other',inplace =True)\n",
    "    df['Company public response'].fillna(value = 'Other Description',inplace =True)\n",
    "\n",
    "    return df"
   ]
  },
  {
   "cell_type": "code",
   "execution_count": 26,
   "metadata": {
    "collapsed": true
   },
   "outputs": [],
   "source": [
    "combined['Sub-product']  =  combined['Sub-product'] .cat.add_categories(['Other'])\n",
    "combined['Sub-issue'] = combined['Sub-issue'].cat.add_categories(['Other'])\n",
    "combined['Company public response'] = combined['Company public response'].cat.add_categories(['Other Description'])\n"
   ]
  },
  {
   "cell_type": "code",
   "execution_count": 27,
   "metadata": {
    "collapsed": true
   },
   "outputs": [],
   "source": [
    "combined  = missing_values(combined)"
   ]
  },
  {
   "cell_type": "code",
   "execution_count": 28,
   "metadata": {},
   "outputs": [
    {
     "data": {
      "text/html": [
       "<div>\n",
       "<style scoped>\n",
       "    .dataframe tbody tr th:only-of-type {\n",
       "        vertical-align: middle;\n",
       "    }\n",
       "\n",
       "    .dataframe tbody tr th {\n",
       "        vertical-align: top;\n",
       "    }\n",
       "\n",
       "    .dataframe thead th {\n",
       "        text-align: right;\n",
       "    }\n",
       "</style>\n",
       "<table border=\"1\" class=\"dataframe\">\n",
       "  <thead>\n",
       "    <tr style=\"text-align: right;\">\n",
       "      <th></th>\n",
       "      <th>Date received</th>\n",
       "      <th>Product</th>\n",
       "      <th>Sub-product</th>\n",
       "      <th>Issue</th>\n",
       "      <th>Sub-issue</th>\n",
       "      <th>Consumer complaint narrative</th>\n",
       "      <th>Company public response</th>\n",
       "      <th>Company</th>\n",
       "      <th>State</th>\n",
       "      <th>ZIP code</th>\n",
       "      <th>Tags</th>\n",
       "      <th>Consumer consent provided?</th>\n",
       "      <th>Submitted via</th>\n",
       "      <th>Date sent to company</th>\n",
       "      <th>Company response to consumer</th>\n",
       "      <th>Timely response?</th>\n",
       "      <th>Consumer disputed?</th>\n",
       "      <th>Complaint ID</th>\n",
       "    </tr>\n",
       "  </thead>\n",
       "  <tbody>\n",
       "    <tr>\n",
       "      <th>1059561</th>\n",
       "      <td>12/10/2015</td>\n",
       "      <td>Credit reporting</td>\n",
       "      <td>Other</td>\n",
       "      <td>Credit monitoring or identity protection</td>\n",
       "      <td>Problem with fraud alerts</td>\n",
       "      <td>On XXXX XXXX of 2015 I requested my Equifax cr...</td>\n",
       "      <td>Other Description</td>\n",
       "      <td>EQUIFAX, INC.</td>\n",
       "      <td>MA</td>\n",
       "      <td>021XX</td>\n",
       "      <td>Older American</td>\n",
       "      <td>Consent provided</td>\n",
       "      <td>Web</td>\n",
       "      <td>12/10/2015</td>\n",
       "      <td>Closed with explanation</td>\n",
       "      <td>Yes</td>\n",
       "      <td>No</td>\n",
       "      <td>1691642</td>\n",
       "    </tr>\n",
       "    <tr>\n",
       "      <th>378040</th>\n",
       "      <td>05/02/2014</td>\n",
       "      <td>Mortgage</td>\n",
       "      <td>Conventional fixed mortgage</td>\n",
       "      <td>Application, originator, mortgage broker</td>\n",
       "      <td>Other</td>\n",
       "      <td>Other Description</td>\n",
       "      <td>Other Description</td>\n",
       "      <td>HIGHLANDS RESIDENTIAL MORTGAGE</td>\n",
       "      <td>VA</td>\n",
       "      <td>20147</td>\n",
       "      <td>NaN</td>\n",
       "      <td>NaN</td>\n",
       "      <td>Phone</td>\n",
       "      <td>05/06/2014</td>\n",
       "      <td>Closed with monetary relief</td>\n",
       "      <td>Yes</td>\n",
       "      <td>No</td>\n",
       "      <td>835706</td>\n",
       "    </tr>\n",
       "    <tr>\n",
       "      <th>583778</th>\n",
       "      <td>12/17/2014</td>\n",
       "      <td>Bank account or service</td>\n",
       "      <td>Checking account</td>\n",
       "      <td>Deposits and withdrawals</td>\n",
       "      <td>Other</td>\n",
       "      <td>Other Description</td>\n",
       "      <td>Other Description</td>\n",
       "      <td>JPMORGAN CHASE &amp; CO.</td>\n",
       "      <td>LA</td>\n",
       "      <td>70119</td>\n",
       "      <td>NaN</td>\n",
       "      <td>NaN</td>\n",
       "      <td>Referral</td>\n",
       "      <td>12/17/2014</td>\n",
       "      <td>Closed with explanation</td>\n",
       "      <td>Yes</td>\n",
       "      <td>No</td>\n",
       "      <td>1160420</td>\n",
       "    </tr>\n",
       "    <tr>\n",
       "      <th>745282</th>\n",
       "      <td>05/09/2016</td>\n",
       "      <td>Debt collection</td>\n",
       "      <td>Credit card</td>\n",
       "      <td>Cont'd attempts collect debt not owed</td>\n",
       "      <td>Debt was paid</td>\n",
       "      <td>Not trying to still collect but debt was paid ...</td>\n",
       "      <td>Other Description</td>\n",
       "      <td>The Law Firm of Ryan E. Calef and Associates, LLC</td>\n",
       "      <td>MN</td>\n",
       "      <td>553XX</td>\n",
       "      <td>Older American</td>\n",
       "      <td>Consent provided</td>\n",
       "      <td>Web</td>\n",
       "      <td>06/06/2016</td>\n",
       "      <td>Untimely response</td>\n",
       "      <td>No</td>\n",
       "      <td>No</td>\n",
       "      <td>1916990</td>\n",
       "    </tr>\n",
       "    <tr>\n",
       "      <th>440746</th>\n",
       "      <td>02/17/2012</td>\n",
       "      <td>Mortgage</td>\n",
       "      <td>Conventional fixed mortgage</td>\n",
       "      <td>Loan modification,collection,foreclosure</td>\n",
       "      <td>Other</td>\n",
       "      <td>Other Description</td>\n",
       "      <td>Other Description</td>\n",
       "      <td>PNC Bank N.A.</td>\n",
       "      <td>DC</td>\n",
       "      <td>20003</td>\n",
       "      <td>NaN</td>\n",
       "      <td>NaN</td>\n",
       "      <td>Web</td>\n",
       "      <td>02/22/2012</td>\n",
       "      <td>Closed without relief</td>\n",
       "      <td>Yes</td>\n",
       "      <td>No</td>\n",
       "      <td>24703</td>\n",
       "    </tr>\n",
       "    <tr>\n",
       "      <th>708210</th>\n",
       "      <td>04/30/2018</td>\n",
       "      <td>Credit reporting, credit repair services, or o...</td>\n",
       "      <td>Credit reporting</td>\n",
       "      <td>Incorrect information on your report</td>\n",
       "      <td>Information belongs to someone else</td>\n",
       "      <td>Other Description</td>\n",
       "      <td>Other Description</td>\n",
       "      <td>EQUIFAX, INC.</td>\n",
       "      <td>CA</td>\n",
       "      <td>92648</td>\n",
       "      <td>NaN</td>\n",
       "      <td>Consent not provided</td>\n",
       "      <td>Web</td>\n",
       "      <td>04/30/2018</td>\n",
       "      <td>Closed with non-monetary relief</td>\n",
       "      <td>Yes</td>\n",
       "      <td>NaN</td>\n",
       "      <td>2892065</td>\n",
       "    </tr>\n",
       "    <tr>\n",
       "      <th>337624</th>\n",
       "      <td>07/18/2012</td>\n",
       "      <td>Mortgage</td>\n",
       "      <td>Home equity loan or line of credit</td>\n",
       "      <td>Loan modification,collection,foreclosure</td>\n",
       "      <td>Other</td>\n",
       "      <td>Other Description</td>\n",
       "      <td>Other Description</td>\n",
       "      <td>WELLS FARGO &amp; COMPANY</td>\n",
       "      <td>NY</td>\n",
       "      <td>10304</td>\n",
       "      <td>NaN</td>\n",
       "      <td>NaN</td>\n",
       "      <td>Web</td>\n",
       "      <td>07/26/2012</td>\n",
       "      <td>Closed with explanation</td>\n",
       "      <td>Yes</td>\n",
       "      <td>No</td>\n",
       "      <td>119989</td>\n",
       "    </tr>\n",
       "    <tr>\n",
       "      <th>783550</th>\n",
       "      <td>02/28/2018</td>\n",
       "      <td>Credit reporting, credit repair services, or o...</td>\n",
       "      <td>Credit reporting</td>\n",
       "      <td>Incorrect information on your report</td>\n",
       "      <td>Information belongs to someone else</td>\n",
       "      <td>Other Description</td>\n",
       "      <td>Company has responded to the consumer and the ...</td>\n",
       "      <td>Experian Information Solutions Inc.</td>\n",
       "      <td>CA</td>\n",
       "      <td>91765</td>\n",
       "      <td>Older American</td>\n",
       "      <td>Consent not provided</td>\n",
       "      <td>Web</td>\n",
       "      <td>02/28/2018</td>\n",
       "      <td>Closed with explanation</td>\n",
       "      <td>Yes</td>\n",
       "      <td>NaN</td>\n",
       "      <td>2829054</td>\n",
       "    </tr>\n",
       "    <tr>\n",
       "      <th>914782</th>\n",
       "      <td>02/17/2015</td>\n",
       "      <td>Credit reporting</td>\n",
       "      <td>Other</td>\n",
       "      <td>Incorrect information on credit report</td>\n",
       "      <td>Account status</td>\n",
       "      <td>Other Description</td>\n",
       "      <td>Other Description</td>\n",
       "      <td>TRANSUNION INTERMEDIATE HOLDINGS, INC.</td>\n",
       "      <td>GA</td>\n",
       "      <td>305XX</td>\n",
       "      <td>NaN</td>\n",
       "      <td>NaN</td>\n",
       "      <td>Postal mail</td>\n",
       "      <td>03/13/2015</td>\n",
       "      <td>Closed with explanation</td>\n",
       "      <td>Yes</td>\n",
       "      <td>No</td>\n",
       "      <td>1242560</td>\n",
       "    </tr>\n",
       "    <tr>\n",
       "      <th>742573</th>\n",
       "      <td>01/11/2018</td>\n",
       "      <td>Payday loan, title loan, or personal loan</td>\n",
       "      <td>Installment loan</td>\n",
       "      <td>Charged fees or interest you didn't expect</td>\n",
       "      <td>Other</td>\n",
       "      <td>Other Description</td>\n",
       "      <td>Other Description</td>\n",
       "      <td>CNG FINANCIAL CORPORATION</td>\n",
       "      <td>CA</td>\n",
       "      <td>93015</td>\n",
       "      <td>NaN</td>\n",
       "      <td>NaN</td>\n",
       "      <td>Postal mail</td>\n",
       "      <td>01/11/2018</td>\n",
       "      <td>Closed with explanation</td>\n",
       "      <td>Yes</td>\n",
       "      <td>NaN</td>\n",
       "      <td>2779392</td>\n",
       "    </tr>\n",
       "  </tbody>\n",
       "</table>\n",
       "</div>"
      ],
      "text/plain": [
       "        Date received                                            Product  \\\n",
       "1059561    12/10/2015                                   Credit reporting   \n",
       "378040     05/02/2014                                           Mortgage   \n",
       "583778     12/17/2014                            Bank account or service   \n",
       "745282     05/09/2016                                    Debt collection   \n",
       "440746     02/17/2012                                           Mortgage   \n",
       "708210     04/30/2018  Credit reporting, credit repair services, or o...   \n",
       "337624     07/18/2012                                           Mortgage   \n",
       "783550     02/28/2018  Credit reporting, credit repair services, or o...   \n",
       "914782     02/17/2015                                   Credit reporting   \n",
       "742573     01/11/2018          Payday loan, title loan, or personal loan   \n",
       "\n",
       "                                Sub-product  \\\n",
       "1059561                               Other   \n",
       "378040          Conventional fixed mortgage   \n",
       "583778                     Checking account   \n",
       "745282                          Credit card   \n",
       "440746          Conventional fixed mortgage   \n",
       "708210                     Credit reporting   \n",
       "337624   Home equity loan or line of credit   \n",
       "783550                     Credit reporting   \n",
       "914782                                Other   \n",
       "742573                     Installment loan   \n",
       "\n",
       "                                              Issue  \\\n",
       "1059561    Credit monitoring or identity protection   \n",
       "378040     Application, originator, mortgage broker   \n",
       "583778                     Deposits and withdrawals   \n",
       "745282        Cont'd attempts collect debt not owed   \n",
       "440746     Loan modification,collection,foreclosure   \n",
       "708210         Incorrect information on your report   \n",
       "337624     Loan modification,collection,foreclosure   \n",
       "783550         Incorrect information on your report   \n",
       "914782       Incorrect information on credit report   \n",
       "742573   Charged fees or interest you didn't expect   \n",
       "\n",
       "                                   Sub-issue  \\\n",
       "1059561            Problem with fraud alerts   \n",
       "378040                                 Other   \n",
       "583778                                 Other   \n",
       "745282                         Debt was paid   \n",
       "440746                                 Other   \n",
       "708210   Information belongs to someone else   \n",
       "337624                                 Other   \n",
       "783550   Information belongs to someone else   \n",
       "914782                        Account status   \n",
       "742573                                 Other   \n",
       "\n",
       "                              Consumer complaint narrative  \\\n",
       "1059561  On XXXX XXXX of 2015 I requested my Equifax cr...   \n",
       "378040                                   Other Description   \n",
       "583778                                   Other Description   \n",
       "745282   Not trying to still collect but debt was paid ...   \n",
       "440746                                   Other Description   \n",
       "708210                                   Other Description   \n",
       "337624                                   Other Description   \n",
       "783550                                   Other Description   \n",
       "914782                                   Other Description   \n",
       "742573                                   Other Description   \n",
       "\n",
       "                                   Company public response  \\\n",
       "1059561                                  Other Description   \n",
       "378040                                   Other Description   \n",
       "583778                                   Other Description   \n",
       "745282                                   Other Description   \n",
       "440746                                   Other Description   \n",
       "708210                                   Other Description   \n",
       "337624                                   Other Description   \n",
       "783550   Company has responded to the consumer and the ...   \n",
       "914782                                   Other Description   \n",
       "742573                                   Other Description   \n",
       "\n",
       "                                                   Company State ZIP code  \\\n",
       "1059561                                      EQUIFAX, INC.    MA    021XX   \n",
       "378040                      HIGHLANDS RESIDENTIAL MORTGAGE    VA    20147   \n",
       "583778                                JPMORGAN CHASE & CO.    LA    70119   \n",
       "745282   The Law Firm of Ryan E. Calef and Associates, LLC    MN    553XX   \n",
       "440746                                       PNC Bank N.A.    DC    20003   \n",
       "708210                                       EQUIFAX, INC.    CA    92648   \n",
       "337624                               WELLS FARGO & COMPANY    NY    10304   \n",
       "783550                 Experian Information Solutions Inc.    CA    91765   \n",
       "914782              TRANSUNION INTERMEDIATE HOLDINGS, INC.    GA    305XX   \n",
       "742573                           CNG FINANCIAL CORPORATION    CA    93015   \n",
       "\n",
       "                   Tags Consumer consent provided? Submitted via  \\\n",
       "1059561  Older American           Consent provided           Web   \n",
       "378040              NaN                        NaN         Phone   \n",
       "583778              NaN                        NaN      Referral   \n",
       "745282   Older American           Consent provided           Web   \n",
       "440746              NaN                        NaN           Web   \n",
       "708210              NaN       Consent not provided           Web   \n",
       "337624              NaN                        NaN           Web   \n",
       "783550   Older American       Consent not provided           Web   \n",
       "914782              NaN                        NaN   Postal mail   \n",
       "742573              NaN                        NaN   Postal mail   \n",
       "\n",
       "        Date sent to company     Company response to consumer  \\\n",
       "1059561           12/10/2015          Closed with explanation   \n",
       "378040            05/06/2014      Closed with monetary relief   \n",
       "583778            12/17/2014          Closed with explanation   \n",
       "745282            06/06/2016                Untimely response   \n",
       "440746            02/22/2012            Closed without relief   \n",
       "708210            04/30/2018  Closed with non-monetary relief   \n",
       "337624            07/26/2012          Closed with explanation   \n",
       "783550            02/28/2018          Closed with explanation   \n",
       "914782            03/13/2015          Closed with explanation   \n",
       "742573            01/11/2018          Closed with explanation   \n",
       "\n",
       "        Timely response? Consumer disputed?  Complaint ID  \n",
       "1059561              Yes                 No       1691642  \n",
       "378040               Yes                 No        835706  \n",
       "583778               Yes                 No       1160420  \n",
       "745282                No                 No       1916990  \n",
       "440746               Yes                 No         24703  \n",
       "708210               Yes                NaN       2892065  \n",
       "337624               Yes                 No        119989  \n",
       "783550               Yes                NaN       2829054  \n",
       "914782               Yes                 No       1242560  \n",
       "742573               Yes                NaN       2779392  "
      ]
     },
     "execution_count": 28,
     "metadata": {},
     "output_type": "execute_result"
    }
   ],
   "source": [
    "combined.head(10)"
   ]
  },
  {
   "cell_type": "code",
   "execution_count": 29,
   "metadata": {
    "collapsed": true
   },
   "outputs": [],
   "source": [
    "#combined.isnull().sum()"
   ]
  },
  {
   "cell_type": "markdown",
   "metadata": {},
   "source": [
    "As we can see all the NULL values have been removed formt he important features and the ones which are left can be drop or can be used later in while providing recommendation in final output."
   ]
  },
  {
   "cell_type": "markdown",
   "metadata": {},
   "source": [
    "### Exploratory Data Analysis  \n",
    "\n",
    "We will look after the Categories field."
   ]
  },
  {
   "cell_type": "code",
   "execution_count": 30,
   "metadata": {
    "collapsed": true
   },
   "outputs": [],
   "source": [
    "#combined[\"Company response to consumer\"].describe()"
   ]
  },
  {
   "cell_type": "code",
   "execution_count": 31,
   "metadata": {
    "collapsed": true
   },
   "outputs": [],
   "source": [
    "#dict( enumerate(combined[\"Company response to consumer\"].cat.categories) ) "
   ]
  },
  {
   "cell_type": "code",
   "execution_count": 32,
   "metadata": {
    "collapsed": true
   },
   "outputs": [],
   "source": [
    "#combined[\"Company response to consumer\"].value_counts()"
   ]
  },
  {
   "cell_type": "code",
   "execution_count": 33,
   "metadata": {},
   "outputs": [
    {
     "data": {
      "image/png": "[encoded data removed]",
      "text/plain": [
       "<matplotlib.figure.Figure at 0x1a53daeef98>"
      ]
     },
     "metadata": {},
     "output_type": "display_data"
    }
   ],
   "source": [
    "cat = combined[\"Company response to consumer\"].value_counts().reset_index().rename(columns={'index': 'cat_name', 'Company response to consumer':'count'})\n",
    "ax = sns.barplot(x=\"cat_name\", y=\"count\", data=cat)\n",
    "ax.set_xticklabels(ax.get_xticklabels(),rotation=90)\n",
    "ax.set_title('Category Distribution', fontsize=15)\n",
    "plt.show()"
   ]
  },
  {
   "cell_type": "markdown",
   "metadata": {},
   "source": [
    "As you can see from the above plot bar that most of the consumer complaints falls into **'Closed with expalnation'** category, after that **'Closed with  non-monetary relief'** then **'Closed with monetary relief'**"
   ]
  },
  {
   "cell_type": "markdown",
   "metadata": {},
   "source": [
    "## Preparing the corpus for Analysis  \n",
    "\n",
    "a. Remove Puncuations\n",
    "\n",
    "b. Remove Digits\n",
    "\n",
    "c. Remove stop words\n",
    "\n",
    "d. Lower case words\n",
    "\n",
    "e. Lemmatization or Stemming"
   ]
  },
  {
   "cell_type": "markdown",
   "metadata": {},
   "source": [
    "### Removing Punctuation"
   ]
  },
  {
   "cell_type": "code",
   "execution_count": 34,
   "metadata": {},
   "outputs": [
    {
     "data": {
      "text/plain": [
       "'!\"#$%&\\'()*+,-./:;<=>?@[\\\\]^_`{|}~'"
      ]
     },
     "execution_count": 34,
     "metadata": {},
     "output_type": "execute_result"
    }
   ],
   "source": [
    "punctuation"
   ]
  },
  {
   "cell_type": "code",
   "execution_count": 35,
   "metadata": {},
   "outputs": [
    {
     "data": {
      "text/plain": [
       "[('!', ''),\n",
       " ('\"', ''),\n",
       " ('#', ''),\n",
       " ('$', ''),\n",
       " ('%', ''),\n",
       " ('&', ''),\n",
       " (\"'\", ''),\n",
       " ('(', ''),\n",
       " (')', ''),\n",
       " ('*', ''),\n",
       " ('+', ''),\n",
       " (',', ''),\n",
       " ('-', ''),\n",
       " ('.', ''),\n",
       " ('/', ''),\n",
       " (':', ''),\n",
       " (';', ''),\n",
       " ('<', ''),\n",
       " ('=', ''),\n",
       " ('>', ''),\n",
       " ('?', ''),\n",
       " ('@', ''),\n",
       " ('[', ''),\n",
       " ('\\\\', ''),\n",
       " (']', ''),\n",
       " ('^', ''),\n",
       " ('_', ''),\n",
       " ('`', ''),\n",
       " ('{', ''),\n",
       " ('|', ''),\n",
       " ('}', ''),\n",
       " ('~', '')]"
      ]
     },
     "execution_count": 35,
     "metadata": {},
     "output_type": "execute_result"
    }
   ],
   "source": [
    "#Replacing punctuations\n",
    "\n",
    "punctuation_symbols =[]\n",
    "\n",
    "for p in punctuation:\n",
    "    punctuation_symbols.append((p,''))\n",
    "\n",
    "punctuation_symbols"
   ]
  },
  {
   "cell_type": "code",
   "execution_count": 36,
   "metadata": {
    "collapsed": true
   },
   "outputs": [],
   "source": [
    "import string\n",
    "def remove_punctuation(sentence: str) -> str:\n",
    "    return sentence.translate(str.maketrans('', '', string.punctuation))"
   ]
  },
  {
   "cell_type": "markdown",
   "metadata": {},
   "source": [
    "### Removing Digits"
   ]
  },
  {
   "cell_type": "code",
   "execution_count": 37,
   "metadata": {
    "collapsed": true
   },
   "outputs": [],
   "source": [
    "def remove_digit(s):\n",
    "    s = ''.join([k for k in s if not k.isdigit()])\n",
    "    return s"
   ]
  },
  {
   "cell_type": "markdown",
   "metadata": {},
   "source": [
    "### Remove Stop Words"
   ]
  },
  {
   "cell_type": "code",
   "execution_count": 38,
   "metadata": {
    "collapsed": true
   },
   "outputs": [],
   "source": [
    "from nltk.corpus import stopwords\n",
    "\n",
    "stop = stopwords.words('english')\n",
    "\n",
    "def remove_stop_words(x):\n",
    "    x = ' '.join([i for i in x.lower().split(' ') if i not in stop])\n",
    "    return x"
   ]
  },
  {
   "cell_type": "markdown",
   "metadata": {},
   "source": [
    "### Lowercase Words"
   ]
  },
  {
   "cell_type": "code",
   "execution_count": 39,
   "metadata": {
    "collapsed": true
   },
   "outputs": [],
   "source": [
    "def to_lower(x):\n",
    "    return x.lower()"
   ]
  },
  {
   "cell_type": "markdown",
   "metadata": {},
   "source": [
    "### Product Distribution"
   ]
  },
  {
   "cell_type": "code",
   "execution_count": 40,
   "metadata": {},
   "outputs": [
    {
     "data": {
      "text/plain": [
       "18"
      ]
     },
     "execution_count": 40,
     "metadata": {},
     "output_type": "execute_result"
    }
   ],
   "source": [
    "combined[\"Product\"].nunique()"
   ]
  },
  {
   "cell_type": "code",
   "execution_count": 41,
   "metadata": {},
   "outputs": [
    {
     "data": {
      "image/png": "[encoded data removed]",
      "text/plain": [
       "<matplotlib.figure.Figure at 0x1a50a7d3b38>"
      ]
     },
     "metadata": {},
     "output_type": "display_data"
    }
   ],
   "source": [
    "cat = combined[\"Product\"].value_counts().reset_index().rename(columns={'index': 'Product_name', 'Product':'count'})\n",
    "ax = sns.barplot(x=\"Product_name\", y=\"count\", data=cat)\n",
    "ax.set_xticklabels(ax.get_xticklabels(),rotation=90)\n",
    "ax.set_title('Product Distribution', fontsize=15)\n",
    "plt.show()"
   ]
  },
  {
   "cell_type": "markdown",
   "metadata": {},
   "source": [
    "### Issue Distribution\n",
    "\n",
    "From the below plot we got to know top 10 issues in th dataset."
   ]
  },
  {
   "cell_type": "code",
   "execution_count": 42,
   "metadata": {},
   "outputs": [
    {
     "data": {
      "text/html": [
       "<div>\n",
       "<style scoped>\n",
       "    .dataframe tbody tr th:only-of-type {\n",
       "        vertical-align: middle;\n",
       "    }\n",
       "\n",
       "    .dataframe tbody tr th {\n",
       "        vertical-align: top;\n",
       "    }\n",
       "\n",
       "    .dataframe thead th {\n",
       "        text-align: right;\n",
       "    }\n",
       "</style>\n",
       "<table border=\"1\" class=\"dataframe\">\n",
       "  <thead>\n",
       "    <tr style=\"text-align: right;\">\n",
       "      <th></th>\n",
       "      <th>Issue</th>\n",
       "      <th>Complaint ID</th>\n",
       "    </tr>\n",
       "  </thead>\n",
       "  <tbody>\n",
       "    <tr>\n",
       "      <th>0</th>\n",
       "      <td>Loan modification,collection,foreclosure</td>\n",
       "      <td>112313</td>\n",
       "    </tr>\n",
       "    <tr>\n",
       "      <th>1</th>\n",
       "      <td>Incorrect information on credit report</td>\n",
       "      <td>102687</td>\n",
       "    </tr>\n",
       "    <tr>\n",
       "      <th>2</th>\n",
       "      <td>Incorrect information on your report</td>\n",
       "      <td>87535</td>\n",
       "    </tr>\n",
       "    <tr>\n",
       "      <th>3</th>\n",
       "      <td>Loan servicing, payments, escrow account</td>\n",
       "      <td>77337</td>\n",
       "    </tr>\n",
       "    <tr>\n",
       "      <th>4</th>\n",
       "      <td>Cont'd attempts collect debt not owed</td>\n",
       "      <td>60698</td>\n",
       "    </tr>\n",
       "    <tr>\n",
       "      <th>5</th>\n",
       "      <td>Account opening, closing, or management</td>\n",
       "      <td>37961</td>\n",
       "    </tr>\n",
       "    <tr>\n",
       "      <th>6</th>\n",
       "      <td>Problem with a credit reporting company's inve...</td>\n",
       "      <td>34475</td>\n",
       "    </tr>\n",
       "    <tr>\n",
       "      <th>7</th>\n",
       "      <td>Communication tactics</td>\n",
       "      <td>32092</td>\n",
       "    </tr>\n",
       "    <tr>\n",
       "      <th>8</th>\n",
       "      <td>Disclosure verification of debt</td>\n",
       "      <td>30802</td>\n",
       "    </tr>\n",
       "    <tr>\n",
       "      <th>9</th>\n",
       "      <td>Attempts to collect debt not owed</td>\n",
       "      <td>29662</td>\n",
       "    </tr>\n",
       "  </tbody>\n",
       "</table>\n",
       "</div>"
      ],
      "text/plain": [
       "                                               Issue  Complaint ID\n",
       "0           Loan modification,collection,foreclosure        112313\n",
       "1             Incorrect information on credit report        102687\n",
       "2               Incorrect information on your report         87535\n",
       "3           Loan servicing, payments, escrow account         77337\n",
       "4              Cont'd attempts collect debt not owed         60698\n",
       "5            Account opening, closing, or management         37961\n",
       "6  Problem with a credit reporting company's inve...         34475\n",
       "7                              Communication tactics         32092\n",
       "8                    Disclosure verification of debt         30802\n",
       "9                  Attempts to collect debt not owed         29662"
      ]
     },
     "execution_count": 42,
     "metadata": {},
     "output_type": "execute_result"
    },
    {
     "data": {
      "image/png": "[encoded data removed]",
      "text/plain": [
       "<matplotlib.figure.Figure at 0x1a50bc87ef0>"
      ]
     },
     "metadata": {},
     "output_type": "display_data"
    }
   ],
   "source": [
    "# Display Top 20 Issues By their Categories\n",
    "top10_issue = combined.groupby('Issue', axis=0).count()\n",
    "\n",
    "df_ID = pd.DataFrame(top10_issue.sort_values('Complaint ID', ascending = False)['Complaint ID'][0:10].reset_index())\n",
    "ax = sns.barplot(df_ID.Issue, df_ID[\"Complaint ID\"], data=df_ID)\n",
    "#ax.set_xticklabels(ax.get_xticklabels(),rotation=90, fontsize=15)\n",
    "#ax.set_xticklabels(df_ID.Issue,rotation=60)\n",
    "ax.set_title('Top 10 Issues', fontsize=15)\n",
    "#plt.xticks(fontsize=15)\n",
    "plt.yticks(fontsize=15)\n",
    "df_ID\n",
    "#plt.show()# Displayd frequency ratio of brand names"
   ]
  },
  {
   "cell_type": "code",
   "execution_count": 43,
   "metadata": {},
   "outputs": [
    {
     "data": {
      "image/png": "[encoded data removed]",
      "text/plain": [
       "<matplotlib.figure.Figure at 0x1a531c6c908>"
      ]
     },
     "metadata": {},
     "output_type": "display_data"
    }
   ],
   "source": [
    "fig, axes = plt.subplots(figsize=(12, 7))\n",
    "main = combined[combined[\"Complaint ID\"]<1000]\n",
    "# Use a color palette\n",
    "ax = sns.boxplot( x=main[\"Company response to consumer\"], y=main[\"Complaint ID\"], palette=\"BuGn_r\")\n",
    "ax.set_xticklabels(ax.get_xticklabels(),rotation=90, fontsize=12)\n",
    "\n",
    "sns.plt.show()"
   ]
  },
  {
   "cell_type": "markdown",
   "metadata": {},
   "source": [
    "## Consumer Narrative Analysis\n",
    "\n",
    "Hypothesis:\n",
    "\n",
    "Does length play a role in final result?  \n",
    "Does certain descriptions gives a same result?  \n",
    "Lenghthier descriptions mean more effort in the process, more authentic, more valuable?  "
   ]
  },
  {
   "cell_type": "code",
   "execution_count": 44,
   "metadata": {
    "collapsed": true
   },
   "outputs": [],
   "source": [
    "# Remove Punctuation\n",
    "combined[\"Consumer complaint narrative\"] = combined[\"Consumer complaint narrative\"].astype(str)\n",
    "\n",
    "descr = combined[[\"Consumer complaint narrative\", \"Company response to consumer\"]]\n",
    "descr['count'] = descr[\"Consumer complaint narrative\"].apply(lambda x : len(str(x)))\n",
    "\n",
    "descr[\"Consumer complaint narrative\"] = descr[\"Consumer complaint narrative\"].apply(remove_digit)\n",
    "descr[\"Consumer complaint narrative\"] = descr[\"Consumer complaint narrative\"].apply(remove_punctuation)\n",
    "descr[\"Consumer complaint narrative\"] = descr[\"Consumer complaint narrative\"].apply(remove_stop_words)"
   ]
  },
  {
   "cell_type": "code",
   "execution_count": 45,
   "metadata": {
    "collapsed": true
   },
   "outputs": [],
   "source": [
    "from nltk.stem.porter import PorterStemmer\n",
    "\n",
    "porter = PorterStemmer()\n",
    "\n",
    "descr[\"Consumer complaint narrative\"] = descr[\"Consumer complaint narrative\"].apply(porter.stem)"
   ]
  },
  {
   "cell_type": "code",
   "execution_count": 46,
   "metadata": {},
   "outputs": [
    {
     "data": {
      "text/plain": [
       "(1124716, 3)"
      ]
     },
     "execution_count": 46,
     "metadata": {},
     "output_type": "execute_result"
    }
   ],
   "source": [
    "descr.shape"
   ]
  },
  {
   "cell_type": "code",
   "execution_count": 47,
   "metadata": {},
   "outputs": [
    {
     "data": {
      "text/html": [
       "<div>\n",
       "<style scoped>\n",
       "    .dataframe tbody tr th:only-of-type {\n",
       "        vertical-align: middle;\n",
       "    }\n",
       "\n",
       "    .dataframe tbody tr th {\n",
       "        vertical-align: top;\n",
       "    }\n",
       "\n",
       "    .dataframe thead th {\n",
       "        text-align: right;\n",
       "    }\n",
       "</style>\n",
       "<table border=\"1\" class=\"dataframe\">\n",
       "  <thead>\n",
       "    <tr style=\"text-align: right;\">\n",
       "      <th></th>\n",
       "      <th>Consumer complaint narrative</th>\n",
       "      <th>Company response to consumer</th>\n",
       "      <th>count</th>\n",
       "    </tr>\n",
       "  </thead>\n",
       "  <tbody>\n",
       "    <tr>\n",
       "      <th>925618</th>\n",
       "      <td>descript</td>\n",
       "      <td>Closed with explanation</td>\n",
       "      <td>17</td>\n",
       "    </tr>\n",
       "    <tr>\n",
       "      <th>82482</th>\n",
       "      <td>descript</td>\n",
       "      <td>Closed with non-monetary relief</td>\n",
       "      <td>17</td>\n",
       "    </tr>\n",
       "    <tr>\n",
       "      <th>500382</th>\n",
       "      <td>descript</td>\n",
       "      <td>Closed with non-monetary relief</td>\n",
       "      <td>17</td>\n",
       "    </tr>\n",
       "    <tr>\n",
       "      <th>590582</th>\n",
       "      <td>descript</td>\n",
       "      <td>Closed with explanation</td>\n",
       "      <td>17</td>\n",
       "    </tr>\n",
       "    <tr>\n",
       "      <th>855264</th>\n",
       "      <td>descript</td>\n",
       "      <td>Closed with non-monetary relief</td>\n",
       "      <td>17</td>\n",
       "    </tr>\n",
       "    <tr>\n",
       "      <th>147675</th>\n",
       "      <td>dear bcfp xxxx xxxx  sister filed first reques...</td>\n",
       "      <td>Closed with explanation</td>\n",
       "      <td>858</td>\n",
       "    </tr>\n",
       "    <tr>\n",
       "      <th>379408</th>\n",
       "      <td>descript</td>\n",
       "      <td>Closed with explanation</td>\n",
       "      <td>17</td>\n",
       "    </tr>\n",
       "    <tr>\n",
       "      <th>971471</th>\n",
       "      <td>dear support representative discovered online ...</td>\n",
       "      <td>Closed with explanation</td>\n",
       "      <td>271</td>\n",
       "    </tr>\n",
       "    <tr>\n",
       "      <th>14993</th>\n",
       "      <td>descript</td>\n",
       "      <td>In progress</td>\n",
       "      <td>17</td>\n",
       "    </tr>\n",
       "    <tr>\n",
       "      <th>857061</th>\n",
       "      <td>descript</td>\n",
       "      <td>Closed with explanation</td>\n",
       "      <td>17</td>\n",
       "    </tr>\n",
       "  </tbody>\n",
       "</table>\n",
       "</div>"
      ],
      "text/plain": [
       "                             Consumer complaint narrative  \\\n",
       "925618                                           descript   \n",
       "82482                                            descript   \n",
       "500382                                           descript   \n",
       "590582                                           descript   \n",
       "855264                                           descript   \n",
       "147675  dear bcfp xxxx xxxx  sister filed first reques...   \n",
       "379408                                           descript   \n",
       "971471  dear support representative discovered online ...   \n",
       "14993                                            descript   \n",
       "857061                                           descript   \n",
       "\n",
       "           Company response to consumer  count  \n",
       "925618          Closed with explanation     17  \n",
       "82482   Closed with non-monetary relief     17  \n",
       "500382  Closed with non-monetary relief     17  \n",
       "590582          Closed with explanation     17  \n",
       "855264  Closed with non-monetary relief     17  \n",
       "147675          Closed with explanation    858  \n",
       "379408          Closed with explanation     17  \n",
       "971471          Closed with explanation    271  \n",
       "14993                       In progress     17  \n",
       "857061          Closed with explanation     17  "
      ]
     },
     "execution_count": 47,
     "metadata": {},
     "output_type": "execute_result"
    }
   ],
   "source": [
    "descr.tail(10)"
   ]
  },
  {
   "cell_type": "code",
   "execution_count": 48,
   "metadata": {
    "collapsed": true
   },
   "outputs": [],
   "source": [
    "#df = descr.groupby(\"Company response to consumer\")['count'].count().reset_index()\n",
    "#.count().reset_index()\n",
    "#sns.regplot(x=descr[\"Company response to consumer\"], y=(descr['count']))\n",
    "#plt.xlabel(\"word count\")\n",
    "#plt.show()"
   ]
  },
  {
   "cell_type": "code",
   "execution_count": 49,
   "metadata": {},
   "outputs": [
    {
     "data": {
      "text/html": [
       "<div>\n",
       "<style scoped>\n",
       "    .dataframe tbody tr th:only-of-type {\n",
       "        vertical-align: middle;\n",
       "    }\n",
       "\n",
       "    .dataframe tbody tr th {\n",
       "        vertical-align: top;\n",
       "    }\n",
       "\n",
       "    .dataframe thead th {\n",
       "        text-align: right;\n",
       "    }\n",
       "</style>\n",
       "<table border=\"1\" class=\"dataframe\">\n",
       "  <thead>\n",
       "    <tr style=\"text-align: right;\">\n",
       "      <th></th>\n",
       "      <th>Date received</th>\n",
       "      <th>Product</th>\n",
       "      <th>Sub-product</th>\n",
       "      <th>Issue</th>\n",
       "      <th>Sub-issue</th>\n",
       "      <th>Consumer complaint narrative</th>\n",
       "      <th>Company public response</th>\n",
       "      <th>Company</th>\n",
       "      <th>State</th>\n",
       "      <th>ZIP code</th>\n",
       "      <th>Tags</th>\n",
       "      <th>Consumer consent provided?</th>\n",
       "      <th>Submitted via</th>\n",
       "      <th>Date sent to company</th>\n",
       "      <th>Company response to consumer</th>\n",
       "      <th>Timely response?</th>\n",
       "      <th>Consumer disputed?</th>\n",
       "      <th>Complaint ID</th>\n",
       "    </tr>\n",
       "  </thead>\n",
       "  <tbody>\n",
       "    <tr>\n",
       "      <th>1059561</th>\n",
       "      <td>12/10/2015</td>\n",
       "      <td>Credit reporting</td>\n",
       "      <td>Other</td>\n",
       "      <td>Credit monitoring or identity protection</td>\n",
       "      <td>Problem with fraud alerts</td>\n",
       "      <td>On XXXX XXXX of 2015 I requested my Equifax cr...</td>\n",
       "      <td>Other Description</td>\n",
       "      <td>EQUIFAX, INC.</td>\n",
       "      <td>MA</td>\n",
       "      <td>021XX</td>\n",
       "      <td>Older American</td>\n",
       "      <td>Consent provided</td>\n",
       "      <td>Web</td>\n",
       "      <td>12/10/2015</td>\n",
       "      <td>Closed with explanation</td>\n",
       "      <td>Yes</td>\n",
       "      <td>No</td>\n",
       "      <td>1691642</td>\n",
       "    </tr>\n",
       "    <tr>\n",
       "      <th>378040</th>\n",
       "      <td>05/02/2014</td>\n",
       "      <td>Mortgage</td>\n",
       "      <td>Conventional fixed mortgage</td>\n",
       "      <td>Application, originator, mortgage broker</td>\n",
       "      <td>Other</td>\n",
       "      <td>Other Description</td>\n",
       "      <td>Other Description</td>\n",
       "      <td>HIGHLANDS RESIDENTIAL MORTGAGE</td>\n",
       "      <td>VA</td>\n",
       "      <td>20147</td>\n",
       "      <td>NaN</td>\n",
       "      <td>NaN</td>\n",
       "      <td>Phone</td>\n",
       "      <td>05/06/2014</td>\n",
       "      <td>Closed with monetary relief</td>\n",
       "      <td>Yes</td>\n",
       "      <td>No</td>\n",
       "      <td>835706</td>\n",
       "    </tr>\n",
       "    <tr>\n",
       "      <th>583778</th>\n",
       "      <td>12/17/2014</td>\n",
       "      <td>Bank account or service</td>\n",
       "      <td>Checking account</td>\n",
       "      <td>Deposits and withdrawals</td>\n",
       "      <td>Other</td>\n",
       "      <td>Other Description</td>\n",
       "      <td>Other Description</td>\n",
       "      <td>JPMORGAN CHASE &amp; CO.</td>\n",
       "      <td>LA</td>\n",
       "      <td>70119</td>\n",
       "      <td>NaN</td>\n",
       "      <td>NaN</td>\n",
       "      <td>Referral</td>\n",
       "      <td>12/17/2014</td>\n",
       "      <td>Closed with explanation</td>\n",
       "      <td>Yes</td>\n",
       "      <td>No</td>\n",
       "      <td>1160420</td>\n",
       "    </tr>\n",
       "    <tr>\n",
       "      <th>745282</th>\n",
       "      <td>05/09/2016</td>\n",
       "      <td>Debt collection</td>\n",
       "      <td>Credit card</td>\n",
       "      <td>Cont'd attempts collect debt not owed</td>\n",
       "      <td>Debt was paid</td>\n",
       "      <td>Not trying to still collect but debt was paid ...</td>\n",
       "      <td>Other Description</td>\n",
       "      <td>The Law Firm of Ryan E. Calef and Associates, LLC</td>\n",
       "      <td>MN</td>\n",
       "      <td>553XX</td>\n",
       "      <td>Older American</td>\n",
       "      <td>Consent provided</td>\n",
       "      <td>Web</td>\n",
       "      <td>06/06/2016</td>\n",
       "      <td>Untimely response</td>\n",
       "      <td>No</td>\n",
       "      <td>No</td>\n",
       "      <td>1916990</td>\n",
       "    </tr>\n",
       "    <tr>\n",
       "      <th>440746</th>\n",
       "      <td>02/17/2012</td>\n",
       "      <td>Mortgage</td>\n",
       "      <td>Conventional fixed mortgage</td>\n",
       "      <td>Loan modification,collection,foreclosure</td>\n",
       "      <td>Other</td>\n",
       "      <td>Other Description</td>\n",
       "      <td>Other Description</td>\n",
       "      <td>PNC Bank N.A.</td>\n",
       "      <td>DC</td>\n",
       "      <td>20003</td>\n",
       "      <td>NaN</td>\n",
       "      <td>NaN</td>\n",
       "      <td>Web</td>\n",
       "      <td>02/22/2012</td>\n",
       "      <td>Closed without relief</td>\n",
       "      <td>Yes</td>\n",
       "      <td>No</td>\n",
       "      <td>24703</td>\n",
       "    </tr>\n",
       "  </tbody>\n",
       "</table>\n",
       "</div>"
      ],
      "text/plain": [
       "        Date received                  Product                  Sub-product  \\\n",
       "1059561    12/10/2015         Credit reporting                        Other   \n",
       "378040     05/02/2014                 Mortgage  Conventional fixed mortgage   \n",
       "583778     12/17/2014  Bank account or service             Checking account   \n",
       "745282     05/09/2016          Debt collection                  Credit card   \n",
       "440746     02/17/2012                 Mortgage  Conventional fixed mortgage   \n",
       "\n",
       "                                            Issue                  Sub-issue  \\\n",
       "1059561  Credit monitoring or identity protection  Problem with fraud alerts   \n",
       "378040   Application, originator, mortgage broker                      Other   \n",
       "583778                   Deposits and withdrawals                      Other   \n",
       "745282      Cont'd attempts collect debt not owed              Debt was paid   \n",
       "440746   Loan modification,collection,foreclosure                      Other   \n",
       "\n",
       "                              Consumer complaint narrative  \\\n",
       "1059561  On XXXX XXXX of 2015 I requested my Equifax cr...   \n",
       "378040                                   Other Description   \n",
       "583778                                   Other Description   \n",
       "745282   Not trying to still collect but debt was paid ...   \n",
       "440746                                   Other Description   \n",
       "\n",
       "        Company public response  \\\n",
       "1059561       Other Description   \n",
       "378040        Other Description   \n",
       "583778        Other Description   \n",
       "745282        Other Description   \n",
       "440746        Other Description   \n",
       "\n",
       "                                                   Company State ZIP code  \\\n",
       "1059561                                      EQUIFAX, INC.    MA    021XX   \n",
       "378040                      HIGHLANDS RESIDENTIAL MORTGAGE    VA    20147   \n",
       "583778                                JPMORGAN CHASE & CO.    LA    70119   \n",
       "745282   The Law Firm of Ryan E. Calef and Associates, LLC    MN    553XX   \n",
       "440746                                       PNC Bank N.A.    DC    20003   \n",
       "\n",
       "                   Tags Consumer consent provided? Submitted via  \\\n",
       "1059561  Older American           Consent provided           Web   \n",
       "378040              NaN                        NaN         Phone   \n",
       "583778              NaN                        NaN      Referral   \n",
       "745282   Older American           Consent provided           Web   \n",
       "440746              NaN                        NaN           Web   \n",
       "\n",
       "        Date sent to company Company response to consumer Timely response?  \\\n",
       "1059561           12/10/2015      Closed with explanation              Yes   \n",
       "378040            05/06/2014  Closed with monetary relief              Yes   \n",
       "583778            12/17/2014      Closed with explanation              Yes   \n",
       "745282            06/06/2016            Untimely response               No   \n",
       "440746            02/22/2012        Closed without relief              Yes   \n",
       "\n",
       "        Consumer disputed?  Complaint ID  \n",
       "1059561                 No       1691642  \n",
       "378040                  No        835706  \n",
       "583778                  No       1160420  \n",
       "745282                  No       1916990  \n",
       "440746                  No         24703  "
      ]
     },
     "execution_count": 49,
     "metadata": {},
     "output_type": "execute_result"
    }
   ],
   "source": [
    " combined.head()"
   ]
  },
  {
   "cell_type": "code",
   "execution_count": 50,
   "metadata": {
    "collapsed": true
   },
   "outputs": [],
   "source": [
    "# to_categorical - Converts Categorical Features \n",
    "def to_categorical(df):\n",
    "    df['Product'] = df['Product'].astype('category')\n",
    "    df['Sub-product'] = df['Sub-product'].astype('category')\n",
    "    df['Issue'] = df['Issue'].astype('category')\n",
    "    df['Sub-issue'] = df['Sub-issue'].astype('category')\n",
    "    df['Company public response'] = df['Company public response'].astype('category')\n",
    "    df['Consumer consent provided?'] = df['Consumer consent provided?'].astype('category')\n",
    "    df['Company response to consumer'] = df['Company response to consumer'].astype('category')\n",
    "    #df['Sub-product']  =  df['Sub-product'] .cat.add_categories(['Other'])\n",
    "    #df['Sub-issue'] = df['Sub-issue'].cat.add_categories(['Other'])\n",
    "    #df['Company public response'] = df['Company public response'].cat.add_categories(['None'])"
   ]
  },
  {
   "cell_type": "markdown",
   "metadata": {},
   "source": [
    "## Applying Preprocessing Functions"
   ]
  },
  {
   "cell_type": "code",
   "execution_count": 51,
   "metadata": {
    "collapsed": true
   },
   "outputs": [],
   "source": [
    "# Applying the pre-processing functions\n",
    "train_c =combined\n",
    "#handle_missing_values(train)\n",
    "to_categorical(combined)"
   ]
  },
  {
   "cell_type": "code",
   "execution_count": 52,
   "metadata": {
    "collapsed": true
   },
   "outputs": [],
   "source": [
    "# Remove Punctuation\n",
    "combined[\"Consumer complaint narrative\"] = combined[\"Consumer complaint narrative\"].astype(str)\n",
    "\n",
    "combined[\"Consumer complaint narrative\"] = combined[\"Consumer complaint narrative\"].apply(remove_digit)\n",
    "combined[\"Consumer complaint narrative\"] = combined[\"Consumer complaint narrative\"].apply(remove_punctuation)\n",
    "\n",
    "combined[\"Consumer complaint narrative\"] = combined[\"Consumer complaint narrative\"].apply(remove_stop_words)\n",
    "#train[\"Consumer complaint narrative\"] = train[\"Consumer complaint narrative\"].replace(['x','X'],'')\n",
    "combined[\"Product\"] = combined[\"Product\"].apply(remove_digit)\n",
    "combined[\"Product\"] = combined[\"Product\"].apply(remove_punctuation)\n",
    "combined[\"Product\"] = combined[\"Product\"].apply(remove_stop_words)\n",
    "\n",
    "combined[\"Issue\"] = combined[\"Issue\"].apply(remove_digit)\n",
    "combined[\"Issue\"] = combined[\"Issue\"].apply(remove_punctuation)\n",
    "combined[\"Issue\"] = combined[\"Issue\"].apply(remove_stop_words)\n"
   ]
  },
  {
   "cell_type": "code",
   "execution_count": 53,
   "metadata": {},
   "outputs": [
    {
     "data": {
      "text/plain": [
       "1059561    xxxx xxxx  requested equifax credit file froze...\n",
       "378040                                           description\n",
       "583778                                           description\n",
       "745282     trying still collect debt paid full xxxx ryan ...\n",
       "440746                                           description\n",
       "708210                                           description\n",
       "337624                                           description\n",
       "783550                                           description\n",
       "914782                                           description\n",
       "742573                                           description\n",
       "Name: Consumer complaint narrative, dtype: object"
      ]
     },
     "execution_count": 53,
     "metadata": {},
     "output_type": "execute_result"
    }
   ],
   "source": [
    "combined[\"Consumer complaint narrative\"].head(10)"
   ]
  },
  {
   "cell_type": "markdown",
   "metadata": {
    "collapsed": true
   },
   "source": [
    "### Feature Extraction with text\n",
    "\n",
    "**Feature Pre-Processing**: Sometimes you can't just fit a dataset into your model and expect good results. Each type of feature has their own way of preprocessing. Choice of preprocessing method also depends on the model we are trying to use.\n",
    "\n",
    "Since we're working with Text Features, we're going to do a lot of vectorization:\n",
    "\n",
    "**Tokenization**: split each text into words (bag of words model)  \n",
    "**Stemming**: removing word inflections (getting the root word)  \n",
    "**Vectorization**: reducing text into a vector with different types of frequencies for each word (Count Values or TF-IDF Values)\n",
    "\n",
    "### Bag Of Words\n",
    "\n",
    "When we vectorize these words, we're doing creating a feature for each word. Also known as, Bag of Words. We lose word ordering\n",
    "\n",
    "**Solution:** To preserve some ordering, we can introduce n-grams into our vectorization of words (problem: too many features)\n",
    "\n",
    "one way to reduce dimensions of n-grams is to remove stop words (a, the, is)\n",
    "**stop words:** we can remove these words becaues they are just there for grammatical structure with little to no meaning\n",
    "**n-gram**\\   with smaller frequencies can highlight and capture important parts of a document/text. This preserves local ordering and can improve model performance."
   ]
  },
  {
   "cell_type": "code",
   "execution_count": 54,
   "metadata": {},
   "outputs": [
    {
     "data": {
      "text/plain": [
       "(1124716, 18)"
      ]
     },
     "execution_count": 54,
     "metadata": {},
     "output_type": "execute_result"
    }
   ],
   "source": [
    "combined.shape"
   ]
  },
  {
   "cell_type": "code",
   "execution_count": 55,
   "metadata": {
    "collapsed": true
   },
   "outputs": [],
   "source": [
    "# Examine the normalize item description\n",
    "combined =combined[combined['Consumer complaint narrative'] != 'description']\n"
   ]
  },
  {
   "cell_type": "code",
   "execution_count": 56,
   "metadata": {
    "collapsed": true
   },
   "outputs": [],
   "source": [
    "def dup_char(x):\n",
    "    return (re.sub('[xx]','',x))"
   ]
  },
  {
   "cell_type": "code",
   "execution_count": 57,
   "metadata": {
    "collapsed": true
   },
   "outputs": [],
   "source": [
    "combined[\"Consumer complaint narrative\"] = combined[\"Consumer complaint narrative\"].astype(str).apply(dup_char)"
   ]
  },
  {
   "cell_type": "code",
   "execution_count": 58,
   "metadata": {},
   "outputs": [
    {
     "data": {
      "text/plain": [
       "(323622, 18)"
      ]
     },
     "execution_count": 58,
     "metadata": {},
     "output_type": "execute_result"
    }
   ],
   "source": [
    "combined.shape"
   ]
  },
  {
   "cell_type": "code",
   "execution_count": 59,
   "metadata": {},
   "outputs": [
    {
     "data": {
      "text/plain": [
       "374438     canceled  account  agreed new contract  years ...\n",
       "473021     chase yet get back complaint   chg  hello fres...\n",
       "257235     ok im escrowed  ditech sent  dollars  county t...\n",
       "1024701    attempting avoid foreclosure sale completing s...\n",
       "68721      loan transferred new servicer  uheaa  new serv...\n",
       "990343     contacted   several times missing information ...\n",
       "461712     default mortgage since able keep payments due ...\n",
       "1099460    name    believe victim scam company dealt know...\n",
       "944420     filed complaint almost two years ago mortgage ...\n",
       "1099478    called quicken loans limited purpose obtaining...\n",
       "Name: Consumer complaint narrative, dtype: object"
      ]
     },
     "execution_count": 59,
     "metadata": {},
     "output_type": "execute_result"
    }
   ],
   "source": [
    "# Examine the normalize item description\n",
    "combined['Consumer complaint narrative'][60:70]"
   ]
  },
  {
   "cell_type": "code",
   "execution_count": 60,
   "metadata": {
    "collapsed": true
   },
   "outputs": [],
   "source": [
    "#import nltk\n",
    "#nltk.download('punkt')\n",
    "from nltk.tokenize import word_tokenize\n",
    "\n",
    "text1 = combined['Consumer complaint narrative'].iloc[65]\n",
    "tokens = word_tokenize(text1)\n"
   ]
  },
  {
   "cell_type": "markdown",
   "metadata": {},
   "source": [
    "## TF - IDF\n",
    "\n",
    "Main Goal - Measure how important a word or phrase is within a collection of documents. Its essentially **weigh down** terms that appear frequently and **scale up** unique terms.\n",
    "\n",
    "** TF Term Frequency-** ( Number of times terms t appears in a document / Total number of terms in the document)  \n",
    "** IDF Inverse Document Frequency-** log_e( Total number of documents / Number of documents with term t in it)  \n",
    "** TF X IDF-** A measure of how important term in a document.  \n",
    "\n",
    "* When you have a **high** term frequency in a document and it appears in many documents in the corpus = ** Low TFIDF**  \n",
    "* When you have a **low** term frequency in a document and it appears in **not so many** documents in the corpus = ** High TFIDF**  \n",
    "\n",
    "**CORPUS =  Collection of documents**  \n",
    "\n",
    "** Important Parameters**  \n",
    "\n",
    "1. ngram_range  \n",
    "2. stop words  \n",
    "3. lowercase  \n",
    "4. max_df  :-  max threshold that will ignore a term that has a document frequency higher than that.    \n",
    "5. min_df  :-  min threshold that will ignore a term that has a document frequency lower than that.  \n",
    "6. max_features :- get the assigned amount of features with highest amount of term frequencies(scores).  \n",
    "\n"
   ]
  },
  {
   "cell_type": "markdown",
   "metadata": {
    "collapsed": true
   },
   "source": [
    "### Count Vectorizer\n",
    "\n",
    "Generating new features of **Product Name** and **Issue**"
   ]
  },
  {
   "cell_type": "code",
   "execution_count": 61,
   "metadata": {},
   "outputs": [
    {
     "name": "stdout",
     "output_type": "stream",
     "text": [
      "(323622, 29)\n"
     ]
    }
   ],
   "source": [
    "# Apply Count Vectorizer to \"Product\", this converts it into a sparse matrix \n",
    "\n",
    "cv = CountVectorizer(min_df=10)\n",
    "X_Product = cv.fit_transform(combined['Product'])\n",
    "X_Product\n",
    "\n",
    "print(str(X_Product.shape))"
   ]
  },
  {
   "cell_type": "code",
   "execution_count": 62,
   "metadata": {},
   "outputs": [
    {
     "name": "stdout",
     "output_type": "stream",
     "text": [
      "(323622, 210)\n"
     ]
    }
   ],
   "source": [
    "cv = CountVectorizer(min_df=10)\n",
    "X_Issue = cv.fit_transform(combined['Issue'])\n",
    "X_Issue\n",
    "\n",
    "print(str(X_Issue.shape))"
   ]
  },
  {
   "cell_type": "code",
   "execution_count": 63,
   "metadata": {},
   "outputs": [
    {
     "name": "stdout",
     "output_type": "stream",
     "text": [
      "(323622, 55000)\n"
     ]
    }
   ],
   "source": [
    "# Apply TFIDF to \"Consumer complaint Narrative\", \n",
    "tv = TfidfVectorizer(max_features=55000, ngram_range=(1, 2), stop_words='english',norm ='l1')\n",
    "X_description = tv.fit_transform(combined['Consumer complaint narrative'])\n",
    "\n",
    "print(str(X_description.shape))"
   ]
  },
  {
   "cell_type": "markdown",
   "metadata": {},
   "source": [
    "#### Observing TF-IDF weights"
   ]
  },
  {
   "cell_type": "code",
   "execution_count": 64,
   "metadata": {},
   "outputs": [
    {
     "data": {
      "text/html": [
       "<div>\n",
       "<style scoped>\n",
       "    .dataframe tbody tr th:only-of-type {\n",
       "        vertical-align: middle;\n",
       "    }\n",
       "\n",
       "    .dataframe tbody tr th {\n",
       "        vertical-align: top;\n",
       "    }\n",
       "\n",
       "    .dataframe thead th {\n",
       "        text-align: right;\n",
       "    }\n",
       "</style>\n",
       "<table border=\"1\" class=\"dataframe\">\n",
       "  <thead>\n",
       "    <tr style=\"text-align: right;\">\n",
       "      <th></th>\n",
       "      <th>tfidf</th>\n",
       "    </tr>\n",
       "  </thead>\n",
       "  <tbody>\n",
       "    <tr>\n",
       "      <th>credit</th>\n",
       "      <td>1.620392</td>\n",
       "    </tr>\n",
       "    <tr>\n",
       "      <th>account</th>\n",
       "      <td>1.849056</td>\n",
       "    </tr>\n",
       "    <tr>\n",
       "      <th>report</th>\n",
       "      <td>2.131541</td>\n",
       "    </tr>\n",
       "    <tr>\n",
       "      <th>received</th>\n",
       "      <td>2.239438</td>\n",
       "    </tr>\n",
       "    <tr>\n",
       "      <th>information</th>\n",
       "      <td>2.240613</td>\n",
       "    </tr>\n",
       "    <tr>\n",
       "      <th>time</th>\n",
       "      <td>2.324883</td>\n",
       "    </tr>\n",
       "    <tr>\n",
       "      <th>told</th>\n",
       "      <td>2.350991</td>\n",
       "    </tr>\n",
       "    <tr>\n",
       "      <th>company</th>\n",
       "      <td>2.351576</td>\n",
       "    </tr>\n",
       "    <tr>\n",
       "      <th>called</th>\n",
       "      <td>2.386675</td>\n",
       "    </tr>\n",
       "    <tr>\n",
       "      <th>payment</th>\n",
       "      <td>2.417743</td>\n",
       "    </tr>\n",
       "  </tbody>\n",
       "</table>\n",
       "</div>"
      ],
      "text/plain": [
       "                tfidf\n",
       "credit       1.620392\n",
       "account      1.849056\n",
       "report       2.131541\n",
       "received     2.239438\n",
       "information  2.240613\n",
       "time         2.324883\n",
       "told         2.350991\n",
       "company      2.351576\n",
       "called       2.386675\n",
       "payment      2.417743"
      ]
     },
     "execution_count": 64,
     "metadata": {},
     "output_type": "execute_result"
    }
   ],
   "source": [
    "\n",
    "#  create a dictionary mapping the tokens to their tfidf values\n",
    "tfidf = dict(zip(tv.get_feature_names(), tv.idf_))\n",
    "tfidf = pd.DataFrame(columns=['tfidf']).from_dict( dict(tfidf), orient='index')\n",
    "tfidf.columns = ['tfidf']\n",
    "\n",
    "# Lowest TFIDF Scores\n",
    "tfidf.sort_values(by=['tfidf'], ascending=True).head(10)"
   ]
  },
  {
   "cell_type": "code",
   "execution_count": 65,
   "metadata": {},
   "outputs": [
    {
     "data": {
      "text/html": [
       "<div>\n",
       "<style scoped>\n",
       "    .dataframe tbody tr th:only-of-type {\n",
       "        vertical-align: middle;\n",
       "    }\n",
       "\n",
       "    .dataframe tbody tr th {\n",
       "        vertical-align: top;\n",
       "    }\n",
       "\n",
       "    .dataframe thead th {\n",
       "        text-align: right;\n",
       "    }\n",
       "</style>\n",
       "<table border=\"1\" class=\"dataframe\">\n",
       "  <thead>\n",
       "    <tr style=\"text-align: right;\">\n",
       "      <th></th>\n",
       "      <th>tfidf</th>\n",
       "    </tr>\n",
       "  </thead>\n",
       "  <tbody>\n",
       "    <tr>\n",
       "      <th>usd archive</th>\n",
       "      <td>12.994187</td>\n",
       "    </tr>\n",
       "    <tr>\n",
       "      <th>archive debit</th>\n",
       "      <td>12.994187</td>\n",
       "    </tr>\n",
       "    <tr>\n",
       "      <th>completed usd</th>\n",
       "      <td>12.588722</td>\n",
       "    </tr>\n",
       "    <tr>\n",
       "      <th>alleged banklender</th>\n",
       "      <td>12.588722</td>\n",
       "    </tr>\n",
       "    <tr>\n",
       "      <th>banklender servicer</th>\n",
       "      <td>12.588722</td>\n",
       "    </tr>\n",
       "    <tr>\n",
       "      <th>creditor simon</th>\n",
       "      <td>12.301040</td>\n",
       "    </tr>\n",
       "    <tr>\n",
       "      <th>details nv</th>\n",
       "      <td>12.077897</td>\n",
       "    </tr>\n",
       "    <tr>\n",
       "      <th>gasoline view</th>\n",
       "      <td>12.077897</td>\n",
       "    </tr>\n",
       "    <tr>\n",
       "      <th>warning llc</th>\n",
       "      <td>12.077897</td>\n",
       "    </tr>\n",
       "    <tr>\n",
       "      <th>nv supermarkets</th>\n",
       "      <td>12.077897</td>\n",
       "    </tr>\n",
       "  </tbody>\n",
       "</table>\n",
       "</div>"
      ],
      "text/plain": [
       "                         tfidf\n",
       "usd archive          12.994187\n",
       "archive debit        12.994187\n",
       "completed usd        12.588722\n",
       "alleged banklender   12.588722\n",
       "banklender servicer  12.588722\n",
       "creditor simon       12.301040\n",
       "details nv           12.077897\n",
       "gasoline view        12.077897\n",
       "warning llc          12.077897\n",
       "nv supermarkets      12.077897"
      ]
     },
     "execution_count": 65,
     "metadata": {},
     "output_type": "execute_result"
    }
   ],
   "source": [
    "# HIghest TFIDF Scores\n",
    "tfidf.sort_values(by=['tfidf'], ascending=False).head(10)"
   ]
  },
  {
   "cell_type": "code",
   "execution_count": 66,
   "metadata": {
    "collapsed": true
   },
   "outputs": [],
   "source": [
    "# Combine everything together\n",
    "sparse_merge = hstack((X_description, X_Product, X_Issue)).tocsr()"
   ]
  },
  {
   "cell_type": "code",
   "execution_count": 67,
   "metadata": {},
   "outputs": [
    {
     "data": {
      "text/plain": [
       "(323622, 55239)"
      ]
     },
     "execution_count": 67,
     "metadata": {},
     "output_type": "execute_result"
    }
   ],
   "source": [
    "sparse_merge.shape"
   ]
  },
  {
   "cell_type": "code",
   "execution_count": 68,
   "metadata": {},
   "outputs": [
    {
     "data": {
      "text/plain": [
       "787301"
      ]
     },
     "execution_count": 68,
     "metadata": {},
     "output_type": "execute_result"
    }
   ],
   "source": [
    "train_size"
   ]
  },
  {
   "cell_type": "code",
   "execution_count": 70,
   "metadata": {},
   "outputs": [
    {
     "name": "stdout",
     "output_type": "stream",
     "text": [
      "(226535, 55239) (97087, 55239)\n"
     ]
    }
   ],
   "source": [
    "X_train_sparse ,X_test  = train_test_split(sparse_merge, test_size=0.3)\n",
    "print (X_train_sparse.shape, X_test .shape)"
   ]
  },
  {
   "cell_type": "code",
   "execution_count": 76,
   "metadata": {},
   "outputs": [
    {
     "name": "stderr",
     "output_type": "stream",
     "text": [
      "C:\\Users\\Shringa\\Anaconda3\\lib\\site-packages\\sklearn\\decomposition\\online_lda.py:508: DeprecationWarning: The default value for 'learning_method' will be changed from 'online' to 'batch' in the release 0.20. This warning was introduced in 0.18.\n",
      "  DeprecationWarning)\n"
     ]
    },
    {
     "name": "stdout",
     "output_type": "stream",
     "text": [
      "Topic 0: knowledge debt | usc | failing report | violated usc | report complete | continuing collection | complete accurate | usc failing | desist usc | usc continuing\n",
      "Topic 1: services reported | debt protection | contract received | adequate proof | ssn credit | contract business | business contract | updated correct | account ssn | provided adequate\n",
      "Topic 2: scottrade | harris | opened date | ford | bsi | company responded | date filed | calling cell | didnt authorize | inquiries deleted\n",
      "Topic 3: inquiry | inquiries | unauthorized | inquiry inquiry | authorize | hard | unauthorized inquiries | unauthorized inquiry | inquiries removed | inquiries credit\n",
      "Topic 4: cra | cra violation | accounts | theft | belong | verify accounts | requests investigate | sure happened | late | verify\n",
      "Topic 5: credit | account | report | debt | loan | credit report | information | payment | company | bank\n",
      "Topic 6: hunter | warfield | hunter warfield | equifa hacked | equifa allowed | remove reports | information impacted | cyber | reported wrong | status updated\n",
      "Topic 7: appear report | mistakes appear | report understanding | mistakes | appear | understanding | trans | trans union | report | inquiries report\n",
      "Topic 8: breach | mishandled | equifa mishandled | equifa | mishandled information | risk | potential | addresses credit | millions | added report\n",
      "Topic 9: sallie | sallie mae | huntington | report hard | lowes | genesis | huntington bank | chase auto | non stop | inquiry permission\n",
      "Wall time: 37min 39s\n"
     ]
    }
   ],
   "source": [
    "%%time\n",
    "from sklearn.decomposition import LatentDirichletAllocation\n",
    "\n",
    "\n",
    "# Initialize LDA Model with 10 Topics\n",
    "lda_model = LatentDirichletAllocation(n_topics=10,\n",
    "                                      random_state=42)\n",
    "\n",
    "# Fit it to our CountVectorizer Transformation\n",
    "X_topics = lda_model.fit_transform(X_description)\n",
    "\n",
    "# Define variables\n",
    "n_top_words = 10\n",
    "topic_summaries = []\n",
    "\n",
    "# Get the topic words\n",
    "topic_word = lda_model.components_\n",
    "# Get the vocabulary from the text features\n",
    "vocab = tv.get_feature_names()\n",
    "\n",
    "# Display the Topic Models\n",
    "for i, topic_dist in enumerate(topic_word):\n",
    "    topic_words = np.array(vocab)[np.argsort(topic_dist)][:-(n_top_words+1):-1]\n",
    "    topic_summaries.append(' '.join(topic_words))\n",
    "    print('Topic {}: {}'.format(i, ' | '.join(topic_words)))"
   ]
  },
  {
   "cell_type": "code",
   "execution_count": null,
   "metadata": {},
   "outputs": [],
   "source": []
  },
  {
   "cell_type": "code",
   "execution_count": null,
   "metadata": {
    "collapsed": true
   },
   "outputs": [],
   "source": []
  }
 ],
 "metadata": {
  "anaconda-cloud": {},
  "kernelspec": {
   "display_name": "Python [Root]",
   "language": "python",
   "name": "Python [Root]"
  },
  "language_info": {
   "codemirror_mode": {
    "name": "ipython",
    "version": 3
   },
   "file_extension": ".py",
   "mimetype": "text/x-python",
   "name": "python",
   "nbconvert_exporter": "python",
   "pygments_lexer": "ipython3",
   "version": "3.5.3"
  }
 },
 "nbformat": 4,
 "nbformat_minor": 1
}
