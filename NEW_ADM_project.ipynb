{
 "cells": [
  {
   "cell_type": "markdown",
   "metadata": {},
   "source": [
    "## Import Packages"
   ]
  },
  {
   "cell_type": "code",
   "execution_count": 1,
   "metadata": {
    "collapsed": true
   },
   "outputs": [],
   "source": [
    "import pandas as pd\n",
    "import numpy as np\n",
    "import matplotlib.pyplot as plt\n",
    "from collections import Counter, defaultdict\n",
    "import seaborn as sns\n",
    "import gc\n",
    "import re\n",
    "import warnings\n",
    "\n",
    "warnings.filterwarnings(\"ignore\")"
   ]
  },
  {
   "cell_type": "code",
   "execution_count": 2,
   "metadata": {
    "collapsed": true
   },
   "outputs": [],
   "source": [
    "from string import punctuation"
   ]
  },
  {
   "cell_type": "code",
   "execution_count": 3,
   "metadata": {
    "collapsed": true
   },
   "outputs": [],
   "source": [
    "# vstack - adds rows, hstack - adds columns\n",
    "# csr_matrix - used to handle sparse matrix\n",
    "from scipy.sparse import vstack, hstack, csr_matrix"
   ]
  },
  {
   "cell_type": "code",
   "execution_count": 4,
   "metadata": {
    "collapsed": true
   },
   "outputs": [],
   "source": [
    "# CountVectorizer - Simply, counts word frequencies \n",
    "# TFIDF - More importance/weights on \"rare\" words. Less importance/weights on \"frequent\" words\n",
    "from sklearn.feature_extraction.text import CountVectorizer, TfidfVectorizer"
   ]
  },
  {
   "cell_type": "code",
   "execution_count": 5,
   "metadata": {
    "collapsed": true
   },
   "outputs": [],
   "source": [
    "# LabelBinarizer - Converts labels into numerical representation \"G,B,R\" -> [1,2,3]\n",
    "from sklearn.preprocessing import LabelBinarizer"
   ]
  },
  {
   "cell_type": "code",
   "execution_count": 6,
   "metadata": {},
   "outputs": [
    {
     "name": "stderr",
     "output_type": "stream",
     "text": [
      "C:\\Users\\Shringa\\Anaconda3\\lib\\site-packages\\sklearn\\cross_validation.py:44: DeprecationWarning: This module was deprecated in version 0.18 in favor of the model_selection module into which all the refactored classes and functions are moved. Also note that the interface of the new CV iterators are different from that of this module. This module will be removed in 0.20.\n",
      "  \"This module will be removed in 0.20.\", DeprecationWarning)\n"
     ]
    }
   ],
   "source": [
    "# Ridge - Reduces multicollinearity in regression. Applies L2 Regularization\n",
    "from sklearn.linear_model import Ridge\n",
    "from sklearn.cross_validation import train_test_split\n",
    "\n",
    "%matplotlib inline"
   ]
  },
  {
   "cell_type": "code",
   "execution_count": 7,
   "metadata": {},
   "outputs": [
    {
     "data": {
      "text/plain": [
       "'\\n#importing packages\\nfrom collections import Counter, defaultdict\\nimport math\\nimport json\\nimport numpy as np\\nimport os\\nimport pandas as pd\\nimport re\\nimport pydotplus\\nfrom sklearn import tree, preprocessing\\nfrom sklearn_pandas import DataFrameMapper, cross_val_score\\nfrom nltk.corpus import stopwords\\nfrom nltk.stem.snowball import SnowballStemmer\\nfrom scipy.sparse import csr_matrix\\nfrom IPython.display import Image  \\n\\n'"
      ]
     },
     "execution_count": 7,
     "metadata": {},
     "output_type": "execute_result"
    }
   ],
   "source": [
    "\"\"\"\n",
    "#importing packages\n",
    "from collections import Counter, defaultdict\n",
    "import math\n",
    "import json\n",
    "import numpy as np\n",
    "import os\n",
    "import pandas as pd\n",
    "import re\n",
    "import pydotplus\n",
    "from sklearn import tree, preprocessing\n",
    "from sklearn_pandas import DataFrameMapper, cross_val_score\n",
    "from nltk.corpus import stopwords\n",
    "from nltk.stem.snowball import SnowballStemmer\n",
    "from scipy.sparse import csr_matrix\n",
    "from IPython.display import Image  \n",
    "\n",
    "\"\"\""
   ]
  },
  {
   "cell_type": "markdown",
   "metadata": {},
   "source": [
    "## Reading the data"
   ]
  },
  {
   "cell_type": "code",
   "execution_count": 8,
   "metadata": {
    "collapsed": true
   },
   "outputs": [],
   "source": [
    "file = \"Consumer_Complaints.csv\"\n",
    "cmplnts = pd.read_csv(file, na_values = \"null\")"
   ]
  },
  {
   "cell_type": "code",
   "execution_count": 9,
   "metadata": {},
   "outputs": [
    {
     "data": {
      "text/plain": [
       "(1124716, 18)"
      ]
     },
     "execution_count": 9,
     "metadata": {},
     "output_type": "execute_result"
    }
   ],
   "source": [
    "# Determining the total size of the dataset\n",
    "cmplnts.shape"
   ]
  },
  {
   "cell_type": "markdown",
   "metadata": {},
   "source": [
    "### Splitting data into train and test datasets"
   ]
  },
  {
   "cell_type": "code",
   "execution_count": 10,
   "metadata": {},
   "outputs": [
    {
     "name": "stdout",
     "output_type": "stream",
     "text": [
      "(787301, 18) (337415, 18)\n"
     ]
    }
   ],
   "source": [
    "train,test = train_test_split(cmplnts, test_size=0.3)\n",
    "print (train.shape, test.shape)"
   ]
  },
  {
   "cell_type": "code",
   "execution_count": 11,
   "metadata": {
    "collapsed": true
   },
   "outputs": [],
   "source": [
    "# Create combined set. You would want to apply count vectorizer on combined set so you can get the list of all possible words.\n",
    "combined = pd.concat([train,test])\n",
    "\n",
    "# Create the submission set (Only contains the test ID)\n",
    "test['test_id']= test.index\n",
    "submission = test[['test_id']]\n",
    "\n",
    "# Create size of train\n",
    "train['train_id']= train.index\n",
    "train_size = len(train)"
   ]
  },
  {
   "cell_type": "code",
   "execution_count": 12,
   "metadata": {},
   "outputs": [
    {
     "data": {
      "text/plain": [
       "(1124716, 18)"
      ]
     },
     "execution_count": 12,
     "metadata": {},
     "output_type": "execute_result"
    }
   ],
   "source": [
    "combined.shape"
   ]
  },
  {
   "cell_type": "code",
   "execution_count": 13,
   "metadata": {
    "collapsed": true
   },
   "outputs": [],
   "source": [
    "combined_ML = combined.sample(frac=0.1).reset_index(drop=True)"
   ]
  },
  {
   "cell_type": "code",
   "execution_count": 14,
   "metadata": {},
   "outputs": [
    {
     "data": {
      "text/plain": [
       "(112472, 18)"
      ]
     },
     "execution_count": 14,
     "metadata": {},
     "output_type": "execute_result"
    }
   ],
   "source": [
    "combined_ML.shape"
   ]
  },
  {
   "cell_type": "markdown",
   "metadata": {},
   "source": [
    "## Training Set\n",
    "\n",
    "Training set has 787301 observations with 11 features:\n",
    "\n"
   ]
  },
  {
   "cell_type": "code",
   "execution_count": 15,
   "metadata": {},
   "outputs": [
    {
     "name": "stdout",
     "output_type": "stream",
     "text": [
      "<class 'pandas.core.frame.DataFrame'>\n",
      "Int64Index: 787301 entries, 830888 to 670492\n",
      "Data columns (total 19 columns):\n",
      "Date received                   787301 non-null object\n",
      "Product                         787301 non-null object\n",
      "Sub-product                     622932 non-null object\n",
      "Issue                           787301 non-null object\n",
      "Sub-issue                       430122 non-null object\n",
      "Consumer complaint narrative    226385 non-null object\n",
      "Company public response         258989 non-null object\n",
      "Company                         787301 non-null object\n",
      "State                           777131 non-null object\n",
      "ZIP code                        727207 non-null object\n",
      "Tags                            107881 non-null object\n",
      "Consumer consent provided?      401686 non-null object\n",
      "Submitted via                   787301 non-null object\n",
      "Date sent to company            787301 non-null object\n",
      "Company response to consumer    787296 non-null object\n",
      "Timely response?                787301 non-null object\n",
      "Consumer disputed?              537513 non-null object\n",
      "Complaint ID                    787301 non-null int64\n",
      "train_id                        787301 non-null int64\n",
      "dtypes: int64(2), object(17)\n",
      "memory usage: 120.1+ MB\n"
     ]
    }
   ],
   "source": [
    "train.info()"
   ]
  },
  {
   "cell_type": "code",
   "execution_count": 16,
   "metadata": {
    "collapsed": true
   },
   "outputs": [],
   "source": [
    "#Addign state codes DC (Washington D.C.), PR (Puerto Rico),{AE,AA,AP} (Armed Forces),VI (Virgin Islands),GU (Guam),FM(Federated States of Micronesia),\n",
    "# AS (American Samoa),MP (Northern Mariana Islands),MH (Marshall Islands),PW (Palau)\n",
    "\n",
    "states =['AA','AE','AK','AL','AP','AR','AS','AZ','CA','CO','CT','DC','DE','FL','FM','GA','GU','HI','IA','ID','IL','IN','KS','KY','LA','MA','MD','ME','MI','MN','MO',\n",
    "         'MP','MH','MS','MT','NC','ND','NE','NH','NJ','NM','NV','NY','OH','OK','OR','PA','PR','PW','RI','SC','SD','TN','TX','UT','VA','VI','VT','WA','WI',\n",
    "         'WV','WY','UNITED STATES MINOR OUTLYING ISLANDS']"
   ]
  },
  {
   "cell_type": "code",
   "execution_count": 17,
   "metadata": {},
   "outputs": [
    {
     "data": {
      "text/plain": [
       "Date received                     2486\n",
       "Product                             18\n",
       "Sub-product                         76\n",
       "Issue                              166\n",
       "Sub-issue                          218\n",
       "Consumer complaint narrative    219626\n",
       "Company public response             10\n",
       "Company                           4637\n",
       "State                               63\n",
       "ZIP code                         23252\n",
       "Tags                                 3\n",
       "Consumer consent provided?           4\n",
       "Submitted via                        6\n",
       "Date sent to company              2429\n",
       "Company response to consumer         8\n",
       "Timely response?                     2\n",
       "Consumer disputed?                   2\n",
       "Complaint ID                    787301\n",
       "train_id                        787301\n",
       "dtype: int64"
      ]
     },
     "execution_count": 17,
     "metadata": {},
     "output_type": "execute_result"
    }
   ],
   "source": [
    "train.nunique()"
   ]
  },
  {
   "cell_type": "markdown",
   "metadata": {},
   "source": [
    "### Summary Statistics\n",
    "\n",
    "1) There are 8 uniques categories of Company responses.  \n",
    "2) Most of the complaints were for **Mortgage** and majorly the issue were in **Loan modification,collection and in foreclosure**.  \n",
    "3) There are **6,800** complaints does not have any Consumer complaint narrative.  \n",
    "4) Company which got most of the comlaints is **EQUIFAX, INC**.  \n",
    "5) Most of the complaints were **closed by providing explanations** only.  "
   ]
  },
  {
   "cell_type": "code",
   "execution_count": 18,
   "metadata": {},
   "outputs": [
    {
     "data": {
      "text/html": [
       "<div>\n",
       "<style scoped>\n",
       "    .dataframe tbody tr th:only-of-type {\n",
       "        vertical-align: middle;\n",
       "    }\n",
       "\n",
       "    .dataframe tbody tr th {\n",
       "        vertical-align: top;\n",
       "    }\n",
       "\n",
       "    .dataframe thead th {\n",
       "        text-align: right;\n",
       "    }\n",
       "</style>\n",
       "<table border=\"1\" class=\"dataframe\">\n",
       "  <thead>\n",
       "    <tr style=\"text-align: right;\">\n",
       "      <th></th>\n",
       "      <th>count</th>\n",
       "      <th>unique</th>\n",
       "      <th>top</th>\n",
       "      <th>freq</th>\n",
       "    </tr>\n",
       "  </thead>\n",
       "  <tbody>\n",
       "    <tr>\n",
       "      <th>Date received</th>\n",
       "      <td>787301</td>\n",
       "      <td>2486</td>\n",
       "      <td>09/08/2017</td>\n",
       "      <td>2484</td>\n",
       "    </tr>\n",
       "    <tr>\n",
       "      <th>Product</th>\n",
       "      <td>787301</td>\n",
       "      <td>18</td>\n",
       "      <td>Mortgage</td>\n",
       "      <td>184810</td>\n",
       "    </tr>\n",
       "    <tr>\n",
       "      <th>Sub-product</th>\n",
       "      <td>622932</td>\n",
       "      <td>76</td>\n",
       "      <td>Credit reporting</td>\n",
       "      <td>104937</td>\n",
       "    </tr>\n",
       "    <tr>\n",
       "      <th>Issue</th>\n",
       "      <td>787301</td>\n",
       "      <td>166</td>\n",
       "      <td>Loan modification,collection,foreclosure</td>\n",
       "      <td>78520</td>\n",
       "    </tr>\n",
       "    <tr>\n",
       "      <th>Sub-issue</th>\n",
       "      <td>430122</td>\n",
       "      <td>218</td>\n",
       "      <td>Account status</td>\n",
       "      <td>25893</td>\n",
       "    </tr>\n",
       "    <tr>\n",
       "      <th>Consumer complaint narrative</th>\n",
       "      <td>226385</td>\n",
       "      <td>219626</td>\n",
       "      <td>There are many mistakes appear in my report wi...</td>\n",
       "      <td>368</td>\n",
       "    </tr>\n",
       "    <tr>\n",
       "      <th>Company public response</th>\n",
       "      <td>258989</td>\n",
       "      <td>10</td>\n",
       "      <td>Company has responded to the consumer and the ...</td>\n",
       "      <td>170487</td>\n",
       "    </tr>\n",
       "    <tr>\n",
       "      <th>Company</th>\n",
       "      <td>787301</td>\n",
       "      <td>4637</td>\n",
       "      <td>EQUIFAX, INC.</td>\n",
       "      <td>66208</td>\n",
       "    </tr>\n",
       "    <tr>\n",
       "      <th>State</th>\n",
       "      <td>777131</td>\n",
       "      <td>63</td>\n",
       "      <td>CA</td>\n",
       "      <td>109582</td>\n",
       "    </tr>\n",
       "    <tr>\n",
       "      <th>ZIP code</th>\n",
       "      <td>727207</td>\n",
       "      <td>23252</td>\n",
       "      <td>300XX</td>\n",
       "      <td>3867</td>\n",
       "    </tr>\n",
       "    <tr>\n",
       "      <th>Tags</th>\n",
       "      <td>107881</td>\n",
       "      <td>3</td>\n",
       "      <td>Older American</td>\n",
       "      <td>49775</td>\n",
       "    </tr>\n",
       "    <tr>\n",
       "      <th>Consumer consent provided?</th>\n",
       "      <td>401686</td>\n",
       "      <td>4</td>\n",
       "      <td>Consent provided</td>\n",
       "      <td>226596</td>\n",
       "    </tr>\n",
       "    <tr>\n",
       "      <th>Submitted via</th>\n",
       "      <td>787301</td>\n",
       "      <td>6</td>\n",
       "      <td>Web</td>\n",
       "      <td>570060</td>\n",
       "    </tr>\n",
       "    <tr>\n",
       "      <th>Date sent to company</th>\n",
       "      <td>787301</td>\n",
       "      <td>2429</td>\n",
       "      <td>09/08/2017</td>\n",
       "      <td>2370</td>\n",
       "    </tr>\n",
       "    <tr>\n",
       "      <th>Company response to consumer</th>\n",
       "      <td>787296</td>\n",
       "      <td>8</td>\n",
       "      <td>Closed with explanation</td>\n",
       "      <td>607823</td>\n",
       "    </tr>\n",
       "    <tr>\n",
       "      <th>Timely response?</th>\n",
       "      <td>787301</td>\n",
       "      <td>2</td>\n",
       "      <td>Yes</td>\n",
       "      <td>766557</td>\n",
       "    </tr>\n",
       "    <tr>\n",
       "      <th>Consumer disputed?</th>\n",
       "      <td>537513</td>\n",
       "      <td>2</td>\n",
       "      <td>No</td>\n",
       "      <td>433894</td>\n",
       "    </tr>\n",
       "    <tr>\n",
       "      <th>Complaint ID</th>\n",
       "      <td>787301</td>\n",
       "      <td>787301</td>\n",
       "      <td>1048575</td>\n",
       "      <td>1</td>\n",
       "    </tr>\n",
       "    <tr>\n",
       "      <th>train_id</th>\n",
       "      <td>787301</td>\n",
       "      <td>787301</td>\n",
       "      <td>1048575</td>\n",
       "      <td>1</td>\n",
       "    </tr>\n",
       "  </tbody>\n",
       "</table>\n",
       "</div>"
      ],
      "text/plain": [
       "                               count  unique  \\\n",
       "Date received                 787301    2486   \n",
       "Product                       787301      18   \n",
       "Sub-product                   622932      76   \n",
       "Issue                         787301     166   \n",
       "Sub-issue                     430122     218   \n",
       "Consumer complaint narrative  226385  219626   \n",
       "Company public response       258989      10   \n",
       "Company                       787301    4637   \n",
       "State                         777131      63   \n",
       "ZIP code                      727207   23252   \n",
       "Tags                          107881       3   \n",
       "Consumer consent provided?    401686       4   \n",
       "Submitted via                 787301       6   \n",
       "Date sent to company          787301    2429   \n",
       "Company response to consumer  787296       8   \n",
       "Timely response?              787301       2   \n",
       "Consumer disputed?            537513       2   \n",
       "Complaint ID                  787301  787301   \n",
       "train_id                      787301  787301   \n",
       "\n",
       "                                                                            top  \\\n",
       "Date received                                                        09/08/2017   \n",
       "Product                                                                Mortgage   \n",
       "Sub-product                                                    Credit reporting   \n",
       "Issue                                  Loan modification,collection,foreclosure   \n",
       "Sub-issue                                                        Account status   \n",
       "Consumer complaint narrative  There are many mistakes appear in my report wi...   \n",
       "Company public response       Company has responded to the consumer and the ...   \n",
       "Company                                                           EQUIFAX, INC.   \n",
       "State                                                                        CA   \n",
       "ZIP code                                                                  300XX   \n",
       "Tags                                                             Older American   \n",
       "Consumer consent provided?                                     Consent provided   \n",
       "Submitted via                                                               Web   \n",
       "Date sent to company                                                 09/08/2017   \n",
       "Company response to consumer                            Closed with explanation   \n",
       "Timely response?                                                            Yes   \n",
       "Consumer disputed?                                                           No   \n",
       "Complaint ID                                                            1048575   \n",
       "train_id                                                                1048575   \n",
       "\n",
       "                                freq  \n",
       "Date received                   2484  \n",
       "Product                       184810  \n",
       "Sub-product                   104937  \n",
       "Issue                          78520  \n",
       "Sub-issue                      25893  \n",
       "Consumer complaint narrative     368  \n",
       "Company public response       170487  \n",
       "Company                        66208  \n",
       "State                         109582  \n",
       "ZIP code                        3867  \n",
       "Tags                           49775  \n",
       "Consumer consent provided?    226596  \n",
       "Submitted via                 570060  \n",
       "Date sent to company            2370  \n",
       "Company response to consumer  607823  \n",
       "Timely response?              766557  \n",
       "Consumer disputed?            433894  \n",
       "Complaint ID                       1  \n",
       "train_id                           1  "
      ]
     },
     "execution_count": 18,
     "metadata": {},
     "output_type": "execute_result"
    }
   ],
   "source": [
    "train.astype('object').describe().transpose()"
   ]
  },
  {
   "cell_type": "code",
   "execution_count": 19,
   "metadata": {},
   "outputs": [
    {
     "data": {
      "text/html": [
       "<div>\n",
       "<style scoped>\n",
       "    .dataframe tbody tr th:only-of-type {\n",
       "        vertical-align: middle;\n",
       "    }\n",
       "\n",
       "    .dataframe tbody tr th {\n",
       "        vertical-align: top;\n",
       "    }\n",
       "\n",
       "    .dataframe thead th {\n",
       "        text-align: right;\n",
       "    }\n",
       "</style>\n",
       "<table border=\"1\" class=\"dataframe\">\n",
       "  <thead>\n",
       "    <tr style=\"text-align: right;\">\n",
       "      <th></th>\n",
       "      <th>Date received</th>\n",
       "      <th>Product</th>\n",
       "      <th>Sub-product</th>\n",
       "      <th>Issue</th>\n",
       "      <th>Sub-issue</th>\n",
       "      <th>Consumer complaint narrative</th>\n",
       "      <th>Company public response</th>\n",
       "      <th>Company</th>\n",
       "      <th>State</th>\n",
       "      <th>ZIP code</th>\n",
       "      <th>Tags</th>\n",
       "      <th>Consumer consent provided?</th>\n",
       "      <th>Submitted via</th>\n",
       "      <th>Date sent to company</th>\n",
       "      <th>Company response to consumer</th>\n",
       "      <th>Timely response?</th>\n",
       "      <th>Consumer disputed?</th>\n",
       "      <th>Complaint ID</th>\n",
       "      <th>train_id</th>\n",
       "    </tr>\n",
       "  </thead>\n",
       "  <tbody>\n",
       "    <tr>\n",
       "      <th>830888</th>\n",
       "      <td>11/13/2015</td>\n",
       "      <td>Credit card</td>\n",
       "      <td>NaN</td>\n",
       "      <td>Credit determination</td>\n",
       "      <td>NaN</td>\n",
       "      <td>NaN</td>\n",
       "      <td>Company chooses not to provide a public response</td>\n",
       "      <td>BARCLAYS BANK DELAWARE</td>\n",
       "      <td>TN</td>\n",
       "      <td>377XX</td>\n",
       "      <td>NaN</td>\n",
       "      <td>Consent not provided</td>\n",
       "      <td>Web</td>\n",
       "      <td>11/17/2015</td>\n",
       "      <td>Closed with non-monetary relief</td>\n",
       "      <td>Yes</td>\n",
       "      <td>No</td>\n",
       "      <td>1654084</td>\n",
       "      <td>830888</td>\n",
       "    </tr>\n",
       "    <tr>\n",
       "      <th>526856</th>\n",
       "      <td>02/11/2013</td>\n",
       "      <td>Mortgage</td>\n",
       "      <td>Conventional fixed mortgage</td>\n",
       "      <td>Loan modification,collection,foreclosure</td>\n",
       "      <td>NaN</td>\n",
       "      <td>NaN</td>\n",
       "      <td>NaN</td>\n",
       "      <td>HSBC NORTH AMERICA HOLDINGS INC.</td>\n",
       "      <td>NJ</td>\n",
       "      <td>07111</td>\n",
       "      <td>NaN</td>\n",
       "      <td>NaN</td>\n",
       "      <td>Web</td>\n",
       "      <td>02/13/2013</td>\n",
       "      <td>Closed with explanation</td>\n",
       "      <td>Yes</td>\n",
       "      <td>No</td>\n",
       "      <td>314145</td>\n",
       "      <td>526856</td>\n",
       "    </tr>\n",
       "    <tr>\n",
       "      <th>591472</th>\n",
       "      <td>08/04/2015</td>\n",
       "      <td>Credit card</td>\n",
       "      <td>NaN</td>\n",
       "      <td>Other</td>\n",
       "      <td>NaN</td>\n",
       "      <td>NaN</td>\n",
       "      <td>Company chooses not to provide a public response</td>\n",
       "      <td>CITIBANK, N.A.</td>\n",
       "      <td>AZ</td>\n",
       "      <td>85718</td>\n",
       "      <td>Older American</td>\n",
       "      <td>Consent not provided</td>\n",
       "      <td>Web</td>\n",
       "      <td>08/04/2015</td>\n",
       "      <td>Closed with monetary relief</td>\n",
       "      <td>Yes</td>\n",
       "      <td>No</td>\n",
       "      <td>1500828</td>\n",
       "      <td>591472</td>\n",
       "    </tr>\n",
       "    <tr>\n",
       "      <th>221150</th>\n",
       "      <td>03/22/2018</td>\n",
       "      <td>Debt collection</td>\n",
       "      <td>Other debt</td>\n",
       "      <td>Written notification about debt</td>\n",
       "      <td>Didn't receive enough information to verify debt</td>\n",
       "      <td>NaN</td>\n",
       "      <td>Company believes it acted appropriately as aut...</td>\n",
       "      <td>Simon’s Agency, Inc</td>\n",
       "      <td>NJ</td>\n",
       "      <td>07740</td>\n",
       "      <td>NaN</td>\n",
       "      <td>NaN</td>\n",
       "      <td>Fax</td>\n",
       "      <td>03/30/2018</td>\n",
       "      <td>Closed with explanation</td>\n",
       "      <td>Yes</td>\n",
       "      <td>NaN</td>\n",
       "      <td>2851121</td>\n",
       "      <td>221150</td>\n",
       "    </tr>\n",
       "    <tr>\n",
       "      <th>744204</th>\n",
       "      <td>12/31/2017</td>\n",
       "      <td>Mortgage</td>\n",
       "      <td>Conventional home mortgage</td>\n",
       "      <td>Struggling to pay mortgage</td>\n",
       "      <td>NaN</td>\n",
       "      <td>NaN</td>\n",
       "      <td>NaN</td>\n",
       "      <td>BAYVIEW LOAN SERVICING, LLC</td>\n",
       "      <td>GA</td>\n",
       "      <td>30705</td>\n",
       "      <td>NaN</td>\n",
       "      <td>Other</td>\n",
       "      <td>Web</td>\n",
       "      <td>12/31/2017</td>\n",
       "      <td>Closed with explanation</td>\n",
       "      <td>Yes</td>\n",
       "      <td>NaN</td>\n",
       "      <td>2768499</td>\n",
       "      <td>744204</td>\n",
       "    </tr>\n",
       "  </tbody>\n",
       "</table>\n",
       "</div>"
      ],
      "text/plain": [
       "       Date received          Product                  Sub-product  \\\n",
       "830888    11/13/2015      Credit card                          NaN   \n",
       "526856    02/11/2013         Mortgage  Conventional fixed mortgage   \n",
       "591472    08/04/2015      Credit card                          NaN   \n",
       "221150    03/22/2018  Debt collection                   Other debt   \n",
       "744204    12/31/2017         Mortgage   Conventional home mortgage   \n",
       "\n",
       "                                           Issue  \\\n",
       "830888                      Credit determination   \n",
       "526856  Loan modification,collection,foreclosure   \n",
       "591472                                     Other   \n",
       "221150           Written notification about debt   \n",
       "744204                Struggling to pay mortgage   \n",
       "\n",
       "                                               Sub-issue  \\\n",
       "830888                                               NaN   \n",
       "526856                                               NaN   \n",
       "591472                                               NaN   \n",
       "221150  Didn't receive enough information to verify debt   \n",
       "744204                                               NaN   \n",
       "\n",
       "       Consumer complaint narrative  \\\n",
       "830888                          NaN   \n",
       "526856                          NaN   \n",
       "591472                          NaN   \n",
       "221150                          NaN   \n",
       "744204                          NaN   \n",
       "\n",
       "                                  Company public response  \\\n",
       "830888   Company chooses not to provide a public response   \n",
       "526856                                                NaN   \n",
       "591472   Company chooses not to provide a public response   \n",
       "221150  Company believes it acted appropriately as aut...   \n",
       "744204                                                NaN   \n",
       "\n",
       "                                 Company State ZIP code            Tags  \\\n",
       "830888            BARCLAYS BANK DELAWARE    TN    377XX             NaN   \n",
       "526856  HSBC NORTH AMERICA HOLDINGS INC.    NJ    07111             NaN   \n",
       "591472                    CITIBANK, N.A.    AZ    85718  Older American   \n",
       "221150               Simon’s Agency, Inc    NJ    07740             NaN   \n",
       "744204       BAYVIEW LOAN SERVICING, LLC    GA    30705             NaN   \n",
       "\n",
       "       Consumer consent provided? Submitted via Date sent to company  \\\n",
       "830888       Consent not provided           Web           11/17/2015   \n",
       "526856                        NaN           Web           02/13/2013   \n",
       "591472       Consent not provided           Web           08/04/2015   \n",
       "221150                        NaN           Fax           03/30/2018   \n",
       "744204                      Other           Web           12/31/2017   \n",
       "\n",
       "           Company response to consumer Timely response? Consumer disputed?  \\\n",
       "830888  Closed with non-monetary relief              Yes                 No   \n",
       "526856          Closed with explanation              Yes                 No   \n",
       "591472      Closed with monetary relief              Yes                 No   \n",
       "221150          Closed with explanation              Yes                NaN   \n",
       "744204          Closed with explanation              Yes                NaN   \n",
       "\n",
       "        Complaint ID  train_id  \n",
       "830888       1654084    830888  \n",
       "526856        314145    526856  \n",
       "591472       1500828    591472  \n",
       "221150       2851121    221150  \n",
       "744204       2768499    744204  "
      ]
     },
     "execution_count": 19,
     "metadata": {},
     "output_type": "execute_result"
    }
   ],
   "source": [
    "train.head()"
   ]
  },
  {
   "cell_type": "code",
   "execution_count": 20,
   "metadata": {
    "collapsed": true
   },
   "outputs": [],
   "source": [
    "\n",
    "def _isdate(datestring):\n",
    "    mat = re.match('(\\d{1,2})[/.-](\\d{1,2})[/.-](\\d{2,4})$', datestring)\n",
    "\n",
    "    try:\n",
    "        if mat:\n",
    "            # xdate = datetime.datetime(*(map(int, mat.groups()[-1::-1])))\n",
    "            return True\n",
    "        else:\n",
    "            return False\n",
    "    except ValueError:\n",
    "        print(\"err - isdate\")\n",
    "\n",
    "\n",
    "\n",
    "\n",
    "def _get_dtype(xstr):\n",
    "\n",
    "    if re.match(\"^\\d+?\\.\\d+?$\", xstr):\n",
    "        return \"float\"\n",
    "    elif xstr.isdigit():\n",
    "        return \"int\"\n",
    "    elif _isdate(xstr):\n",
    "        return \"date\"\n",
    "    else:\n",
    "        return \"string\"\n",
    "\n",
    "\n",
    "\n",
    "def process_dtypes(data, tapply=False, thr=10):\n",
    "        features = defaultdict(list)\n",
    "        n = len(data)\n",
    "\n",
    "        for col, val in data.iloc[3, :].iteritems():\n",
    "            val = str(val).strip()\n",
    "            val_type = _get_dtype(val)\n",
    "            unq = data[col].nunique()\n",
    "\n",
    "            if unq > n*.95:\n",
    "                features[\"skip\"].append(col)\n",
    "                continue\n",
    "            try:\n",
    "                if(val_type == \"int\" or val_type == \"float\"):\n",
    "                    if unq >= thr:\n",
    "                        features[\"numfeatures\"].append(col)\n",
    "                        if tapply:\n",
    "                            if val_type == \"int\" and data[col].dtype != 'int':\n",
    "                                data[col] = data[col].astype(np.int64)\n",
    "                            elif val_type == 'float' and data[col].dtype != 'float':\n",
    "                                data[col] = data[col].astype(np.float64)\n",
    "                    else:\n",
    "                        features[\"catfeatures\"].append(col)\n",
    "                        if tapply:\n",
    "                            print(\"feature \", col, \" contains \", unq,\n",
    "                                  \" unique values, converted to categorical encoding\")\n",
    "                            data[col] = data[col].astype('category')\n",
    "                elif val_type == \"string\":\n",
    "                    if unq <= thr:\n",
    "                        features[\"catfeatures\"].append(col)\n",
    "                        if tapply:\n",
    "                            data[col] = data[col].astype('category')\n",
    "                    else:\n",
    "                        if tapply:\n",
    "                            print(\"feature \", col, \" contains \", unq,\n",
    "                                  \" unique values, converted to numeric encoding\")\n",
    "                            data[col] = data[col].astype('category')\n",
    "                            data[col] = data[col].cat.codes\n",
    "                            features[\"encode\"].append(col)\n",
    "                        else:\n",
    "                            features[\"encode\"].append(col)\n",
    "\n",
    "                elif val_type == \"date\":\n",
    "                    features[\"dtfeatures\"].append(col)\n",
    "                    if tapply:\n",
    "                        data[col] = pd.to_datetime(data[col])\n",
    "\n",
    "            except ValueError as verror:\n",
    "                print(verror, \"\\n Data Contains N/A values in :\", col)\n",
    "\n",
    "       # self.features = features\n",
    "\n",
    "        return features\n"
   ]
  },
  {
   "cell_type": "code",
   "execution_count": 21,
   "metadata": {
    "collapsed": true
   },
   "outputs": [],
   "source": [
    "#features = process_dtypes(train, tapply = True, thr=30)"
   ]
  },
  {
   "cell_type": "code",
   "execution_count": 22,
   "metadata": {
    "collapsed": true
   },
   "outputs": [],
   "source": [
    "train['Product'] = train['Product'].astype('category')\n",
    "train['Sub-product'] = train['Sub-product'].astype('category')\n",
    "train['Issue'] = train['Issue'].astype('category')\n",
    "train['Sub-issue'] = train['Sub-issue'].astype('category')\n",
    "train['Company public response'] = train['Company public response'].astype('category')\n",
    "train['Consumer consent provided?'] = train['Consumer consent provided?'].astype('category')\n",
    "train['Company response to consumer'] = train['Company response to consumer'].astype('category')"
   ]
  },
  {
   "cell_type": "code",
   "execution_count": 23,
   "metadata": {},
   "outputs": [
    {
     "name": "stdout",
     "output_type": "stream",
     "text": [
      "<class 'pandas.core.frame.DataFrame'>\n",
      "Int64Index: 787301 entries, 830888 to 670492\n",
      "Data columns (total 19 columns):\n",
      "Date received                   787301 non-null object\n",
      "Product                         787301 non-null category\n",
      "Sub-product                     622932 non-null category\n",
      "Issue                           787301 non-null category\n",
      "Sub-issue                       430122 non-null category\n",
      "Consumer complaint narrative    226385 non-null object\n",
      "Company public response         258989 non-null category\n",
      "Company                         787301 non-null object\n",
      "State                           777131 non-null object\n",
      "ZIP code                        727207 non-null object\n",
      "Tags                            107881 non-null object\n",
      "Consumer consent provided?      401686 non-null category\n",
      "Submitted via                   787301 non-null object\n",
      "Date sent to company            787301 non-null object\n",
      "Company response to consumer    787296 non-null category\n",
      "Timely response?                787301 non-null object\n",
      "Consumer disputed?              537513 non-null object\n",
      "Complaint ID                    787301 non-null int64\n",
      "train_id                        787301 non-null int64\n",
      "dtypes: category(7), int64(2), object(10)\n",
      "memory usage: 84.9+ MB\n"
     ]
    }
   ],
   "source": [
    "train.info()"
   ]
  },
  {
   "cell_type": "markdown",
   "metadata": {},
   "source": [
    "### Data Cleaning\n",
    "\n",
    "As we can see that there are around 56070.6 millions of rows have no description.  \n",
    "16 millions of rows does not have sub-product linked to it.  \n",
    "Sub- Issue andComapny public responses are also missing.  \n",
    "\n",
    "Filling all those values with the some values and find out the major categories.\n"
   ]
  },
  {
   "cell_type": "code",
   "execution_count": 24,
   "metadata": {
    "collapsed": true
   },
   "outputs": [],
   "source": [
    "#train.isnull().sum()"
   ]
  },
  {
   "cell_type": "code",
   "execution_count": 25,
   "metadata": {
    "collapsed": true
   },
   "outputs": [],
   "source": [
    "def missing_values(df):\n",
    "    df['Consumer complaint narrative'].fillna(value = 'Other Description',inplace =True)\n",
    "    df['Sub-product'].fillna(value = 'Other',inplace =True)\n",
    "    df['Sub-issue'].fillna(value = 'Other',inplace =True)\n",
    "    df['Company public response'].fillna(value = 'Other Description',inplace =True)\n",
    "\n",
    "    return df"
   ]
  },
  {
   "cell_type": "code",
   "execution_count": 26,
   "metadata": {},
   "outputs": [],
   "source": [
    "train['Sub-product']  =  train['Sub-product'] .cat.add_categories(['Other'])\n",
    "train['Sub-issue'] = train['Sub-issue'].cat.add_categories(['Other'])\n",
    "train['Company public response'] = train['Company public response'].cat.add_categories(['Other Description'])\n"
   ]
  },
  {
   "cell_type": "code",
   "execution_count": 27,
   "metadata": {
    "collapsed": true
   },
   "outputs": [],
   "source": [
    "\n",
    "train  = missing_values(train)"
   ]
  },
  {
   "cell_type": "code",
   "execution_count": 28,
   "metadata": {},
   "outputs": [
    {
     "data": {
      "text/html": [
       "<div>\n",
       "<style scoped>\n",
       "    .dataframe tbody tr th:only-of-type {\n",
       "        vertical-align: middle;\n",
       "    }\n",
       "\n",
       "    .dataframe tbody tr th {\n",
       "        vertical-align: top;\n",
       "    }\n",
       "\n",
       "    .dataframe thead th {\n",
       "        text-align: right;\n",
       "    }\n",
       "</style>\n",
       "<table border=\"1\" class=\"dataframe\">\n",
       "  <thead>\n",
       "    <tr style=\"text-align: right;\">\n",
       "      <th></th>\n",
       "      <th>Date received</th>\n",
       "      <th>Product</th>\n",
       "      <th>Sub-product</th>\n",
       "      <th>Issue</th>\n",
       "      <th>Sub-issue</th>\n",
       "      <th>Consumer complaint narrative</th>\n",
       "      <th>Company public response</th>\n",
       "      <th>Company</th>\n",
       "      <th>State</th>\n",
       "      <th>ZIP code</th>\n",
       "      <th>Tags</th>\n",
       "      <th>Consumer consent provided?</th>\n",
       "      <th>Submitted via</th>\n",
       "      <th>Date sent to company</th>\n",
       "      <th>Company response to consumer</th>\n",
       "      <th>Timely response?</th>\n",
       "      <th>Consumer disputed?</th>\n",
       "      <th>Complaint ID</th>\n",
       "      <th>train_id</th>\n",
       "    </tr>\n",
       "  </thead>\n",
       "  <tbody>\n",
       "    <tr>\n",
       "      <th>830888</th>\n",
       "      <td>11/13/2015</td>\n",
       "      <td>Credit card</td>\n",
       "      <td>Other</td>\n",
       "      <td>Credit determination</td>\n",
       "      <td>Other</td>\n",
       "      <td>Other Description</td>\n",
       "      <td>Company chooses not to provide a public response</td>\n",
       "      <td>BARCLAYS BANK DELAWARE</td>\n",
       "      <td>TN</td>\n",
       "      <td>377XX</td>\n",
       "      <td>NaN</td>\n",
       "      <td>Consent not provided</td>\n",
       "      <td>Web</td>\n",
       "      <td>11/17/2015</td>\n",
       "      <td>Closed with non-monetary relief</td>\n",
       "      <td>Yes</td>\n",
       "      <td>No</td>\n",
       "      <td>1654084</td>\n",
       "      <td>830888</td>\n",
       "    </tr>\n",
       "    <tr>\n",
       "      <th>526856</th>\n",
       "      <td>02/11/2013</td>\n",
       "      <td>Mortgage</td>\n",
       "      <td>Conventional fixed mortgage</td>\n",
       "      <td>Loan modification,collection,foreclosure</td>\n",
       "      <td>Other</td>\n",
       "      <td>Other Description</td>\n",
       "      <td>Other Description</td>\n",
       "      <td>HSBC NORTH AMERICA HOLDINGS INC.</td>\n",
       "      <td>NJ</td>\n",
       "      <td>07111</td>\n",
       "      <td>NaN</td>\n",
       "      <td>NaN</td>\n",
       "      <td>Web</td>\n",
       "      <td>02/13/2013</td>\n",
       "      <td>Closed with explanation</td>\n",
       "      <td>Yes</td>\n",
       "      <td>No</td>\n",
       "      <td>314145</td>\n",
       "      <td>526856</td>\n",
       "    </tr>\n",
       "    <tr>\n",
       "      <th>591472</th>\n",
       "      <td>08/04/2015</td>\n",
       "      <td>Credit card</td>\n",
       "      <td>Other</td>\n",
       "      <td>Other</td>\n",
       "      <td>Other</td>\n",
       "      <td>Other Description</td>\n",
       "      <td>Company chooses not to provide a public response</td>\n",
       "      <td>CITIBANK, N.A.</td>\n",
       "      <td>AZ</td>\n",
       "      <td>85718</td>\n",
       "      <td>Older American</td>\n",
       "      <td>Consent not provided</td>\n",
       "      <td>Web</td>\n",
       "      <td>08/04/2015</td>\n",
       "      <td>Closed with monetary relief</td>\n",
       "      <td>Yes</td>\n",
       "      <td>No</td>\n",
       "      <td>1500828</td>\n",
       "      <td>591472</td>\n",
       "    </tr>\n",
       "    <tr>\n",
       "      <th>221150</th>\n",
       "      <td>03/22/2018</td>\n",
       "      <td>Debt collection</td>\n",
       "      <td>Other debt</td>\n",
       "      <td>Written notification about debt</td>\n",
       "      <td>Didn't receive enough information to verify debt</td>\n",
       "      <td>Other Description</td>\n",
       "      <td>Company believes it acted appropriately as aut...</td>\n",
       "      <td>Simon’s Agency, Inc</td>\n",
       "      <td>NJ</td>\n",
       "      <td>07740</td>\n",
       "      <td>NaN</td>\n",
       "      <td>NaN</td>\n",
       "      <td>Fax</td>\n",
       "      <td>03/30/2018</td>\n",
       "      <td>Closed with explanation</td>\n",
       "      <td>Yes</td>\n",
       "      <td>NaN</td>\n",
       "      <td>2851121</td>\n",
       "      <td>221150</td>\n",
       "    </tr>\n",
       "    <tr>\n",
       "      <th>744204</th>\n",
       "      <td>12/31/2017</td>\n",
       "      <td>Mortgage</td>\n",
       "      <td>Conventional home mortgage</td>\n",
       "      <td>Struggling to pay mortgage</td>\n",
       "      <td>Other</td>\n",
       "      <td>Other Description</td>\n",
       "      <td>Other Description</td>\n",
       "      <td>BAYVIEW LOAN SERVICING, LLC</td>\n",
       "      <td>GA</td>\n",
       "      <td>30705</td>\n",
       "      <td>NaN</td>\n",
       "      <td>Other</td>\n",
       "      <td>Web</td>\n",
       "      <td>12/31/2017</td>\n",
       "      <td>Closed with explanation</td>\n",
       "      <td>Yes</td>\n",
       "      <td>NaN</td>\n",
       "      <td>2768499</td>\n",
       "      <td>744204</td>\n",
       "    </tr>\n",
       "    <tr>\n",
       "      <th>812813</th>\n",
       "      <td>08/02/2018</td>\n",
       "      <td>Credit card or prepaid card</td>\n",
       "      <td>General-purpose credit card or charge card</td>\n",
       "      <td>Trouble using your card</td>\n",
       "      <td>Can't use card to make purchases</td>\n",
       "      <td>Other Description</td>\n",
       "      <td>Company has responded to the consumer and the ...</td>\n",
       "      <td>CITIBANK, N.A.</td>\n",
       "      <td>CA</td>\n",
       "      <td>94610</td>\n",
       "      <td>NaN</td>\n",
       "      <td>NaN</td>\n",
       "      <td>Referral</td>\n",
       "      <td>08/06/2018</td>\n",
       "      <td>Closed with monetary relief</td>\n",
       "      <td>Yes</td>\n",
       "      <td>NaN</td>\n",
       "      <td>2980458</td>\n",
       "      <td>812813</td>\n",
       "    </tr>\n",
       "    <tr>\n",
       "      <th>1050239</th>\n",
       "      <td>08/21/2015</td>\n",
       "      <td>Mortgage</td>\n",
       "      <td>VA mortgage</td>\n",
       "      <td>Credit decision / Underwriting</td>\n",
       "      <td>Other</td>\n",
       "      <td>I contacted QuickenLoans about a possible VA m...</td>\n",
       "      <td>Other Description</td>\n",
       "      <td>QUICKEN LOANS, INC.</td>\n",
       "      <td>TN</td>\n",
       "      <td>373XX</td>\n",
       "      <td>Servicemember</td>\n",
       "      <td>Consent provided</td>\n",
       "      <td>Web</td>\n",
       "      <td>08/21/2015</td>\n",
       "      <td>Closed with explanation</td>\n",
       "      <td>Yes</td>\n",
       "      <td>Yes</td>\n",
       "      <td>1531092</td>\n",
       "      <td>1050239</td>\n",
       "    </tr>\n",
       "    <tr>\n",
       "      <th>429832</th>\n",
       "      <td>05/26/2017</td>\n",
       "      <td>Mortgage</td>\n",
       "      <td>FHA mortgage</td>\n",
       "      <td>Trouble during payment process</td>\n",
       "      <td>Other</td>\n",
       "      <td>The problem i have is with Wells Fargo Home Mo...</td>\n",
       "      <td>Company has responded to the consumer and the ...</td>\n",
       "      <td>WELLS FARGO &amp; COMPANY</td>\n",
       "      <td>TX</td>\n",
       "      <td>760XX</td>\n",
       "      <td>NaN</td>\n",
       "      <td>Consent provided</td>\n",
       "      <td>Web</td>\n",
       "      <td>05/26/2017</td>\n",
       "      <td>Closed with explanation</td>\n",
       "      <td>Yes</td>\n",
       "      <td>NaN</td>\n",
       "      <td>2495238</td>\n",
       "      <td>429832</td>\n",
       "    </tr>\n",
       "    <tr>\n",
       "      <th>885063</th>\n",
       "      <td>02/15/2017</td>\n",
       "      <td>Credit card</td>\n",
       "      <td>Other</td>\n",
       "      <td>Billing disputes</td>\n",
       "      <td>Other</td>\n",
       "      <td>Other Description</td>\n",
       "      <td>Company has responded to the consumer and the ...</td>\n",
       "      <td>CITIBANK, N.A.</td>\n",
       "      <td>WI</td>\n",
       "      <td>547XX</td>\n",
       "      <td>NaN</td>\n",
       "      <td>Consent not provided</td>\n",
       "      <td>Web</td>\n",
       "      <td>02/15/2017</td>\n",
       "      <td>Closed with monetary relief</td>\n",
       "      <td>Yes</td>\n",
       "      <td>No</td>\n",
       "      <td>2345974</td>\n",
       "      <td>885063</td>\n",
       "    </tr>\n",
       "    <tr>\n",
       "      <th>251412</th>\n",
       "      <td>03/05/2015</td>\n",
       "      <td>Credit card</td>\n",
       "      <td>Other</td>\n",
       "      <td>Closing/Cancelling account</td>\n",
       "      <td>Other</td>\n",
       "      <td>Other Description</td>\n",
       "      <td>Other Description</td>\n",
       "      <td>CITIBANK, N.A.</td>\n",
       "      <td>MI</td>\n",
       "      <td>48021</td>\n",
       "      <td>NaN</td>\n",
       "      <td>NaN</td>\n",
       "      <td>Web</td>\n",
       "      <td>03/05/2015</td>\n",
       "      <td>Closed with explanation</td>\n",
       "      <td>Yes</td>\n",
       "      <td>No</td>\n",
       "      <td>1269347</td>\n",
       "      <td>251412</td>\n",
       "    </tr>\n",
       "  </tbody>\n",
       "</table>\n",
       "</div>"
      ],
      "text/plain": [
       "        Date received                      Product  \\\n",
       "830888     11/13/2015                  Credit card   \n",
       "526856     02/11/2013                     Mortgage   \n",
       "591472     08/04/2015                  Credit card   \n",
       "221150     03/22/2018              Debt collection   \n",
       "744204     12/31/2017                     Mortgage   \n",
       "812813     08/02/2018  Credit card or prepaid card   \n",
       "1050239    08/21/2015                     Mortgage   \n",
       "429832     05/26/2017                     Mortgage   \n",
       "885063     02/15/2017                  Credit card   \n",
       "251412     03/05/2015                  Credit card   \n",
       "\n",
       "                                        Sub-product  \\\n",
       "830888                                        Other   \n",
       "526856                  Conventional fixed mortgage   \n",
       "591472                                        Other   \n",
       "221150                                   Other debt   \n",
       "744204                   Conventional home mortgage   \n",
       "812813   General-purpose credit card or charge card   \n",
       "1050239                                 VA mortgage   \n",
       "429832                                 FHA mortgage   \n",
       "885063                                        Other   \n",
       "251412                                        Other   \n",
       "\n",
       "                                            Issue  \\\n",
       "830888                       Credit determination   \n",
       "526856   Loan modification,collection,foreclosure   \n",
       "591472                                      Other   \n",
       "221150            Written notification about debt   \n",
       "744204                 Struggling to pay mortgage   \n",
       "812813                    Trouble using your card   \n",
       "1050239            Credit decision / Underwriting   \n",
       "429832             Trouble during payment process   \n",
       "885063                           Billing disputes   \n",
       "251412                 Closing/Cancelling account   \n",
       "\n",
       "                                                Sub-issue  \\\n",
       "830888                                              Other   \n",
       "526856                                              Other   \n",
       "591472                                              Other   \n",
       "221150   Didn't receive enough information to verify debt   \n",
       "744204                                              Other   \n",
       "812813                   Can't use card to make purchases   \n",
       "1050239                                             Other   \n",
       "429832                                              Other   \n",
       "885063                                              Other   \n",
       "251412                                              Other   \n",
       "\n",
       "                              Consumer complaint narrative  \\\n",
       "830888                                   Other Description   \n",
       "526856                                   Other Description   \n",
       "591472                                   Other Description   \n",
       "221150                                   Other Description   \n",
       "744204                                   Other Description   \n",
       "812813                                   Other Description   \n",
       "1050239  I contacted QuickenLoans about a possible VA m...   \n",
       "429832   The problem i have is with Wells Fargo Home Mo...   \n",
       "885063                                   Other Description   \n",
       "251412                                   Other Description   \n",
       "\n",
       "                                   Company public response  \\\n",
       "830888    Company chooses not to provide a public response   \n",
       "526856                                   Other Description   \n",
       "591472    Company chooses not to provide a public response   \n",
       "221150   Company believes it acted appropriately as aut...   \n",
       "744204                                   Other Description   \n",
       "812813   Company has responded to the consumer and the ...   \n",
       "1050239                                  Other Description   \n",
       "429832   Company has responded to the consumer and the ...   \n",
       "885063   Company has responded to the consumer and the ...   \n",
       "251412                                   Other Description   \n",
       "\n",
       "                                  Company State ZIP code            Tags  \\\n",
       "830888             BARCLAYS BANK DELAWARE    TN    377XX             NaN   \n",
       "526856   HSBC NORTH AMERICA HOLDINGS INC.    NJ    07111             NaN   \n",
       "591472                     CITIBANK, N.A.    AZ    85718  Older American   \n",
       "221150                Simon’s Agency, Inc    NJ    07740             NaN   \n",
       "744204        BAYVIEW LOAN SERVICING, LLC    GA    30705             NaN   \n",
       "812813                     CITIBANK, N.A.    CA    94610             NaN   \n",
       "1050239               QUICKEN LOANS, INC.    TN    373XX   Servicemember   \n",
       "429832              WELLS FARGO & COMPANY    TX    760XX             NaN   \n",
       "885063                     CITIBANK, N.A.    WI    547XX             NaN   \n",
       "251412                     CITIBANK, N.A.    MI    48021             NaN   \n",
       "\n",
       "        Consumer consent provided? Submitted via Date sent to company  \\\n",
       "830888        Consent not provided           Web           11/17/2015   \n",
       "526856                         NaN           Web           02/13/2013   \n",
       "591472        Consent not provided           Web           08/04/2015   \n",
       "221150                         NaN           Fax           03/30/2018   \n",
       "744204                       Other           Web           12/31/2017   \n",
       "812813                         NaN      Referral           08/06/2018   \n",
       "1050239           Consent provided           Web           08/21/2015   \n",
       "429832            Consent provided           Web           05/26/2017   \n",
       "885063        Consent not provided           Web           02/15/2017   \n",
       "251412                         NaN           Web           03/05/2015   \n",
       "\n",
       "            Company response to consumer Timely response? Consumer disputed?  \\\n",
       "830888   Closed with non-monetary relief              Yes                 No   \n",
       "526856           Closed with explanation              Yes                 No   \n",
       "591472       Closed with monetary relief              Yes                 No   \n",
       "221150           Closed with explanation              Yes                NaN   \n",
       "744204           Closed with explanation              Yes                NaN   \n",
       "812813       Closed with monetary relief              Yes                NaN   \n",
       "1050239          Closed with explanation              Yes                Yes   \n",
       "429832           Closed with explanation              Yes                NaN   \n",
       "885063       Closed with monetary relief              Yes                 No   \n",
       "251412           Closed with explanation              Yes                 No   \n",
       "\n",
       "         Complaint ID  train_id  \n",
       "830888        1654084    830888  \n",
       "526856         314145    526856  \n",
       "591472        1500828    591472  \n",
       "221150        2851121    221150  \n",
       "744204        2768499    744204  \n",
       "812813        2980458    812813  \n",
       "1050239       1531092   1050239  \n",
       "429832        2495238    429832  \n",
       "885063        2345974    885063  \n",
       "251412        1269347    251412  "
      ]
     },
     "execution_count": 28,
     "metadata": {},
     "output_type": "execute_result"
    }
   ],
   "source": [
    "train.head(10)"
   ]
  },
  {
   "cell_type": "code",
   "execution_count": 29,
   "metadata": {
    "collapsed": true
   },
   "outputs": [],
   "source": [
    "#train.isnull().sum()"
   ]
  },
  {
   "cell_type": "markdown",
   "metadata": {},
   "source": [
    "As we can see all the NULL values have been removed formt he important features and the ones which are left can be drop or can be used later in while providing recommendation in final output."
   ]
  },
  {
   "cell_type": "markdown",
   "metadata": {},
   "source": [
    "### Exploratory Data Analysis  \n",
    "\n",
    "We will look after the Categories field."
   ]
  },
  {
   "cell_type": "code",
   "execution_count": 30,
   "metadata": {
    "collapsed": true
   },
   "outputs": [],
   "source": [
    "#train[\"Company response to consumer\"].describe()"
   ]
  },
  {
   "cell_type": "code",
   "execution_count": 31,
   "metadata": {
    "collapsed": true
   },
   "outputs": [],
   "source": [
    "#dict( enumerate(train[\"Company response to consumer\"].cat.categories) ) "
   ]
  },
  {
   "cell_type": "code",
   "execution_count": 32,
   "metadata": {
    "collapsed": true
   },
   "outputs": [],
   "source": [
    "#train[\"Company response to consumer\"].value_counts()"
   ]
  },
  {
   "cell_type": "code",
   "execution_count": 33,
   "metadata": {},
   "outputs": [
    {
     "data": {
      "image/png": "[encoded data removed]",
      "text/plain": [
       "<matplotlib.figure.Figure at 0x274123edf60>"
      ]
     },
     "metadata": {},
     "output_type": "display_data"
    }
   ],
   "source": [
    "cat = train[\"Company response to consumer\"].value_counts().reset_index().rename(columns={'index': 'cat_name', 'Company response to consumer':'count'})\n",
    "ax = sns.barplot(x=\"cat_name\", y=\"count\", data=cat)\n",
    "ax.set_xticklabels(ax.get_xticklabels(),rotation=90)\n",
    "ax.set_title('Category Distribution', fontsize=15)\n",
    "plt.show()"
   ]
  },
  {
   "cell_type": "markdown",
   "metadata": {},
   "source": [
    "As you can see from the above plot bar that most of the consumer complaints falls into **'Closed with expalnation'** category, after that **'Closed with  non-monetary relief'** then **'Closed with monetary relief'**"
   ]
  },
  {
   "cell_type": "markdown",
   "metadata": {},
   "source": [
    "## Preparing the corpus for Analysis  \n",
    "\n",
    "a. Remove Puncuations\n",
    "\n",
    "b. Remove Digits\n",
    "\n",
    "c. Remove stop words\n",
    "\n",
    "d. Lower case words\n",
    "\n",
    "e. Lemmatization or Stemming"
   ]
  },
  {
   "cell_type": "markdown",
   "metadata": {},
   "source": [
    "### Removing Punctuation"
   ]
  },
  {
   "cell_type": "code",
   "execution_count": 34,
   "metadata": {},
   "outputs": [
    {
     "data": {
      "text/plain": [
       "'!\"#$%&\\'()*+,-./:;<=>?@[\\\\]^_`{|}~'"
      ]
     },
     "execution_count": 34,
     "metadata": {},
     "output_type": "execute_result"
    }
   ],
   "source": [
    "punctuation"
   ]
  },
  {
   "cell_type": "code",
   "execution_count": 35,
   "metadata": {},
   "outputs": [
    {
     "data": {
      "text/plain": [
       "[('!', ''),\n",
       " ('\"', ''),\n",
       " ('#', ''),\n",
       " ('$', ''),\n",
       " ('%', ''),\n",
       " ('&', ''),\n",
       " (\"'\", ''),\n",
       " ('(', ''),\n",
       " (')', ''),\n",
       " ('*', ''),\n",
       " ('+', ''),\n",
       " (',', ''),\n",
       " ('-', ''),\n",
       " ('.', ''),\n",
       " ('/', ''),\n",
       " (':', ''),\n",
       " (';', ''),\n",
       " ('<', ''),\n",
       " ('=', ''),\n",
       " ('>', ''),\n",
       " ('?', ''),\n",
       " ('@', ''),\n",
       " ('[', ''),\n",
       " ('\\\\', ''),\n",
       " (']', ''),\n",
       " ('^', ''),\n",
       " ('_', ''),\n",
       " ('`', ''),\n",
       " ('{', ''),\n",
       " ('|', ''),\n",
       " ('}', ''),\n",
       " ('~', '')]"
      ]
     },
     "execution_count": 35,
     "metadata": {},
     "output_type": "execute_result"
    }
   ],
   "source": [
    "#Replacing punctuations\n",
    "\n",
    "punctuation_symbols =[]\n",
    "\n",
    "for p in punctuation:\n",
    "    punctuation_symbols.append((p,''))\n",
    "\n",
    "punctuation_symbols"
   ]
  },
  {
   "cell_type": "code",
   "execution_count": 36,
   "metadata": {
    "collapsed": true
   },
   "outputs": [],
   "source": [
    "import string\n",
    "def remove_punctuation(sentence: str) -> str:\n",
    "    return sentence.translate(str.maketrans('', '', string.punctuation))"
   ]
  },
  {
   "cell_type": "markdown",
   "metadata": {},
   "source": [
    "### Removing Digits"
   ]
  },
  {
   "cell_type": "code",
   "execution_count": 37,
   "metadata": {
    "collapsed": true
   },
   "outputs": [],
   "source": [
    "def remove_digit(s):\n",
    "    s = ''.join([k for k in s if not k.isdigit()])\n",
    "    return s"
   ]
  },
  {
   "cell_type": "markdown",
   "metadata": {},
   "source": [
    "### Remove Stop Words"
   ]
  },
  {
   "cell_type": "code",
   "execution_count": 38,
   "metadata": {
    "collapsed": true
   },
   "outputs": [],
   "source": [
    "from nltk.corpus import stopwords\n",
    "\n",
    "stop = stopwords.words('english')\n",
    "\n",
    "def remove_stop_words(x):\n",
    "    x = ' '.join([i for i in x.lower().split(' ') if i not in stop])\n",
    "    return x"
   ]
  },
  {
   "cell_type": "markdown",
   "metadata": {},
   "source": [
    "### Lowercase Words"
   ]
  },
  {
   "cell_type": "code",
   "execution_count": 39,
   "metadata": {
    "collapsed": true
   },
   "outputs": [],
   "source": [
    "def to_lower(x):\n",
    "    return x.lower()"
   ]
  },
  {
   "cell_type": "markdown",
   "metadata": {},
   "source": [
    "### Product Distribution"
   ]
  },
  {
   "cell_type": "code",
   "execution_count": 40,
   "metadata": {},
   "outputs": [
    {
     "data": {
      "text/plain": [
       "18"
      ]
     },
     "execution_count": 40,
     "metadata": {},
     "output_type": "execute_result"
    }
   ],
   "source": [
    "train[\"Product\"].nunique()"
   ]
  },
  {
   "cell_type": "code",
   "execution_count": 41,
   "metadata": {},
   "outputs": [
    {
     "data": {
      "image/png": "[encoded data removed]",
      "text/plain": [
       "<matplotlib.figure.Figure at 0x274409d2080>"
      ]
     },
     "metadata": {},
     "output_type": "display_data"
    }
   ],
   "source": [
    "cat = train[\"Product\"].value_counts().reset_index().rename(columns={'index': 'Product_name', 'Product':'count'})\n",
    "ax = sns.barplot(x=\"Product_name\", y=\"count\", data=cat)\n",
    "ax.set_xticklabels(ax.get_xticklabels(),rotation=90)\n",
    "ax.set_title('Product Distribution', fontsize=15)\n",
    "plt.show()"
   ]
  },
  {
   "cell_type": "markdown",
   "metadata": {},
   "source": [
    "### Issue Distribution\n",
    "\n",
    "From the below plot we got to know top 10 issues in th dataset."
   ]
  },
  {
   "cell_type": "code",
   "execution_count": 42,
   "metadata": {},
   "outputs": [
    {
     "data": {
      "text/html": [
       "<div>\n",
       "<style scoped>\n",
       "    .dataframe tbody tr th:only-of-type {\n",
       "        vertical-align: middle;\n",
       "    }\n",
       "\n",
       "    .dataframe tbody tr th {\n",
       "        vertical-align: top;\n",
       "    }\n",
       "\n",
       "    .dataframe thead th {\n",
       "        text-align: right;\n",
       "    }\n",
       "</style>\n",
       "<table border=\"1\" class=\"dataframe\">\n",
       "  <thead>\n",
       "    <tr style=\"text-align: right;\">\n",
       "      <th></th>\n",
       "      <th>Issue</th>\n",
       "      <th>Complaint ID</th>\n",
       "    </tr>\n",
       "  </thead>\n",
       "  <tbody>\n",
       "    <tr>\n",
       "      <th>0</th>\n",
       "      <td>Loan modification,collection,foreclosure</td>\n",
       "      <td>78520</td>\n",
       "    </tr>\n",
       "    <tr>\n",
       "      <th>1</th>\n",
       "      <td>Incorrect information on credit report</td>\n",
       "      <td>71698</td>\n",
       "    </tr>\n",
       "    <tr>\n",
       "      <th>2</th>\n",
       "      <td>Incorrect information on your report</td>\n",
       "      <td>61509</td>\n",
       "    </tr>\n",
       "    <tr>\n",
       "      <th>3</th>\n",
       "      <td>Loan servicing, payments, escrow account</td>\n",
       "      <td>54071</td>\n",
       "    </tr>\n",
       "    <tr>\n",
       "      <th>4</th>\n",
       "      <td>Cont'd attempts collect debt not owed</td>\n",
       "      <td>42453</td>\n",
       "    </tr>\n",
       "    <tr>\n",
       "      <th>5</th>\n",
       "      <td>Account opening, closing, or management</td>\n",
       "      <td>26584</td>\n",
       "    </tr>\n",
       "    <tr>\n",
       "      <th>6</th>\n",
       "      <td>Problem with a credit reporting company's inve...</td>\n",
       "      <td>24138</td>\n",
       "    </tr>\n",
       "    <tr>\n",
       "      <th>7</th>\n",
       "      <td>Communication tactics</td>\n",
       "      <td>22350</td>\n",
       "    </tr>\n",
       "    <tr>\n",
       "      <th>8</th>\n",
       "      <td>Disclosure verification of debt</td>\n",
       "      <td>21633</td>\n",
       "    </tr>\n",
       "    <tr>\n",
       "      <th>9</th>\n",
       "      <td>Attempts to collect debt not owed</td>\n",
       "      <td>20847</td>\n",
       "    </tr>\n",
       "  </tbody>\n",
       "</table>\n",
       "</div>"
      ],
      "text/plain": [
       "                                               Issue  Complaint ID\n",
       "0           Loan modification,collection,foreclosure         78520\n",
       "1             Incorrect information on credit report         71698\n",
       "2               Incorrect information on your report         61509\n",
       "3           Loan servicing, payments, escrow account         54071\n",
       "4              Cont'd attempts collect debt not owed         42453\n",
       "5            Account opening, closing, or management         26584\n",
       "6  Problem with a credit reporting company's inve...         24138\n",
       "7                              Communication tactics         22350\n",
       "8                    Disclosure verification of debt         21633\n",
       "9                  Attempts to collect debt not owed         20847"
      ]
     },
     "execution_count": 42,
     "metadata": {},
     "output_type": "execute_result"
    },
    {
     "data": {
      "image/png": "[encoded data removed]",
      "text/plain": [
       "<matplotlib.figure.Figure at 0x27412403860>"
      ]
     },
     "metadata": {},
     "output_type": "display_data"
    }
   ],
   "source": [
    "# Display Top 20 Issues By their Categories\n",
    "top10_issue = train.groupby('Issue', axis=0).count()\n",
    "\n",
    "df_ID = pd.DataFrame(top10_issue.sort_values('Complaint ID', ascending = False)['Complaint ID'][0:10].reset_index())\n",
    "ax = sns.barplot(df_ID.Issue, df_ID[\"Complaint ID\"], data=df_ID)\n",
    "#ax.set_xticklabels(ax.get_xticklabels(),rotation=90, fontsize=15)\n",
    "#ax.set_xticklabels(df_ID.Issue,rotation=60)\n",
    "ax.set_title('Top 10 Issues', fontsize=15)\n",
    "#plt.xticks(fontsize=15)\n",
    "plt.yticks(fontsize=15)\n",
    "df_ID\n",
    "#plt.show()# Displayd frequency ratio of brand names"
   ]
  },
  {
   "cell_type": "code",
   "execution_count": 43,
   "metadata": {},
   "outputs": [
    {
     "data": {
      "image/png": "[encoded data removed]",
      "text/plain": [
       "<matplotlib.figure.Figure at 0x27419f6cef0>"
      ]
     },
     "metadata": {},
     "output_type": "display_data"
    }
   ],
   "source": [
    "fig, axes = plt.subplots(figsize=(12, 7))\n",
    "main = train[train[\"Complaint ID\"]<1000]\n",
    "# Use a color palette\n",
    "ax = sns.boxplot( x=main[\"Company response to consumer\"], y=main[\"Complaint ID\"], palette=\"BuGn_r\")\n",
    "ax.set_xticklabels(ax.get_xticklabels(),rotation=90, fontsize=12)\n",
    "\n",
    "sns.plt.show()"
   ]
  },
  {
   "cell_type": "markdown",
   "metadata": {},
   "source": [
    "## Consumer Narrative Analysis\n",
    "\n",
    "Hypothesis:\n",
    "\n",
    "Does length play a role in final result?  \n",
    "Does certain descriptions gives a same result?  \n",
    "Lenghthier descriptions mean more effort in the process, more authentic, more valuable?  "
   ]
  },
  {
   "cell_type": "code",
   "execution_count": 44,
   "metadata": {
    "collapsed": true
   },
   "outputs": [],
   "source": [
    "# Remove Punctuation\n",
    "combined[\"Consumer complaint narrative\"] = combined[\"Consumer complaint narrative\"].astype(str)\n",
    "\n",
    "descr = combined[[\"Consumer complaint narrative\", \"Company response to consumer\"]]\n",
    "descr['count'] = descr[\"Consumer complaint narrative\"].apply(lambda x : len(str(x)))\n",
    "\n",
    "descr[\"Consumer complaint narrative\"] = descr[\"Consumer complaint narrative\"].apply(remove_digit)\n",
    "descr[\"Consumer complaint narrative\"] = descr[\"Consumer complaint narrative\"].apply(remove_punctuation)\n",
    "descr[\"Consumer complaint narrative\"] = descr[\"Consumer complaint narrative\"].apply(remove_stop_words)"
   ]
  },
  {
   "cell_type": "code",
   "execution_count": 45,
   "metadata": {
    "collapsed": true
   },
   "outputs": [],
   "source": [
    "from nltk.stem.porter import PorterStemmer\n",
    "\n",
    "porter = PorterStemmer()\n",
    "\n",
    "descr[\"Consumer complaint narrative\"] = descr[\"Consumer complaint narrative\"].apply(porter.stem)"
   ]
  },
  {
   "cell_type": "code",
   "execution_count": 46,
   "metadata": {},
   "outputs": [
    {
     "data": {
      "text/plain": [
       "(1124716, 3)"
      ]
     },
     "execution_count": 46,
     "metadata": {},
     "output_type": "execute_result"
    }
   ],
   "source": [
    "descr.shape"
   ]
  },
  {
   "cell_type": "code",
   "execution_count": 47,
   "metadata": {},
   "outputs": [
    {
     "data": {
      "text/html": [
       "<div>\n",
       "<style scoped>\n",
       "    .dataframe tbody tr th:only-of-type {\n",
       "        vertical-align: middle;\n",
       "    }\n",
       "\n",
       "    .dataframe tbody tr th {\n",
       "        vertical-align: top;\n",
       "    }\n",
       "\n",
       "    .dataframe thead th {\n",
       "        text-align: right;\n",
       "    }\n",
       "</style>\n",
       "<table border=\"1\" class=\"dataframe\">\n",
       "  <thead>\n",
       "    <tr style=\"text-align: right;\">\n",
       "      <th></th>\n",
       "      <th>Consumer complaint narrative</th>\n",
       "      <th>Company response to consumer</th>\n",
       "      <th>count</th>\n",
       "    </tr>\n",
       "  </thead>\n",
       "  <tbody>\n",
       "    <tr>\n",
       "      <th>112784</th>\n",
       "      <td>nan</td>\n",
       "      <td>Closed without relief</td>\n",
       "      <td>3</td>\n",
       "    </tr>\n",
       "    <tr>\n",
       "      <th>1106502</th>\n",
       "      <td>xxxx year old son receiving credit card offers...</td>\n",
       "      <td>Closed with explanation</td>\n",
       "      <td>1370</td>\n",
       "    </tr>\n",
       "    <tr>\n",
       "      <th>262710</th>\n",
       "      <td>nan</td>\n",
       "      <td>Closed with explanation</td>\n",
       "      <td>3</td>\n",
       "    </tr>\n",
       "    <tr>\n",
       "      <th>971468</th>\n",
       "      <td>much info early warning showing wrong dispute ...</td>\n",
       "      <td>Closed with explanation</td>\n",
       "      <td>107</td>\n",
       "    </tr>\n",
       "    <tr>\n",
       "      <th>994333</th>\n",
       "      <td>open checking saving accounts back xxxxxxxx ke...</td>\n",
       "      <td>Closed with explanation</td>\n",
       "      <td>661</td>\n",
       "    </tr>\n",
       "    <tr>\n",
       "      <th>564113</th>\n",
       "      <td>nan</td>\n",
       "      <td>Closed with explanation</td>\n",
       "      <td>3</td>\n",
       "    </tr>\n",
       "    <tr>\n",
       "      <th>930608</th>\n",
       "      <td>nan</td>\n",
       "      <td>Closed with explanation</td>\n",
       "      <td>3</td>\n",
       "    </tr>\n",
       "    <tr>\n",
       "      <th>895317</th>\n",
       "      <td>nan</td>\n",
       "      <td>Closed with explanation</td>\n",
       "      <td>3</td>\n",
       "    </tr>\n",
       "    <tr>\n",
       "      <th>894697</th>\n",
       "      <td>nan</td>\n",
       "      <td>Closed with explanation</td>\n",
       "      <td>3</td>\n",
       "    </tr>\n",
       "    <tr>\n",
       "      <th>290426</th>\n",
       "      <td>nan</td>\n",
       "      <td>Closed with explanation</td>\n",
       "      <td>3</td>\n",
       "    </tr>\n",
       "  </tbody>\n",
       "</table>\n",
       "</div>"
      ],
      "text/plain": [
       "                              Consumer complaint narrative  \\\n",
       "112784                                                 nan   \n",
       "1106502  xxxx year old son receiving credit card offers...   \n",
       "262710                                                 nan   \n",
       "971468   much info early warning showing wrong dispute ...   \n",
       "994333   open checking saving accounts back xxxxxxxx ke...   \n",
       "564113                                                 nan   \n",
       "930608                                                 nan   \n",
       "895317                                                 nan   \n",
       "894697                                                 nan   \n",
       "290426                                                 nan   \n",
       "\n",
       "        Company response to consumer  count  \n",
       "112784         Closed without relief      3  \n",
       "1106502      Closed with explanation   1370  \n",
       "262710       Closed with explanation      3  \n",
       "971468       Closed with explanation    107  \n",
       "994333       Closed with explanation    661  \n",
       "564113       Closed with explanation      3  \n",
       "930608       Closed with explanation      3  \n",
       "895317       Closed with explanation      3  \n",
       "894697       Closed with explanation      3  \n",
       "290426       Closed with explanation      3  "
      ]
     },
     "execution_count": 47,
     "metadata": {},
     "output_type": "execute_result"
    }
   ],
   "source": [
    "descr.tail(10)"
   ]
  },
  {
   "cell_type": "code",
   "execution_count": 48,
   "metadata": {
    "collapsed": true
   },
   "outputs": [],
   "source": [
    "#df = descr.groupby(\"Company response to consumer\")['count'].count().reset_index()\n",
    "#.count().reset_index()\n",
    "#sns.regplot(x=descr[\"Company response to consumer\"], y=(descr['count']))\n",
    "#plt.xlabel(\"word count\")\n",
    "#plt.show()"
   ]
  },
  {
   "cell_type": "code",
   "execution_count": 49,
   "metadata": {},
   "outputs": [
    {
     "data": {
      "text/html": [
       "<div>\n",
       "<style scoped>\n",
       "    .dataframe tbody tr th:only-of-type {\n",
       "        vertical-align: middle;\n",
       "    }\n",
       "\n",
       "    .dataframe tbody tr th {\n",
       "        vertical-align: top;\n",
       "    }\n",
       "\n",
       "    .dataframe thead th {\n",
       "        text-align: right;\n",
       "    }\n",
       "</style>\n",
       "<table border=\"1\" class=\"dataframe\">\n",
       "  <thead>\n",
       "    <tr style=\"text-align: right;\">\n",
       "      <th></th>\n",
       "      <th>Date received</th>\n",
       "      <th>Product</th>\n",
       "      <th>Sub-product</th>\n",
       "      <th>Issue</th>\n",
       "      <th>Sub-issue</th>\n",
       "      <th>Consumer complaint narrative</th>\n",
       "      <th>Company public response</th>\n",
       "      <th>Company</th>\n",
       "      <th>State</th>\n",
       "      <th>ZIP code</th>\n",
       "      <th>Tags</th>\n",
       "      <th>Consumer consent provided?</th>\n",
       "      <th>Submitted via</th>\n",
       "      <th>Date sent to company</th>\n",
       "      <th>Company response to consumer</th>\n",
       "      <th>Timely response?</th>\n",
       "      <th>Consumer disputed?</th>\n",
       "      <th>Complaint ID</th>\n",
       "    </tr>\n",
       "  </thead>\n",
       "  <tbody>\n",
       "    <tr>\n",
       "      <th>830888</th>\n",
       "      <td>11/13/2015</td>\n",
       "      <td>Credit card</td>\n",
       "      <td>NaN</td>\n",
       "      <td>Credit determination</td>\n",
       "      <td>NaN</td>\n",
       "      <td>nan</td>\n",
       "      <td>Company chooses not to provide a public response</td>\n",
       "      <td>BARCLAYS BANK DELAWARE</td>\n",
       "      <td>TN</td>\n",
       "      <td>377XX</td>\n",
       "      <td>NaN</td>\n",
       "      <td>Consent not provided</td>\n",
       "      <td>Web</td>\n",
       "      <td>11/17/2015</td>\n",
       "      <td>Closed with non-monetary relief</td>\n",
       "      <td>Yes</td>\n",
       "      <td>No</td>\n",
       "      <td>1654084</td>\n",
       "    </tr>\n",
       "    <tr>\n",
       "      <th>526856</th>\n",
       "      <td>02/11/2013</td>\n",
       "      <td>Mortgage</td>\n",
       "      <td>Conventional fixed mortgage</td>\n",
       "      <td>Loan modification,collection,foreclosure</td>\n",
       "      <td>NaN</td>\n",
       "      <td>nan</td>\n",
       "      <td>NaN</td>\n",
       "      <td>HSBC NORTH AMERICA HOLDINGS INC.</td>\n",
       "      <td>NJ</td>\n",
       "      <td>07111</td>\n",
       "      <td>NaN</td>\n",
       "      <td>NaN</td>\n",
       "      <td>Web</td>\n",
       "      <td>02/13/2013</td>\n",
       "      <td>Closed with explanation</td>\n",
       "      <td>Yes</td>\n",
       "      <td>No</td>\n",
       "      <td>314145</td>\n",
       "    </tr>\n",
       "    <tr>\n",
       "      <th>591472</th>\n",
       "      <td>08/04/2015</td>\n",
       "      <td>Credit card</td>\n",
       "      <td>NaN</td>\n",
       "      <td>Other</td>\n",
       "      <td>NaN</td>\n",
       "      <td>nan</td>\n",
       "      <td>Company chooses not to provide a public response</td>\n",
       "      <td>CITIBANK, N.A.</td>\n",
       "      <td>AZ</td>\n",
       "      <td>85718</td>\n",
       "      <td>Older American</td>\n",
       "      <td>Consent not provided</td>\n",
       "      <td>Web</td>\n",
       "      <td>08/04/2015</td>\n",
       "      <td>Closed with monetary relief</td>\n",
       "      <td>Yes</td>\n",
       "      <td>No</td>\n",
       "      <td>1500828</td>\n",
       "    </tr>\n",
       "    <tr>\n",
       "      <th>221150</th>\n",
       "      <td>03/22/2018</td>\n",
       "      <td>Debt collection</td>\n",
       "      <td>Other debt</td>\n",
       "      <td>Written notification about debt</td>\n",
       "      <td>Didn't receive enough information to verify debt</td>\n",
       "      <td>nan</td>\n",
       "      <td>Company believes it acted appropriately as aut...</td>\n",
       "      <td>Simon’s Agency, Inc</td>\n",
       "      <td>NJ</td>\n",
       "      <td>07740</td>\n",
       "      <td>NaN</td>\n",
       "      <td>NaN</td>\n",
       "      <td>Fax</td>\n",
       "      <td>03/30/2018</td>\n",
       "      <td>Closed with explanation</td>\n",
       "      <td>Yes</td>\n",
       "      <td>NaN</td>\n",
       "      <td>2851121</td>\n",
       "    </tr>\n",
       "    <tr>\n",
       "      <th>744204</th>\n",
       "      <td>12/31/2017</td>\n",
       "      <td>Mortgage</td>\n",
       "      <td>Conventional home mortgage</td>\n",
       "      <td>Struggling to pay mortgage</td>\n",
       "      <td>NaN</td>\n",
       "      <td>nan</td>\n",
       "      <td>NaN</td>\n",
       "      <td>BAYVIEW LOAN SERVICING, LLC</td>\n",
       "      <td>GA</td>\n",
       "      <td>30705</td>\n",
       "      <td>NaN</td>\n",
       "      <td>Other</td>\n",
       "      <td>Web</td>\n",
       "      <td>12/31/2017</td>\n",
       "      <td>Closed with explanation</td>\n",
       "      <td>Yes</td>\n",
       "      <td>NaN</td>\n",
       "      <td>2768499</td>\n",
       "    </tr>\n",
       "  </tbody>\n",
       "</table>\n",
       "</div>"
      ],
      "text/plain": [
       "       Date received          Product                  Sub-product  \\\n",
       "830888    11/13/2015      Credit card                          NaN   \n",
       "526856    02/11/2013         Mortgage  Conventional fixed mortgage   \n",
       "591472    08/04/2015      Credit card                          NaN   \n",
       "221150    03/22/2018  Debt collection                   Other debt   \n",
       "744204    12/31/2017         Mortgage   Conventional home mortgage   \n",
       "\n",
       "                                           Issue  \\\n",
       "830888                      Credit determination   \n",
       "526856  Loan modification,collection,foreclosure   \n",
       "591472                                     Other   \n",
       "221150           Written notification about debt   \n",
       "744204                Struggling to pay mortgage   \n",
       "\n",
       "                                               Sub-issue  \\\n",
       "830888                                               NaN   \n",
       "526856                                               NaN   \n",
       "591472                                               NaN   \n",
       "221150  Didn't receive enough information to verify debt   \n",
       "744204                                               NaN   \n",
       "\n",
       "       Consumer complaint narrative  \\\n",
       "830888                          nan   \n",
       "526856                          nan   \n",
       "591472                          nan   \n",
       "221150                          nan   \n",
       "744204                          nan   \n",
       "\n",
       "                                  Company public response  \\\n",
       "830888   Company chooses not to provide a public response   \n",
       "526856                                                NaN   \n",
       "591472   Company chooses not to provide a public response   \n",
       "221150  Company believes it acted appropriately as aut...   \n",
       "744204                                                NaN   \n",
       "\n",
       "                                 Company State ZIP code            Tags  \\\n",
       "830888            BARCLAYS BANK DELAWARE    TN    377XX             NaN   \n",
       "526856  HSBC NORTH AMERICA HOLDINGS INC.    NJ    07111             NaN   \n",
       "591472                    CITIBANK, N.A.    AZ    85718  Older American   \n",
       "221150               Simon’s Agency, Inc    NJ    07740             NaN   \n",
       "744204       BAYVIEW LOAN SERVICING, LLC    GA    30705             NaN   \n",
       "\n",
       "       Consumer consent provided? Submitted via Date sent to company  \\\n",
       "830888       Consent not provided           Web           11/17/2015   \n",
       "526856                        NaN           Web           02/13/2013   \n",
       "591472       Consent not provided           Web           08/04/2015   \n",
       "221150                        NaN           Fax           03/30/2018   \n",
       "744204                      Other           Web           12/31/2017   \n",
       "\n",
       "           Company response to consumer Timely response? Consumer disputed?  \\\n",
       "830888  Closed with non-monetary relief              Yes                 No   \n",
       "526856          Closed with explanation              Yes                 No   \n",
       "591472      Closed with monetary relief              Yes                 No   \n",
       "221150          Closed with explanation              Yes                NaN   \n",
       "744204          Closed with explanation              Yes                NaN   \n",
       "\n",
       "        Complaint ID  \n",
       "830888       1654084  \n",
       "526856        314145  \n",
       "591472       1500828  \n",
       "221150       2851121  \n",
       "744204       2768499  "
      ]
     },
     "execution_count": 49,
     "metadata": {},
     "output_type": "execute_result"
    }
   ],
   "source": [
    " combined.head()"
   ]
  },
  {
   "cell_type": "code",
   "execution_count": 50,
   "metadata": {
    "collapsed": true
   },
   "outputs": [],
   "source": [
    "# to_categorical - Converts Categorical Features \n",
    "def to_categorical(df):\n",
    "    df['Product'] = df['Product'].astype('category')\n",
    "    df['Sub-product'] = df['Sub-product'].astype('category')\n",
    "    df['Issue'] = df['Issue'].astype('category')\n",
    "    df['Sub-issue'] = df['Sub-issue'].astype('category')\n",
    "    df['Company public response'] = df['Company public response'].astype('category')\n",
    "    df['Consumer consent provided?'] = df['Consumer consent provided?'].astype('category')\n",
    "    df['Company response to consumer'] = df['Company response to consumer'].astype('category')\n",
    "    #df['Sub-product']  =  df['Sub-product'] .cat.add_categories(['Other'])\n",
    "    #df['Sub-issue'] = df['Sub-issue'].cat.add_categories(['Other'])\n",
    "    #df['Company public response'] = df['Company public response'].cat.add_categories(['None'])"
   ]
  },
  {
   "cell_type": "markdown",
   "metadata": {},
   "source": [
    "## Applying Preprocessing Functions"
   ]
  },
  {
   "cell_type": "code",
   "execution_count": 51,
   "metadata": {
    "collapsed": true
   },
   "outputs": [],
   "source": [
    "# Applying the pre-processing functions\n",
    "train_c =train\n",
    "#handle_missing_values(train)\n",
    "to_categorical(train)"
   ]
  },
  {
   "cell_type": "code",
   "execution_count": 52,
   "metadata": {
    "collapsed": true
   },
   "outputs": [],
   "source": [
    "# Remove Punctuation\n",
    "train[\"Consumer complaint narrative\"] = train[\"Consumer complaint narrative\"].astype(str)\n",
    "\n",
    "train[\"Consumer complaint narrative\"] = train[\"Consumer complaint narrative\"].apply(remove_digit)\n",
    "train[\"Consumer complaint narrative\"] = train[\"Consumer complaint narrative\"].apply(remove_punctuation)\n",
    "\n",
    "train[\"Consumer complaint narrative\"] = train[\"Consumer complaint narrative\"].apply(remove_stop_words)\n",
    "#train[\"Consumer complaint narrative\"] = train[\"Consumer complaint narrative\"].replace(['x','X'],'')\n",
    "train[\"Product\"] = train[\"Product\"].apply(remove_digit)\n",
    "train[\"Product\"] = train[\"Product\"].apply(remove_punctuation)\n",
    "train[\"Product\"] = train[\"Product\"].apply(remove_stop_words)\n",
    "\n",
    "train[\"Issue\"] = train[\"Issue\"].apply(remove_digit)\n",
    "train[\"Issue\"] = train[\"Issue\"].apply(remove_punctuation)\n",
    "train[\"Issue\"] = train[\"Issue\"].apply(remove_stop_words)\n"
   ]
  },
  {
   "cell_type": "code",
   "execution_count": 53,
   "metadata": {},
   "outputs": [
    {
     "data": {
      "text/plain": [
       "830888                                           description\n",
       "526856                                           description\n",
       "591472                                           description\n",
       "221150                                           description\n",
       "744204                                           description\n",
       "812813                                           description\n",
       "1050239    contacted quickenloans possible va mortgage on...\n",
       "429832     problem wells fargo home mortgagei lived addre...\n",
       "885063                                           description\n",
       "251412                                           description\n",
       "Name: Consumer complaint narrative, dtype: object"
      ]
     },
     "execution_count": 53,
     "metadata": {},
     "output_type": "execute_result"
    }
   ],
   "source": [
    "train[\"Consumer complaint narrative\"].head(10)"
   ]
  },
  {
   "cell_type": "markdown",
   "metadata": {
    "collapsed": true
   },
   "source": [
    "### Feature Extraction with text\n",
    "\n",
    "**Feature Pre-Processing**: Sometimes you can't just fit a dataset into your model and expect good results. Each type of feature has their own way of preprocessing. Choice of preprocessing method also depends on the model we are trying to use.\n",
    "\n",
    "Since we're working with Text Features, we're going to do a lot of vectorization:\n",
    "\n",
    "**Tokenization**: split each text into words (bag of words model)  \n",
    "**Stemming**: removing word inflections (getting the root word)  \n",
    "**Vectorization**: reducing text into a vector with different types of frequencies for each word (Count Values or TF-IDF Values)\n",
    "\n",
    "### Bag Of Words\n",
    "\n",
    "When we vectorize these words, we're doing creating a feature for each word. Also known as, Bag of Words. We lose word ordering\n",
    "\n",
    "**Solution:** To preserve some ordering, we can introduce n-grams into our vectorization of words (problem: too many features)\n",
    "\n",
    "one way to reduce dimensions of n-grams is to remove stop words (a, the, is)\n",
    "**stop words:** we can remove these words becaues they are just there for grammatical structure with little to no meaning\n",
    "**n-gram**\\   with smaller frequencies can highlight and capture important parts of a document/text. This preserves local ordering and can improve model performance."
   ]
  },
  {
   "cell_type": "code",
   "execution_count": 54,
   "metadata": {},
   "outputs": [
    {
     "data": {
      "text/plain": [
       "(787301, 19)"
      ]
     },
     "execution_count": 54,
     "metadata": {},
     "output_type": "execute_result"
    }
   ],
   "source": [
    "train.shape"
   ]
  },
  {
   "cell_type": "code",
   "execution_count": 55,
   "metadata": {
    "collapsed": true
   },
   "outputs": [],
   "source": [
    "# Examine the normalize item description\n",
    "train =train[train['Consumer complaint narrative'] != 'description']\n"
   ]
  },
  {
   "cell_type": "code",
   "execution_count": 56,
   "metadata": {
    "collapsed": true
   },
   "outputs": [],
   "source": [
    "def dup_char(x):\n",
    "    return (re.sub('[xx]','',x))"
   ]
  },
  {
   "cell_type": "code",
   "execution_count": 57,
   "metadata": {
    "collapsed": true
   },
   "outputs": [],
   "source": [
    "train[\"Consumer complaint narrative\"] = train[\"Consumer complaint narrative\"].astype(str).apply(dup_char)"
   ]
  },
  {
   "cell_type": "code",
   "execution_count": 58,
   "metadata": {},
   "outputs": [
    {
     "data": {
      "text/plain": [
       "(226385, 19)"
      ]
     },
     "execution_count": 58,
     "metadata": {},
     "output_type": "execute_result"
    }
   ],
   "source": [
    "train.shape"
   ]
  },
  {
   "cell_type": "code",
   "execution_count": 59,
   "metadata": {},
   "outputs": [
    {
     "data": {
      "text/plain": [
       "706583        wells fargo bank legitimately withdrew  res...\n",
       "985019     attempted shop good rate car   went   dealersh...\n",
       "1072165    hello opened citigold checking account citiban...\n",
       "1000337                late dates    paying partial payme...\n",
       "1073720    problem actually  fold involves mortgage citib...\n",
       "1023675    problem capital one bank months account inform...\n",
       "407908     adverse account credit report afni original cr...\n",
       "1056834    received loan paid loan said took another loan...\n",
       "579399     submitted loan modification package found deni...\n",
       "991675     last year took advantage citibank offer  cash ...\n",
       "Name: Consumer complaint narrative, dtype: object"
      ]
     },
     "execution_count": 59,
     "metadata": {},
     "output_type": "execute_result"
    }
   ],
   "source": [
    "# Examine the normalize item description\n",
    "train['Consumer complaint narrative'][60:70]"
   ]
  },
  {
   "cell_type": "code",
   "execution_count": 60,
   "metadata": {
    "collapsed": true
   },
   "outputs": [],
   "source": [
    "#import nltk\n",
    "#nltk.download('punkt')\n",
    "from nltk.tokenize import word_tokenize\n",
    "\n",
    "text1 = train['Consumer complaint narrative'].iloc[65]\n",
    "tokens = word_tokenize(text1)\n"
   ]
  },
  {
   "cell_type": "markdown",
   "metadata": {},
   "source": [
    "## TF - IDF\n",
    "\n",
    "Main Goal - Measure how important a word or phrase is within a collection of documents. Its essentially **weigh down** terms that appear frequently and **scale up** unique terms.\n",
    "\n",
    "** TF Term Frequency-** ( Number of times terms t appears in a document / Total number of terms in the document)  \n",
    "** IDF Inverse Document Frequency-** log_e( Total number of documents / Number of documents with term t in it)  \n",
    "** TF X IDF-** A measure of how important term in a document.  \n",
    "\n",
    "* When you have a **high** term frequency in a document and it appears in many documents in the corpus = ** Low TFIDF**  \n",
    "* When you have a **low** term frequency in a document and it appears in **not so many** documents in the corpus = ** High TFIDF**  \n",
    "\n",
    "**CORPUS =  Collection of documents**  \n",
    "\n",
    "** Important Parameters**  \n",
    "\n",
    "1. ngram_range  \n",
    "2. stop words  \n",
    "3. lowercase  \n",
    "4. max_df  :-  max threshold that will ignore a term that has a document frequency higher than that.    \n",
    "5. min_df  :-  min threshold that will ignore a term that has a document frequency lower than that.  \n",
    "6. max_features :- get the assigned amount of features with highest amount of term frequencies(scores).  \n",
    "\n"
   ]
  },
  {
   "cell_type": "markdown",
   "metadata": {
    "collapsed": true
   },
   "source": [
    "### Count Vectorizer\n",
    "\n",
    "Generating new features of **Product Name** and **Issue**"
   ]
  },
  {
   "cell_type": "code",
   "execution_count": 61,
   "metadata": {},
   "outputs": [
    {
     "name": "stdout",
     "output_type": "stream",
     "text": [
      "(226385, 29)\n"
     ]
    }
   ],
   "source": [
    "# Apply Count Vectorizer to \"Product\", this converts it into a sparse matrix \n",
    "\n",
    "cv = CountVectorizer(min_df=10)\n",
    "X_Product = cv.fit_transform(train['Product'])\n",
    "X_Product\n",
    "\n",
    "print(str(X_Product.shape))"
   ]
  },
  {
   "cell_type": "code",
   "execution_count": 62,
   "metadata": {},
   "outputs": [
    {
     "name": "stdout",
     "output_type": "stream",
     "text": [
      "(226385, 208)\n"
     ]
    }
   ],
   "source": [
    "cv = CountVectorizer(min_df=10)\n",
    "X_Issue = cv.fit_transform(train['Issue'])\n",
    "X_Issue\n",
    "\n",
    "print(str(X_Issue.shape))"
   ]
  },
  {
   "cell_type": "code",
   "execution_count": 77,
   "metadata": {},
   "outputs": [
    {
     "name": "stdout",
     "output_type": "stream",
     "text": [
      "(226385, 55000)\n"
     ]
    }
   ],
   "source": [
    "# Apply TFIDF to \"Consumer complaint Narrative\", \n",
    "tv = TfidfVectorizer(max_features=55000, ngram_range=(1, 2), stop_words='english',norm ='l1')\n",
    "X_description = tv.fit_transform(train['Consumer complaint narrative'])\n",
    "\n",
    "print(str(X_description.shape))"
   ]
  },
  {
   "cell_type": "markdown",
   "metadata": {},
   "source": [
    "#### Observing TF-IDF weights"
   ]
  },
  {
   "cell_type": "code",
   "execution_count": 78,
   "metadata": {},
   "outputs": [
    {
     "data": {
      "text/html": [
       "<div>\n",
       "<style scoped>\n",
       "    .dataframe tbody tr th:only-of-type {\n",
       "        vertical-align: middle;\n",
       "    }\n",
       "\n",
       "    .dataframe tbody tr th {\n",
       "        vertical-align: top;\n",
       "    }\n",
       "\n",
       "    .dataframe thead th {\n",
       "        text-align: right;\n",
       "    }\n",
       "</style>\n",
       "<table border=\"1\" class=\"dataframe\">\n",
       "  <thead>\n",
       "    <tr style=\"text-align: right;\">\n",
       "      <th></th>\n",
       "      <th>tfidf</th>\n",
       "    </tr>\n",
       "  </thead>\n",
       "  <tbody>\n",
       "    <tr>\n",
       "      <th>credit</th>\n",
       "      <td>1.620461</td>\n",
       "    </tr>\n",
       "    <tr>\n",
       "      <th>account</th>\n",
       "      <td>1.849656</td>\n",
       "    </tr>\n",
       "    <tr>\n",
       "      <th>report</th>\n",
       "      <td>2.133880</td>\n",
       "    </tr>\n",
       "    <tr>\n",
       "      <th>information</th>\n",
       "      <td>2.239886</td>\n",
       "    </tr>\n",
       "    <tr>\n",
       "      <th>received</th>\n",
       "      <td>2.240665</td>\n",
       "    </tr>\n",
       "    <tr>\n",
       "      <th>time</th>\n",
       "      <td>2.323374</td>\n",
       "    </tr>\n",
       "    <tr>\n",
       "      <th>company</th>\n",
       "      <td>2.348559</td>\n",
       "    </tr>\n",
       "    <tr>\n",
       "      <th>told</th>\n",
       "      <td>2.351780</td>\n",
       "    </tr>\n",
       "    <tr>\n",
       "      <th>called</th>\n",
       "      <td>2.389258</td>\n",
       "    </tr>\n",
       "    <tr>\n",
       "      <th>payment</th>\n",
       "      <td>2.416073</td>\n",
       "    </tr>\n",
       "  </tbody>\n",
       "</table>\n",
       "</div>"
      ],
      "text/plain": [
       "                tfidf\n",
       "credit       1.620461\n",
       "account      1.849656\n",
       "report       2.133880\n",
       "information  2.239886\n",
       "received     2.240665\n",
       "time         2.323374\n",
       "company      2.348559\n",
       "told         2.351780\n",
       "called       2.389258\n",
       "payment      2.416073"
      ]
     },
     "execution_count": 78,
     "metadata": {},
     "output_type": "execute_result"
    }
   ],
   "source": [
    "\n",
    "#  create a dictionary mapping the tokens to their tfidf values\n",
    "tfidf = dict(zip(tv.get_feature_names(), tv.idf_))\n",
    "tfidf = pd.DataFrame(columns=['tfidf']).from_dict( dict(tfidf), orient='index')\n",
    "tfidf.columns = ['tfidf']\n",
    "\n",
    "# Lowest TFIDF Scores\n",
    "tfidf.sort_values(by=['tfidf'], ascending=True).head(10)"
   ]
  },
  {
   "cell_type": "code",
   "execution_count": 79,
   "metadata": {},
   "outputs": [
    {
     "data": {
      "text/html": [
       "<div>\n",
       "<style scoped>\n",
       "    .dataframe tbody tr th:only-of-type {\n",
       "        vertical-align: middle;\n",
       "    }\n",
       "\n",
       "    .dataframe tbody tr th {\n",
       "        vertical-align: top;\n",
       "    }\n",
       "\n",
       "    .dataframe thead th {\n",
       "        text-align: right;\n",
       "    }\n",
       "</style>\n",
       "<table border=\"1\" class=\"dataframe\">\n",
       "  <thead>\n",
       "    <tr style=\"text-align: right;\">\n",
       "      <th></th>\n",
       "      <th>tfidf</th>\n",
       "    </tr>\n",
       "  </thead>\n",
       "  <tbody>\n",
       "    <tr>\n",
       "      <th>starred starred</th>\n",
       "      <td>12.636850</td>\n",
       "    </tr>\n",
       "    <tr>\n",
       "      <th>nv restaurants</th>\n",
       "      <td>12.231384</td>\n",
       "    </tr>\n",
       "    <tr>\n",
       "      <th>nv gasoline</th>\n",
       "      <td>12.231384</td>\n",
       "    </tr>\n",
       "    <tr>\n",
       "      <th>banklender servicer</th>\n",
       "      <td>12.231384</td>\n",
       "    </tr>\n",
       "    <tr>\n",
       "      <th>restaurants view</th>\n",
       "      <td>12.231384</td>\n",
       "    </tr>\n",
       "    <tr>\n",
       "      <th>fp fp</th>\n",
       "      <td>12.231384</td>\n",
       "    </tr>\n",
       "    <tr>\n",
       "      <th>details nv</th>\n",
       "      <td>12.231384</td>\n",
       "    </tr>\n",
       "    <tr>\n",
       "      <th>alleged banklender</th>\n",
       "      <td>12.231384</td>\n",
       "    </tr>\n",
       "    <tr>\n",
       "      <th>gasoline view</th>\n",
       "      <td>12.231384</td>\n",
       "    </tr>\n",
       "    <tr>\n",
       "      <th>agco</th>\n",
       "      <td>12.231384</td>\n",
       "    </tr>\n",
       "  </tbody>\n",
       "</table>\n",
       "</div>"
      ],
      "text/plain": [
       "                         tfidf\n",
       "starred starred      12.636850\n",
       "nv restaurants       12.231384\n",
       "nv gasoline          12.231384\n",
       "banklender servicer  12.231384\n",
       "restaurants view     12.231384\n",
       "fp fp                12.231384\n",
       "details nv           12.231384\n",
       "alleged banklender   12.231384\n",
       "gasoline view        12.231384\n",
       "agco                 12.231384"
      ]
     },
     "execution_count": 79,
     "metadata": {},
     "output_type": "execute_result"
    }
   ],
   "source": [
    "# HIghest TFIDF Scores\n",
    "tfidf.sort_values(by=['tfidf'], ascending=False).head(10)"
   ]
  },
  {
   "cell_type": "code",
   "execution_count": 80,
   "metadata": {
    "collapsed": true
   },
   "outputs": [],
   "source": [
    "# Combine everything together\n",
    "sparse_merge = hstack((X_description, X_Product, X_Issue)).tocsr()"
   ]
  },
  {
   "cell_type": "code",
   "execution_count": null,
   "metadata": {
    "collapsed": true
   },
   "outputs": [],
   "source": []
  },
  {
   "cell_type": "code",
   "execution_count": null,
   "metadata": {
    "collapsed": true
   },
   "outputs": [],
   "source": [
    "def tokenize_string(my_string):\n",
    "    \"\"\" DONE. You should use this in your tokenize function.\n",
    "    \"\"\"\n",
    "    #return re.findall('[\\w\\-]+', my_string.lower())\n",
    "    #\\W -> Matches any non-alphanumeric character; \n",
    "    #this is equivalent to the class [^a-zA-Z0-9_]. \n",
    "    \n",
    "    stemmer = SnowballStemmer(\"english\", ignore_stopwords=True)\n",
    "    \n",
    "    no_numbers = my_string.lower().translate({ord(ch): None for ch in '0123456789'})\n",
    "    word_list = re.sub('\\W+', ' ', no_numbers).split()\n",
    "    stop = set(stopwords.words('english'))\n",
    "    output = []\n",
    "    \n",
    "    for word in word_list:\n",
    "        if word != \"xxxx\" and word not in stop:\n",
    "            word = stemmer.stem(word)\n",
    "            if len(word) > 2:\n",
    "                output.append(word)\n",
    "            \n",
    "    word_list = output\n",
    "    \n",
    "    # preprocessing ->\n",
    "   \n",
    "    # remove too low and too high frequency words -> we can't calculate here\n",
    "\n",
    "    return(word_list)"
   ]
  },
  {
   "cell_type": "code",
   "execution_count": null,
   "metadata": {
    "collapsed": true
   },
   "outputs": [],
   "source": [
    "def tokenize(data):\n",
    "    \"\"\"\n",
    "    Append a new column to the movies DataFrame with header 'tokens'.\n",
    "    This will contain a list of strings, one per token, extracted\n",
    "    from the 'genre' field of each movie. Use the tokenize_string method above.\n",
    "    Note: you may modify the movies parameter directly; no need to make\n",
    "    a new copy.\n",
    "    Params:\n",
    "      movies...The movies DataFrame\n",
    "    Returns:\n",
    "      The movies DataFrame, augmented to include a new column called 'tokens'.\n",
    "    >>> movies = pd.DataFrame([[123, 'Horror|Romance'], [456, 'Sci-Fi']], columns=['movieId', 'genres'])\n",
    "    >>> movies = tokenize(movies)\n",
    "    >>> movies['tokens'].tolist()\n",
    "    [['horror', 'romance'], ['sci-fi']]\n",
    "    \"\"\"\n",
    "    ###TODO\n",
    "    \n",
    "    # step 1 -> do tokenize_string for each row in movies['genres']\n",
    "\n",
    "    all_words = []\n",
    "    for row in data['Consumer complaint narrative']:\n",
    "        #genre_list = re.sub(r'[||)|(]', r' ',row.lower()).split()\n",
    "        word_list = tokenize_string(row)\n",
    "        #print(word_list)\n",
    "        #print(len(genre_list))\n",
    "        all_words.append(word_list)\n",
    "    \n",
    "    # step 2 -> add column tokens in movies\n",
    "    array = np.array(all_words)\n",
    "    \n",
    "    #print(array[:5])\n",
    "    #print('#list = ',len(array))\n",
    "    \n",
    "    new_data = d.assign(tokens = array)\n",
    "    \n",
    "    #print(new_movies.head(5))\n",
    "    return(new_data)  "
   ]
  },
  {
   "cell_type": "code",
   "execution_count": null,
   "metadata": {
    "collapsed": true
   },
   "outputs": [],
   "source": [
    "def featurize(data):\n",
    "    \"\"\"\n",
    "    Append a new column to the movies DataFrame with header 'features'.\n",
    "    Each row will contain a csr_matrix of shape (1, num_features). Each\n",
    "    entry in this matrix will contain the tf-idf value of the term, as\n",
    "    defined in class:\n",
    "    tfidf(i, d) := tf(i, d) / max_k tf(k, d) * log10(N/df(i))\n",
    "    where:\n",
    "    i is a term\n",
    "    d is a document (movie)\n",
    "    tf(i, d) is the frequency of term i in document d\n",
    "    max_k tf(k, d) is the maximum frequency of any term in document d\n",
    "    N is the number of documents (movies)\n",
    "    df(i) is the number of unique documents containing term i\n",
    "    Params:\n",
    "      movies...The movies DataFrame\n",
    "    Returns:\n",
    "      A tuple containing:\n",
    "      - The movies DataFrame, which has been modified to include a column named 'features'.\n",
    "      - The vocab, a dict from term to int. Make sure the vocab is sorted alphabetically as in a2 (e.g., {'aardvark': 0, 'boy': 1, ...})\n",
    "   \n",
    "    \"\"\"\n",
    "    ###TODO\n",
    "    #print(movies[:5]) \n",
    "    \n",
    "    #step 1 -> build a vocab and df(term)\n",
    "    vocab = {}\n",
    "    vocab_list = []\n",
    "    df = {}\n",
    "    \n",
    "    for tokenization in data['tokens']:\n",
    "        tokens = list(set(tokenization))\n",
    "        for term in tokens:\n",
    "            if term not in vocab.keys():\n",
    "                vocab.setdefault(term,-1)\n",
    "             \n",
    "            if term not in df.keys(): \n",
    "                df.setdefault(term,1)\n",
    "            else :\n",
    "                df[term] += 1\n",
    "             \n",
    "             \n",
    "    #print('vocab = ', vocab)\n",
    "    \n",
    "    vocab_list = sorted(vocab.keys(), key = lambda x:x)\n",
    "    #print('vocab_list = ', vocab_list)\n",
    "    \n",
    "    for i,term in enumerate(vocab_list):\n",
    "         vocab[term] = i\n",
    "            \n",
    "    #        \n",
    "         \n",
    "    #print('Sorted vocab = ', sorted(vocab.items()))\n",
    "    #print('df = ',sorted(df.items(), key=lambda x:x[0]))\n",
    "    \n",
    "    # step 2 -> Build a csr_matrix for each row of movies['tokens']\n",
    "   \n",
    "    #print('N = ',N)\n",
    "    \n",
    "    #[comedy, comedy, comedy, horror]  -> max_k tf(k, d) = 3 \n",
    "    #[action, comedy,thriller] -> tf(action, d) =1\n",
    "    # df(i) ->\n",
    "    #num_features is the total number of unique features across all documents.\n",
    "    \n",
    "    N = len(data)\n",
    "    \n",
    "    csr_array =[]\n",
    "    \n",
    "    for row1 in data['tokens']:\n",
    "        csr_row = []\n",
    "        csr_col = []\n",
    "        csr_data = []\n",
    "        max_k = 0\n",
    "       \n",
    "        max_k = Counter(row1).most_common()[:1][0][1]\n",
    "        row = list(set(row1))\n",
    "\n",
    "        #print('removed duplicates =',row)\n",
    "        for term in row:       \n",
    "            csr_row.append(0)\n",
    "            csr_col.append(vocab[term])\n",
    "            #tfidf(i, d) := tf(i, d) / max_k tf(k, d) * log10(N/df(i))\n",
    "            tf = Counter(row1)[term]\n",
    "            #max_k = max_k.most_common()[:1][0][1]\n",
    "         \n",
    "            #print('term = %s ---> tf = %d ---> max_k = %d'%(term,tf,max_k))\n",
    "            tfidf = (tf / max_k) * math.log10(N/df[term])\n",
    "            csr_data.append(tfidf)\n",
    "           \n",
    "         \n",
    "        #print('csr_row = ',csr_row) \n",
    "        #print('csr_col = ',csr_col)\n",
    "        #print('csr_data=',csr_data)\n",
    "        X = csr_matrix((csr_data, (csr_row, csr_col)), shape=(1, len(vocab)), dtype=np.float64)\n",
    "       \n",
    "        #print('X ->\\n',X.toarray())\n",
    "        csr_array.append(X)\n",
    "    \n",
    "\n",
    "    # step 3 -> add column features to movies \n",
    "    #print('size of csr_array = ',len(csr_array)) \n",
    "    #print('CSR = ',csr_array[:2])  \n",
    "    new_data = data.assign(features = csr_array)\n",
    "    #print(new_movies.head(2))\n",
    "     \n",
    "    return(new_data,vocab)   \n",
    "    \n",
    "    pass"
   ]
  },
  {
   "cell_type": "code",
   "execution_count": null,
   "metadata": {
    "collapsed": true
   },
   "outputs": [],
   "source": [
    "data = tokenize(d)"
   ]
  },
  {
   "cell_type": "code",
   "execution_count": null,
   "metadata": {
    "collapsed": true
   },
   "outputs": [],
   "source": [
    "print(data.head(20)['tokens'])\n",
    "print(data.tail(20)['tokens'])"
   ]
  },
  {
   "cell_type": "code",
   "execution_count": null,
   "metadata": {
    "collapsed": true,
    "scrolled": true
   },
   "outputs": [],
   "source": [
    "#create new features\n",
    "class_vector = pd.factorize(data['Company response to consumer'])\n",
    "data['class_vector'] = pd.Series(class_vector[0])\n",
    "data['combined_product'] = data.apply(lambda x: \"%s-%s\" % (x['Product'], x['Sub-product']), axis = 1)\n",
    "data['combined_issue'] = data.apply(lambda x: \"%s-%s\" % (x['Issue'], x['Sub-issue']), axis = 1)\n",
    "print(data[\"class_vector\"].head())\n",
    "print(data[\"combined_product\"].head())\n",
    "print(data[\"combined_issue\"].head())\n"
   ]
  },
  {
   "cell_type": "code",
   "execution_count": null,
   "metadata": {
    "collapsed": true
   },
   "outputs": [],
   "source": [
    "decision_tree_data = data.ix[:, ['combined_product', 'combined_issue']]\n",
    "clf = tree.DecisionTreeClassifier(max_depth=3)\n",
    "product_enc = preprocessing.OneHotEncoder()\n",
    "issue_enc = preprocessing.OneHotEncoder()\n",
    "x = DataFrameMapper([\n",
    "        ('combined_product', product_enc), \n",
    "        ('combined_issue',issue_enc)\n",
    "    ])\n",
    "x_1 = x.fit_transform(decision_tree_data)\n",
    "x_1"
   ]
  },
  {
   "cell_type": "code",
   "execution_count": null,
   "metadata": {
    "collapsed": true
   },
   "outputs": [],
   "source": [
    "\n",
    "clf = clf.fit( x_1, y = data['Company response to consumer'].values)"
   ]
  },
  {
   "cell_type": "code",
   "execution_count": null,
   "metadata": {
    "collapsed": true
   },
   "outputs": [],
   "source": [
    "dot_data = tree.export_graphviz(clf, out_file=None,   \n",
    "                         class_names=data['Company response to consumer'].values,  \n",
    "                         filled=True, rounded=True,  \n",
    "                         special_characters=True)\n",
    "graph = pydotplus.graph_from_dot_data(dot_data)\n",
    "Image(graph.create_png())"
   ]
  },
  {
   "cell_type": "code",
   "execution_count": null,
   "metadata": {
    "collapsed": true
   },
   "outputs": [],
   "source": [
    "data, vocab = featurize(data)"
   ]
  },
  {
   "cell_type": "code",
   "execution_count": null,
   "metadata": {
    "collapsed": true
   },
   "outputs": [],
   "source": [
    "print('vocab:')\n",
    "print(sorted(vocab.items())[:500])"
   ]
  },
  {
   "cell_type": "code",
   "execution_count": null,
   "metadata": {
    "collapsed": true
   },
   "outputs": [],
   "source": [
    "print(len(vocab))"
   ]
  },
  {
   "cell_type": "code",
   "execution_count": null,
   "metadata": {
    "collapsed": true
   },
   "outputs": [],
   "source": []
  },
  {
   "cell_type": "code",
   "execution_count": null,
   "metadata": {
    "collapsed": true
   },
   "outputs": [],
   "source": []
  },
  {
   "cell_type": "code",
   "execution_count": null,
   "metadata": {
    "collapsed": true
   },
   "outputs": [],
   "source": []
  }
 ],
 "metadata": {
  "anaconda-cloud": {},
  "kernelspec": {
   "display_name": "Python [Root]",
   "language": "python",
   "name": "Python [Root]"
  },
  "language_info": {
   "codemirror_mode": {
    "name": "ipython",
    "version": 3
   },
   "file_extension": ".py",
   "mimetype": "text/x-python",
   "name": "python",
   "nbconvert_exporter": "python",
   "pygments_lexer": "ipython3",
   "version": "3.5.3"
  }
 },
 "nbformat": 4,
 "nbformat_minor": 1
}
